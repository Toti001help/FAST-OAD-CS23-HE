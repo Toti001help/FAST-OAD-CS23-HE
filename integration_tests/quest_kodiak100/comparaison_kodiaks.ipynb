{
 "cells": [
  {
   "cell_type": "markdown",
   "id": "7eafe974-f725-4702-950d-2454444fc4a8",
   "metadata": {},
   "source": [
    "# Display of the mission parameters Kodiak100"
   ]
  },
  {
   "cell_type": "code",
   "execution_count": null,
   "id": "dee26570-a005-4002-ac21-9f145ad45b16",
   "metadata": {
    "tags": []
   },
   "outputs": [],
   "source": [
    "import os.path as pth\n",
    "import logging\n",
    "\n",
    "import fastoad.api as oad\n",
    "import fastga_he.api as oad_he\n",
    "import fastga.utils.postprocessing.post_processing_api as api_plots\n",
    "\n",
    "DATA_FOLDER_PATH = \"data\"\n",
    "RESULTS_FOLDER_PATH = \"results\"\n",
    "WORK_FOLDER_PATH = \"workdir\"\n",
    "\n",
    "CONFIGURATION_FILE_REF = pth.join(DATA_FOLDER_PATH, \"full_sizing_kodiak100.yml\")\n",
    "PT_FILE_REF = pth.join(DATA_FOLDER_PATH, \"turboshaft_propulsion.yml\")\n",
    "OUTPUT_FILE_REF = pth.join(RESULTS_FOLDER_PATH, \"oad_process_outputs_ref.xml\")\n",
    "MISSION_FILE_REF = pth.join(RESULTS_FOLDER_PATH, \"turboshaft_propulsion.csv\")\n",
    "PT_WATCHER_FILE_REF = pth.join(RESULTS_FOLDER_PATH, \"fuel_propulsion_pt_watcher.csv\")\n",
    "\n",
    "CONFIGURATION_FILE_HYB = pth.join(DATA_FOLDER_PATH, \"full_sizing_hybrid_kodiak.yml\")\n",
    "PT_FILE_HYB = pth.join(DATA_FOLDER_PATH, \"hybrid_propulsion_full_sizing.yml\")\n",
    "OUTPUT_FILE_HYB = pth.join(RESULTS_FOLDER_PATH, \"oad_process_outputs_full_sizing_hybrid.xml\")\n",
    "MISSION_FILE_HYB = pth.join(RESULTS_FOLDER_PATH, \"full_sizing_hybrid_propulsion.csv\")\n",
    "PT_WATCHER_FILE_HYB = pth.join(RESULTS_FOLDER_PATH, \"hybridized_full_sizing_kodiak.csv\")\n",
    "\n",
    "# For having log messages on screen\n",
    "logging.basicConfig(level=logging.WARNING, format=\"%(levelname)-8s: %(message)s\")"
   ]
  },
  {
   "cell_type": "markdown",
   "id": "1faf1a2d-c90f-4efe-8cc7-d5471b4170ac",
   "metadata": {},
   "source": [
    "# Preprocessing\n",
    "\n",
    "Because the post processing function expects SI units and don't really check, there can be some weird graphs if some data are not post processed. This next cell is meant to solve that"
   ]
  },
  {
   "cell_type": "code",
   "execution_count": null,
   "id": "e984511b-472d-4c28-9381-21bd72ea81a8",
   "metadata": {},
   "outputs": [],
   "source": [
    "from openmdao.utils.units import convert_units\n",
    "\n",
    "datafile_hyb = oad.DataFile(OUTPUT_FILE_HYB)\n",
    "\n",
    "# Convert fuselage length to m\n",
    "fuselage_length = convert_units(\n",
    "    datafile_hyb[\"data:geometry:fuselage:length\"].value[0],\n",
    "    datafile_hyb[\"data:geometry:fuselage:length\"].units,\n",
    "    \"m\",\n",
    ")\n",
    "datafile_hyb[\"data:geometry:fuselage:length\"].value = fuselage_length\n",
    "datafile_hyb[\"data:geometry:fuselage:length\"].units = \"m\"\n",
    "datafile_hyb.save()\n",
    "\n",
    "datafile_ref = oad.DataFile(OUTPUT_FILE_REF)\n",
    "\n",
    "# Convert fuselage length to m\n",
    "fuselage_length = convert_units(\n",
    "    datafile_ref[\"data:geometry:fuselage:length\"].value[0],\n",
    "    datafile_ref[\"data:geometry:fuselage:length\"].units,\n",
    "    \"m\",\n",
    ")\n",
    "datafile_ref[\"data:geometry:fuselage:length\"].value = fuselage_length\n",
    "datafile_ref[\"data:geometry:fuselage:length\"].units = \"m\"\n",
    "datafile_ref.save()"
   ]
  },
  {
   "cell_type": "code",
   "execution_count": null,
   "id": "f30eb7a5-33e7-4782-9413-49f17acb7d77",
   "metadata": {
    "tags": []
   },
   "outputs": [],
   "source": [
    "from IPython.display import IFrame\n",
    "\n",
    "NETWORK_FILE_REF = pth.join(WORK_FOLDER_PATH, \"kodiak_assembly_ref.html\")\n",
    "\n",
    "oad_he.power_train_network_viewer(\n",
    "    power_train_file_path=PT_FILE_REF, network_file_path=NETWORK_FILE_REF\n",
    ")\n",
    "\n",
    "# For some reason, this doesn't display icon. Opening it in Firefox does the trick.\n",
    "IFrame(src=NETWORK_FILE_REF, width=\"100%\", height=\"500px\")"
   ]
  },
  {
   "cell_type": "code",
   "execution_count": null,
   "id": "ad498851-1cae-4f3d-9a3c-b729bfba8a93",
   "metadata": {
    "tags": []
   },
   "outputs": [],
   "source": [
    "from IPython.display import IFrame\n",
    "\n",
    "NETWORK_FILE_HYB = pth.join(WORK_FOLDER_PATH, \"kodiak_assembly_hyb.html\")\n",
    "\n",
    "oad_he.power_train_network_viewer(\n",
    "    power_train_file_path=PT_FILE_HYB, network_file_path=NETWORK_FILE_HYB\n",
    ")\n",
    "\n",
    "# For some reason, this doesn't display icon. Opening it in Firefox does the trick.\n",
    "IFrame(src=NETWORK_FILE_HYB, width=\"100%\", height=\"500px\")"
   ]
  },
  {
   "cell_type": "code",
   "execution_count": null,
   "id": "7604ec55-e29b-4707-82e2-5cd43e402dbf",
   "metadata": {},
   "outputs": [],
   "source": [
    "fig = api_plots.aircraft_geometry_plot(OUTPUT_FILE_REF, name=\"Reference Kodiak 100\")\n",
    "fig = api_plots.aircraft_geometry_plot(OUTPUT_FILE_HYB, name=\"Hybrid Kodiak 100\", fig=fig)\n",
    "fig.update_layout(height=800, width=1200)\n",
    "fig.show()"
   ]
  },
  {
   "cell_type": "code",
   "execution_count": null,
   "id": "b5032304-e102-45b2-ba35-ae480c3f4c4c",
   "metadata": {},
   "outputs": [],
   "source": [
    "fig = api_plots.mass_breakdown_bar_plot(OUTPUT_FILE_REF, name=\"Reference Kodiak 100\")\n",
    "fig = api_plots.mass_breakdown_bar_plot(OUTPUT_FILE_HYB, name=\"Hybrid Kodiak 100\", fig=fig)\n",
    "fig.update_layout(height=800, width=1200)\n",
    "fig.show()"
   ]
  },
  {
   "cell_type": "code",
   "execution_count": null,
   "id": "9d40e8b9-3f7e-4a5d-94b8-353b30c12662",
   "metadata": {},
   "outputs": [],
   "source": [
    "mission = oad.MissionViewer()\n",
    "mission.add_mission(MISSION_FILE_REF, name=\"Reference Kodiak 100\")\n",
    "mission.add_mission(MISSION_FILE_HYB, name=\"Hybrid Kodiak 100\")\n",
    "\n",
    "mission.display()"
   ]
  },
  {
   "cell_type": "code",
   "execution_count": null,
   "id": "72b320b9-7a87-457c-9369-42662c5d0a78",
   "metadata": {},
   "outputs": [],
   "source": []
  }
 ],
 "metadata": {
  "kernelspec": {
   "display_name": "Python 3 (ipykernel)",
   "language": "python",
   "name": "python3"
  },
  "language_info": {
   "codemirror_mode": {
    "name": "ipython",
    "version": 3
   },
   "file_extension": ".py",
   "mimetype": "text/x-python",
   "name": "python",
   "nbconvert_exporter": "python",
   "pygments_lexer": "ipython3",
   "version": "3.10.14"
  }
 },
 "nbformat": 4,
 "nbformat_minor": 5
}
