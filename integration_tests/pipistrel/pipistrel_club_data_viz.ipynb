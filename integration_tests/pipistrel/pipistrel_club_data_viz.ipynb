{
 "cells": [
  {
   "cell_type": "markdown",
   "id": "79d8b714-e3bc-4622-b1c1-574bcbb4e462",
   "metadata": {},
   "source": [
    "# Data visualization for the Pipistrel Velis Club"
   ]
  },
  {
   "cell_type": "code",
   "execution_count": null,
   "id": "961523bf-f072-4dfd-a70e-2f6556070ad9",
   "metadata": {},
   "outputs": [],
   "source": [
    "import os.path as pth\n",
    "import logging\n",
    "\n",
    "import fastga_he.api as oad_he\n",
    "\n",
    "DATA_FOLDER_PATH = \"data\"\n",
    "\n",
    "RESULTS_FOLDER_PATH = \"results\"\n",
    "\n",
    "CONFIGURATION_FILE = pth.join(DATA_FOLDER_PATH, \"pipistrel_club_assembly.yml\")\n",
    "PT_FILE = pth.join(DATA_FOLDER_PATH, \"pipistrel_club_assembly.yml\")\n",
    "# The following PT file is not used for sizing just to try out the network function\n",
    "SOURCE_FILE = pth.join(DATA_FOLDER_PATH, \"pipistrel_club_source.xml\")\n",
    "\n",
    "# For having log messages on screen\n",
    "logging.basicConfig(level=logging.WARNING, format=\"%(levelname)-8s: %(message)s\")"
   ]
  },
  {
   "cell_type": "code",
   "execution_count": null,
   "id": "faa74a3c-7990-48c4-bb19-2f209b0e6af0",
   "metadata": {},
   "outputs": [],
   "source": [
    "from IPython.display import IFrame\n",
    "\n",
    "NETWORK_FILE = pth.join(RESULTS_FOLDER_PATH, \"pipistrel_assembly.html\")\n",
    "\n",
    "oad_he.power_train_network_viewer(power_train_file_path=PT_FILE, network_file_path=NETWORK_FILE)\n",
    "\n",
    "# For some reason, this doesn't display icon. Opening it in Firefox does the trick.\n",
    "IFrame(src=NETWORK_FILE, width=\"100%\", height=\"500px\")"
   ]
  },
  {
   "cell_type": "code",
   "execution_count": null,
   "id": "b9a649c3-22b6-4e5b-8bf2-ce924c36a38a",
   "metadata": {},
   "outputs": [],
   "source": [
    "MISSION_DATA_FILE = pth.join(RESULTS_FOLDER_PATH, \"club_mission_data.csv\")\n",
    "PT_DATA_FILE = pth.join(RESULTS_FOLDER_PATH, \"pipistrel_club_pt_data.csv\")\n",
    "\n",
    "perfo_viewer = oad_he.PerformancesViewer(\n",
    "    power_train_data_file_path=PT_DATA_FILE,\n",
    "    mission_data_file_path=MISSION_DATA_FILE,\n",
    "    plot_height=800,\n",
    ")"
   ]
  },
  {
   "cell_type": "code",
   "execution_count": null,
   "id": "5955f012-6fc3-42c1-b36e-0b85ab8759cd",
   "metadata": {},
   "outputs": [],
   "source": []
  }
 ],
 "metadata": {
  "kernelspec": {
   "display_name": "Python 3 (ipykernel)",
   "language": "python",
   "name": "python3"
  },
  "language_info": {
   "codemirror_mode": {
    "name": "ipython",
    "version": 3
   },
   "file_extension": ".py",
   "mimetype": "text/x-python",
   "name": "python",
   "nbconvert_exporter": "python",
   "pygments_lexer": "ipython3",
   "version": "3.10.14"
  }
 },
 "nbformat": 4,
 "nbformat_minor": 5
}
