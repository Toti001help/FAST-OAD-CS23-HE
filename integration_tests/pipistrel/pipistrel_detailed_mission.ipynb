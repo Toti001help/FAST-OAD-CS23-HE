{
 "cells": [
  {
   "cell_type": "markdown",
   "id": "c34e7b0c-82a2-465e-821a-f43da6f5ca4c",
   "metadata": {},
   "source": [
    "# Detailed mission computation of the Pipistrel SW128"
   ]
  },
  {
   "cell_type": "code",
   "execution_count": null,
   "id": "177a3dda-1f1a-4941-97b7-c89f8f888840",
   "metadata": {},
   "outputs": [],
   "source": [
    "import os.path as pth\n",
    "import logging\n",
    "import shutil\n",
    "\n",
    "import fastoad.api as oad\n",
    "import fastga_he.api as oad_he\n",
    "\n",
    "DATA_FOLDER_PATH = \"data\"\n",
    "\n",
    "WORK_FOLDER_PATH = \"workdir\"\n",
    "\n",
    "CONFIGURATION_FILE = pth.join(WORK_FOLDER_PATH, \"pipistrel_mission_configuration.yml\")\n",
    "PT_FILE = pth.join(WORK_FOLDER_PATH, \"pipistrel_assembly_detailed_mission.yml\")\n",
    "# The following PT file is not used for sizing just to try out the network function\n",
    "SOURCE_FILE = pth.join(WORK_FOLDER_PATH, \"pipistrel_mission_in.xml\")\n",
    "\n",
    "# For having log messages on screen\n",
    "logging.basicConfig(level=logging.WARNING, format=\"%(levelname)-8s: %(message)s\")"
   ]
  },
  {
   "cell_type": "code",
   "execution_count": null,
   "id": "ed04c66c-1a07-478c-9f5c-a697ca7858f7",
   "metadata": {},
   "outputs": [],
   "source": [
    "# We copy all the useful file in the workdir\n",
    "\n",
    "shutil.copy(pth.join(DATA_FOLDER_PATH, \"pipistrel_mission_configuration.yml\"), CONFIGURATION_FILE)\n",
    "shutil.copy(pth.join(DATA_FOLDER_PATH, \"pipistrel_assembly_detailed_mission.yml\"), PT_FILE)\n",
    "shutil.copy(pth.join(DATA_FOLDER_PATH, \"pipistrel_mission_in.xml\"), SOURCE_FILE)"
   ]
  },
  {
   "cell_type": "code",
   "execution_count": null,
   "id": "03ff870c-fef7-426b-98fa-580bb30f495a",
   "metadata": {},
   "outputs": [],
   "source": [
    "import warnings\n",
    "import openmdao.api as om\n",
    "\n",
    "warnings.filterwarnings(\"ignore\", category=om.OpenMDAOWarning)"
   ]
  },
  {
   "cell_type": "code",
   "execution_count": null,
   "id": "1ef9fe8b-0f51-467c-aaf4-7f77fcd0af00",
   "metadata": {},
   "outputs": [],
   "source": [
    "NETWORK_FILE = pth.join(WORK_FOLDER_PATH, \"pipistrel_assembly.html\")\n",
    "\n",
    "oad_he.power_train_network_viewer(power_train_file_path=PT_FILE, network_file_path=NETWORK_FILE)\n",
    "\n",
    "from IPython.display import IFrame\n",
    "\n",
    "# For some reason, this doesn't display icon. Opening it in Firefox does the trick.\n",
    "IFrame(src=NETWORK_FILE, width=\"100%\", height=\"500px\")"
   ]
  },
  {
   "cell_type": "code",
   "execution_count": null,
   "id": "f0b8ab38-2dd2-435c-ac99-7c03007eb71f",
   "metadata": {},
   "outputs": [],
   "source": [
    "oad.list_modules(CONFIGURATION_FILE)"
   ]
  },
  {
   "cell_type": "code",
   "execution_count": null,
   "id": "25ad8ea1-8827-491b-8111-3c7058e91e58",
   "metadata": {},
   "outputs": [],
   "source": [
    "oad.generate_inputs(CONFIGURATION_FILE, SOURCE_FILE, overwrite=True)"
   ]
  },
  {
   "cell_type": "code",
   "execution_count": null,
   "id": "07ba19f8-ad69-4373-a0ba-e9feb9807486",
   "metadata": {},
   "outputs": [],
   "source": [
    "import numpy as np\n",
    "\n",
    "# To do the actual computation of the mission, we have to do some shenanigans to properly initiate the current outputed by the battery, else it doesn't converge.\n",
    "\n",
    "configurator = oad.FASTOADProblemConfigurator(CONFIGURATION_FILE)\n",
    "problem = configurator.get_problem(read_inputs=True)\n",
    "problem.setup()\n",
    "\n",
    "# An attempt to reach 48 kW in climb\n",
    "# problem.set_val(\"data:mission:sizing:main_route:climb:climb_rate:sea_level\", units=\"ft/min\", val=550.0)\n",
    "# problem.set_val(\"data:mission:sizing:main_route:climb:climb_rate:cruise_level\", units=\"ft/min\", val=510.0)\n",
    "\n",
    "problem.set_val(\"data:mission:sizing:main_route:descent:descent_rate\", units=\"ft/min\", val=-500.0)\n",
    "\n",
    "problem.run_model()\n",
    "problem.write_outputs()"
   ]
  },
  {
   "cell_type": "code",
   "execution_count": null,
   "id": "0f12ac3a-380f-4a09-b515-d0b5170490e4",
   "metadata": {},
   "outputs": [],
   "source": [
    "MISSION_DATA_FILE = pth.join(WORK_FOLDER_PATH, \"mission_data_detailed.csv\")\n",
    "PT_DATA_FILE = pth.join(WORK_FOLDER_PATH, \"pipistrel_power_train_data.csv\")\n",
    "\n",
    "perfo_viewer = oad_he.PerformancesViewer(\n",
    "    power_train_data_file_path=PT_DATA_FILE,\n",
    "    mission_data_file_path=MISSION_DATA_FILE,\n",
    "    plot_height=800,\n",
    ")"
   ]
  },
  {
   "cell_type": "code",
   "execution_count": null,
   "id": "cce23a33-80a6-4c74-b105-c29566cd0d16",
   "metadata": {},
   "outputs": [],
   "source": []
  }
 ],
 "metadata": {
  "kernelspec": {
   "display_name": "Python 3 (ipykernel)",
   "language": "python",
   "name": "python3"
  },
  "language_info": {
   "codemirror_mode": {
    "name": "ipython",
    "version": 3
   },
   "file_extension": ".py",
   "mimetype": "text/x-python",
   "name": "python",
   "nbconvert_exporter": "python",
   "pygments_lexer": "ipython3",
   "version": "3.8.16"
  }
 },
 "nbformat": 4,
 "nbformat_minor": 5
}
