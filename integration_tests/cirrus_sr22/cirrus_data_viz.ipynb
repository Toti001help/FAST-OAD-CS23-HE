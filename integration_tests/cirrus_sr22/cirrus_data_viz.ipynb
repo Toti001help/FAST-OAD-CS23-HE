{
 "cells": [
  {
   "cell_type": "markdown",
   "id": "79d8b714-e3bc-4622-b1c1-574bcbb4e462",
   "metadata": {},
   "source": [
    "# Data visualization for the Electric Cirrus SR22"
   ]
  },
  {
   "cell_type": "code",
   "execution_count": 1,
   "id": "961523bf-f072-4dfd-a70e-2f6556070ad9",
   "metadata": {},
   "outputs": [],
   "source": [
    "import os.path as pth\n",
    "import logging\n",
    "\n",
    "import fastga_he.api as oad_he\n",
    "\n",
    "DATA_FOLDER_PATH = \"data\"\n",
    "\n",
    "RESULTS_FOLDER_PATH = \"results\"\n",
    "\n",
    "# For having log messages on screen\n",
    "logging.basicConfig(level=logging.WARNING, format=\"%(levelname)-8s: %(message)s\")"
   ]
  },
  {
   "cell_type": "code",
   "execution_count": null,
   "id": "b9a649c3-22b6-4e5b-8bf2-ce924c36a38a",
   "metadata": {},
   "outputs": [],
   "source": [
    "MISSION_DATA_FILE = pth.join(RESULTS_FOLDER_PATH, \"electric_propulsion.csv\")\n",
    "PT_DATA_FILE = pth.join(RESULTS_FOLDER_PATH, \"cirrus_sr22_electric.csv\")\n",
    "\n",
    "perfo_viewer = oad_he.PerformancesViewer(\n",
    "    power_train_data_file_path=PT_DATA_FILE,\n",
    "    mission_data_file_path=MISSION_DATA_FILE,\n",
    "    plot_height=800,\n",
    ")"
   ]
  },
  {
   "cell_type": "markdown",
   "id": "f71ff92f-104c-4c96-ba2e-31b81106bc0e",
   "metadata": {},
   "source": [
    "# Data visualization for the Electric Cirrus SR22 with two stacked motors"
   ]
  },
  {
   "cell_type": "code",
   "execution_count": 2,
   "id": "6b6b3ba9-f11c-456b-a626-fdc132b29f52",
   "metadata": {
    "tags": []
   },
   "outputs": [
    {
     "data": {
      "application/vnd.jupyter.widget-view+json": {
       "model_id": "e3dac3916df94692a9d7127481f955cd",
       "version_major": 2,
       "version_minor": 0
      },
      "text/plain": [
       "HBox(children=(Label(value='x:'), Dropdown(index=104, options=('propeller_1 rpm [1/min]', 'propeller_1 shaft_p…"
      ]
     },
     "metadata": {},
     "output_type": "display_data"
    },
    {
     "data": {
      "application/vnd.jupyter.widget-view+json": {
       "model_id": "197e9d81281a4314b5882160f413b4c5",
       "version_major": 2,
       "version_minor": 0
      },
      "text/plain": [
       "Output()"
      ]
     },
     "metadata": {},
     "output_type": "display_data"
    }
   ],
   "source": [
    "MISSION_DATA_FILE = pth.join(RESULTS_FOLDER_PATH, \"electric_propulsion_two_motors.csv\")\n",
    "PT_DATA_FILE = pth.join(RESULTS_FOLDER_PATH, \"cirrus_sr22_electric_two_motors.csv\")\n",
    "\n",
    "perfo_viewer = oad_he.PerformancesViewer(\n",
    "    power_train_data_file_path=PT_DATA_FILE,\n",
    "    mission_data_file_path=MISSION_DATA_FILE,\n",
    "    plot_height=800,\n",
    ")"
   ]
  },
  {
   "cell_type": "code",
   "execution_count": null,
   "id": "0d449aba-42cd-4352-8b2b-98702b56fa02",
   "metadata": {},
   "outputs": [],
   "source": []
  }
 ],
 "metadata": {
  "kernelspec": {
   "display_name": "Python 3 (ipykernel)",
   "language": "python",
   "name": "python3"
  },
  "language_info": {
   "codemirror_mode": {
    "name": "ipython",
    "version": 3
   },
   "file_extension": ".py",
   "mimetype": "text/x-python",
   "name": "python",
   "nbconvert_exporter": "python",
   "pygments_lexer": "ipython3",
   "version": "3.11.13"
  }
 },
 "nbformat": 4,
 "nbformat_minor": 5
}
