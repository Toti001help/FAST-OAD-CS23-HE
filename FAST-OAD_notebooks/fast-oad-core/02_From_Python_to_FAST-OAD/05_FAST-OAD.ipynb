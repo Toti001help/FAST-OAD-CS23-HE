{
 "cells": [
  {
   "cell_type": "markdown",
   "id": "c53b8291",
   "metadata": {},
   "source": [
    "<div class=\"row\">\n",
    "  <div class=\"column\">\n",
    "    <img src=\"./img/logo-onera.png\" width=\"200\">\n",
    "  </div>\n",
    "  <div class=\"column\">\n",
    "    <img src=\"./img/logo-ISAE_SUPAERO.png\" width=\"200\">\n",
    "  </div>\n",
    "</div>"
   ]
  },
  {
   "cell_type": "markdown",
   "id": "dac1b677",
   "metadata": {},
   "source": [
    "# The FAST-OAD framework\n",
    "\n",
    "One of the main differences between FAST-OAD and OpenMDAO is that FAST-OAD uses specific files as user interface, the main one being the configuration file. This configuration file enables the user to change the model that are used by simply changing some lines in this file. As a consequence, any change in the configuration file will change the problem that we want to solve. This creates an intermediate interface which allows the user to not go into the code. To do so, in FAST-OAD, each module can be registered using the decorator `@oad.RegisterOpenMDAOSystem` and a unique id.\n",
    "\n",
    "We will start this notebook by only registering the global group. To make the IDs more identifiable in this tutorial, we will have them start with \"tutorial.\". The top of the file containing the [global group](modules/FAST-OAD/mtow_loop.py) will now look like: \n",
    "\n",
    "> ```python\n",
    "> from .geometry.geometry import ComputeGeometry\n",
    "> from .aerodynamics.aerodynamics import ComputeAerodynamics\n",
    "> from .mass.mass import ComputeMass\n",
    "> from .performance.performance import ComputePerformance\n",
    "> from .update_mtow.update_mtow import UpdateMTOW\n",
    "> \n",
    "> import openmdao.api as om\n",
    "> \n",
    "> import fastoad.api as oad\n",
    "> \n",
    "> \n",
    "> @oad.RegisterOpenMDAOSystem(\"tutorial.fast_oad.global\")\n",
    "> class SizingLoopMTOW(om.Group):\n",
    ">   \"\"\"\n",
    ">   Gather all the discipline module/groups into the main problem\n",
    ">   \"\"\"\n",
    "> ```\n",
    "\n",
    "In terms of contents, other than adding the `@oad.RegisterOpenMDAOSystem` decorator, there is only one change needed compared to the models used in the [OpenMDAO notebook](04_OpenMDAO.ipynb). This change concerns the component that creates the design loop. Indeed, FAST-OAD does not yet support the affectation of the default value after the setup (which is how it was done in the [previous example](04_OpenMDAO.ipynb)), so we need to overwrite it inside the module that computes the new **MTOW**. It is important to do it because, if not done, OpenMDAO will start iterating with an MTOW of 1.0 kg (the default value in OpenMDAO) which will ultimately cause the process to crash, as illustrated in the [previous notebook](04_OpenMDAO.ipynb). The new building block is [here](modules/FAST-OAD/update_mtow/update_mtow.py), the only change being that when adding the output, we give a default value at 500.0 kg which is what we did in the previous example.\n",
    "\n",
    "Let's check that the modules is correctly registered. You will notice that there are six IDs starting with \"tutorial.\", not one. The reason will be explained further in the notebook."
   ]
  },
  {
   "cell_type": "code",
   "execution_count": 1,
   "id": "926d444e",
   "metadata": {},
   "outputs": [
    {
     "data": {
      "text/html": [
       "<table>\n",
       "<tbody>\n",
       "<tr><td>AVAILABLE MODULE IDENTIFIERS                     </td><td>MODULE PATH                                                                                                                                                                     </td></tr>\n",
       "<tr><td>fastga.aerodynamics.cl_cd_polar                  </td><td>C:\\Users\\a.carotenuto\\AppData\\Local\\anaconda3\\envs\\FAST-OAD-CS23-HE\\lib\\site-packages\\fastga\\models\\aerodynamics\\compute_polar.py                                               </td></tr>\n",
       "<tr><td>fastga.aerodynamics.highspeed.legacy             </td><td>C:\\Users\\a.carotenuto\\AppData\\Local\\anaconda3\\envs\\FAST-OAD-CS23-HE\\lib\\site-packages\\fastga\\models\\aerodynamics\\aerodynamics_high_speed.py                                     </td></tr>\n",
       "<tr><td>fastga.aerodynamics.legacy                       </td><td>C:\\Users\\a.carotenuto\\AppData\\Local\\anaconda3\\envs\\FAST-OAD-CS23-HE\\lib\\site-packages\\fastga\\models\\aerodynamics\\aerodynamics.py                                                </td></tr>\n",
       "<tr><td>fastga.aerodynamics.load_factor                  </td><td>C:\\Users\\a.carotenuto\\AppData\\Local\\anaconda3\\envs\\FAST-OAD-CS23-HE\\lib\\site-packages\\fastga\\models\\aerodynamics\\load_factor.py                                                 </td></tr>\n",
       "<tr><td>fastga.aerodynamics.lowspeed.legacy              </td><td>C:\\Users\\a.carotenuto\\AppData\\Local\\anaconda3\\envs\\FAST-OAD-CS23-HE\\lib\\site-packages\\fastga\\models\\aerodynamics\\aerodynamics_low_speed.py                                      </td></tr>\n",
       "<tr><td>fastga.aerodynamics.propeller                    </td><td>C:\\Users\\a.carotenuto\\AppData\\Local\\anaconda3\\envs\\FAST-OAD-CS23-HE\\lib\\site-packages\\fastga\\models\\aerodynamics\\external\\propeller_code\\compute_propeller_aero.py              </td></tr>\n",
       "<tr><td>fastga.aerodynamics.propeller.coeff_map          </td><td>C:\\Users\\a.carotenuto\\AppData\\Local\\anaconda3\\envs\\FAST-OAD-CS23-HE\\lib\\site-packages\\fastga\\models\\aerodynamics\\external\\propeller_code\\compute_propeller_coefficient_map.py   </td></tr>\n",
       "<tr><td>fastga.aerodynamics.stability_derivatives.legacy </td><td>C:\\Users\\a.carotenuto\\AppData\\Local\\anaconda3\\envs\\FAST-OAD-CS23-HE\\lib\\site-packages\\fastga\\models\\aerodynamics\\aerodynamics_stability_derivatives.py                          </td></tr>\n",
       "<tr><td>fastga.geometry.alternate                        </td><td>C:\\Users\\a.carotenuto\\AppData\\Local\\anaconda3\\envs\\FAST-OAD-CS23-HE\\lib\\site-packages\\fastga\\models\\geometry\\geometry.py                                                        </td></tr>\n",
       "<tr><td>fastga.geometry.legacy                           </td><td>C:\\Users\\a.carotenuto\\AppData\\Local\\anaconda3\\envs\\FAST-OAD-CS23-HE\\lib\\site-packages\\fastga\\models\\geometry\\geometry.py                                                        </td></tr>\n",
       "<tr><td>fastga.handling_qualities.all_handling_qualities </td><td>C:\\Users\\a.carotenuto\\AppData\\Local\\anaconda3\\envs\\FAST-OAD-CS23-HE\\lib\\site-packages\\fastga\\models\\handling_qualities\\handling_qualities.py                                    </td></tr>\n",
       "<tr><td>fastga.handling_qualities.static_margin          </td><td>C:\\Users\\a.carotenuto\\AppData\\Local\\anaconda3\\envs\\FAST-OAD-CS23-HE\\lib\\site-packages\\fastga\\models\\handling_qualities\\compute_static_margin.py                                 </td></tr>\n",
       "<tr><td>fastga.handling_qualities.tail_sizing            </td><td>C:\\Users\\a.carotenuto\\AppData\\Local\\anaconda3\\envs\\FAST-OAD-CS23-HE\\lib\\site-packages\\fastga\\models\\handling_qualities\\tail_sizing\\update_tail_areas.py                         </td></tr>\n",
       "<tr><td>fastga.loads.wing                                </td><td>C:\\Users\\a.carotenuto\\AppData\\Local\\anaconda3\\envs\\FAST-OAD-CS23-HE\\lib\\site-packages\\fastga\\models\\load_analysis\\wing\\loads.py                                                 </td></tr>\n",
       "<tr><td>fastga.loop.mtow                                 </td><td>C:\\Users\\a.carotenuto\\AppData\\Local\\anaconda3\\envs\\FAST-OAD-CS23-HE\\lib\\site-packages\\fastga\\models\\weight\\mass_breakdown\\update_mtow.py                                        </td></tr>\n",
       "<tr><td>fastga.loop.wing_area                            </td><td>C:\\Users\\a.carotenuto\\AppData\\Local\\anaconda3\\envs\\FAST-OAD-CS23-HE\\lib\\site-packages\\fastga\\models\\loops\\update_wing_area_group.py                                             </td></tr>\n",
       "<tr><td>fastga.loop.wing_position                        </td><td>C:\\Users\\a.carotenuto\\AppData\\Local\\anaconda3\\envs\\FAST-OAD-CS23-HE\\lib\\site-packages\\fastga\\models\\loops\\update_wing_position.py                                               </td></tr>\n",
       "<tr><td>fastga.performances.mission                      </td><td>C:\\Users\\a.carotenuto\\AppData\\Local\\anaconda3\\envs\\FAST-OAD-CS23-HE\\lib\\site-packages\\fastga\\models\\performances\\mission\\mission.py                                             </td></tr>\n",
       "<tr><td>fastga.performances.mission_builder_prep         </td><td>C:\\Users\\a.carotenuto\\AppData\\Local\\anaconda3\\envs\\FAST-OAD-CS23-HE\\lib\\site-packages\\fastga\\models\\performances\\mission\\mission_builder_prep.py                                </td></tr>\n",
       "<tr><td>fastga.performances.mission_vector               </td><td>C:\\Users\\a.carotenuto\\AppData\\Local\\anaconda3\\envs\\FAST-OAD-CS23-HE\\lib\\site-packages\\fastga\\models\\performances\\mission_vector\\full_mission.py                                 </td></tr>\n",
       "<tr><td>fastga.performances.payload_range                </td><td>C:\\Users\\a.carotenuto\\AppData\\Local\\anaconda3\\envs\\FAST-OAD-CS23-HE\\lib\\site-packages\\fastga\\models\\performances\\payload_range\\payload_range.py                                 </td></tr>\n",
       "<tr><td>fastga.propulsion.turboprop_construction         </td><td>C:\\Users\\a.carotenuto\\AppData\\Local\\anaconda3\\envs\\FAST-OAD-CS23-HE\\lib\\site-packages\\fastga\\models\\propulsion\\fuel_propulsion\\basicTurbo_prop_map\\basicTP_engine_constructor.py</td></tr>\n",
       "<tr><td>fastga.weight.legacy                             </td><td>C:\\Users\\a.carotenuto\\AppData\\Local\\anaconda3\\envs\\FAST-OAD-CS23-HE\\lib\\site-packages\\fastga\\models\\weight\\weight.py                                                            </td></tr>\n",
       "<tr><td>fastga_he.environmental.energy_simple            </td><td>C:\\Users\\a.carotenuto\\Documents\\GitHub\\FAST-OAD-CS23-HE\\src\\fastga_he\\models\\environmental_impacts\\simple_energy_impact.py                                                      </td></tr>\n",
       "<tr><td>fastga_he.geometry.aspect_ratio_fixed_span       </td><td>C:\\Users\\a.carotenuto\\Documents\\GitHub\\FAST-OAD-CS23-HE\\src\\fastga_he\\models\\geometry\\aspect_ratio_fixed_span.py                                                                </td></tr>\n",
       "<tr><td>fastga_he.lca.legacy                             </td><td>C:\\Users\\a.carotenuto\\Documents\\GitHub\\FAST-OAD-CS23-HE\\src\\fastga_he\\models\\environmental_impacts\\lca.py                                                                       </td></tr>\n",
       "<tr><td>fastga_he.loads.wing                             </td><td>C:\\Users\\a.carotenuto\\Documents\\GitHub\\FAST-OAD-CS23-HE\\src\\fastga_he\\models\\load_analysis\\wing\\loads.py                                                                        </td></tr>\n",
       "<tr><td>fastga_he.loop.wing_area                         </td><td>C:\\Users\\a.carotenuto\\Documents\\GitHub\\FAST-OAD-CS23-HE\\src\\fastga_he\\models\\loops\\update_wing_area_group.py                                                                    </td></tr>\n",
       "<tr><td>fastga_he.payload_range.inner                    </td><td>C:\\Users\\a.carotenuto\\Documents\\GitHub\\FAST-OAD-CS23-HE\\src\\fastga_he\\models\\performances\\payload_range\\payload_range_inner_group.py                                            </td></tr>\n",
       "<tr><td>fastga_he.payload_range.outer                    </td><td>C:\\Users\\a.carotenuto\\Documents\\GitHub\\FAST-OAD-CS23-HE\\src\\fastga_he\\models\\performances\\payload_range\\payload_range.py                                                        </td></tr>\n",
       "<tr><td>fastga_he.performances.mission_vector            </td><td>C:\\Users\\a.carotenuto\\Documents\\GitHub\\FAST-OAD-CS23-HE\\src\\fastga_he\\models\\performances\\mission_vector\\mission_vector.py                                                      </td></tr>\n",
       "<tr><td>fastga_he.performances.operational_mission_vector</td><td>C:\\Users\\a.carotenuto\\Documents\\GitHub\\FAST-OAD-CS23-HE\\src\\fastga_he\\models\\performances\\op_mission_vector\\op_mission_vector.py                                                </td></tr>\n",
       "<tr><td>fastga_he.power_train.sizing                     </td><td>C:\\Users\\a.carotenuto\\Documents\\GitHub\\FAST-OAD-CS23-HE\\src\\fastga_he\\models\\propulsion\\assemblers\\sizing_from_pt_file.py                                                       </td></tr>\n",
       "<tr><td>fastoad.mass_performances.compute_MTOW           </td><td>C:\\Users\\a.carotenuto\\AppData\\Local\\anaconda3\\envs\\FAST-OAD-CS23-HE\\lib\\site-packages\\fastoad\\models\\performances\\mission\\openmdao\\link_mtow.py                                 </td></tr>\n",
       "<tr><td>fastoad.performances.mission                     </td><td>C:\\Users\\a.carotenuto\\AppData\\Local\\anaconda3\\envs\\FAST-OAD-CS23-HE\\lib\\site-packages\\fastoad\\models\\performances\\mission\\openmdao\\mission.py                                   </td></tr>\n",
       "<tr><td>fastoad.performances.payload_range               </td><td>C:\\Users\\a.carotenuto\\AppData\\Local\\anaconda3\\envs\\FAST-OAD-CS23-HE\\lib\\site-packages\\fastoad\\models\\performances\\mission\\openmdao\\payload_range.py                             </td></tr>\n",
       "<tr><td>tutorial.fast_oad.aerodynamics                   </td><td>C:\\Users\\a.carotenuto\\Documents\\GitHub\\FAST-OAD-CS23-HE\\FAST-OAD_notebooks\\fast-oad-core\\02_From_Python_to_FAST-OAD\\modules\\FAST-OAD\\aerodynamics\\aerodynamics.py               </td></tr>\n",
       "<tr><td>tutorial.fast_oad.geometry                       </td><td>C:\\Users\\a.carotenuto\\Documents\\GitHub\\FAST-OAD-CS23-HE\\FAST-OAD_notebooks\\fast-oad-core\\02_From_Python_to_FAST-OAD\\modules\\FAST-OAD\\geometry\\geometry.py                       </td></tr>\n",
       "<tr><td>tutorial.fast_oad.global                         </td><td>C:\\Users\\a.carotenuto\\Documents\\GitHub\\FAST-OAD-CS23-HE\\FAST-OAD_notebooks\\fast-oad-core\\02_From_Python_to_FAST-OAD\\modules\\FAST-OAD\\mtow_loop.py                               </td></tr>\n",
       "<tr><td>tutorial.fast_oad.mass                           </td><td>C:\\Users\\a.carotenuto\\Documents\\GitHub\\FAST-OAD-CS23-HE\\FAST-OAD_notebooks\\fast-oad-core\\02_From_Python_to_FAST-OAD\\modules\\FAST-OAD\\mass\\mass.py                               </td></tr>\n",
       "<tr><td>tutorial.fast_oad.performance                    </td><td>C:\\Users\\a.carotenuto\\Documents\\GitHub\\FAST-OAD-CS23-HE\\FAST-OAD_notebooks\\fast-oad-core\\02_From_Python_to_FAST-OAD\\modules\\FAST-OAD\\performance\\performance.py                 </td></tr>\n",
       "<tr><td>tutorial.fast_oad.update_mtow                    </td><td>C:\\Users\\a.carotenuto\\Documents\\GitHub\\FAST-OAD-CS23-HE\\FAST-OAD_notebooks\\fast-oad-core\\02_From_Python_to_FAST-OAD\\modules\\FAST-OAD\\update_mtow\\update_mtow.py                 </td></tr>\n",
       "<tr><td>AVAILABLE PROPULSION WRAPPER IDENTIFIERS         </td><td>MODULE PATH                                                                                                                                                                     </td></tr>\n",
       "<tr><td>fastga.wrapper.propulsion.basicIC_engine         </td><td>C:\\Users\\a.carotenuto\\AppData\\Local\\anaconda3\\envs\\FAST-OAD-CS23-HE\\lib\\site-packages\\fastga\\models\\propulsion\\fuel_propulsion\\basicIC_engine\\openmdao.py                       </td></tr>\n",
       "<tr><td>fastga.wrapper.propulsion.basicTurboprop         </td><td>C:\\Users\\a.carotenuto\\AppData\\Local\\anaconda3\\envs\\FAST-OAD-CS23-HE\\lib\\site-packages\\fastga\\models\\propulsion\\fuel_propulsion\\basicTurbo_prop\\openmdao.py                      </td></tr>\n",
       "<tr><td>fastga.wrapper.propulsion.basicTurbopropMapped   </td><td>C:\\Users\\a.carotenuto\\AppData\\Local\\anaconda3\\envs\\FAST-OAD-CS23-HE\\lib\\site-packages\\fastga\\models\\propulsion\\fuel_propulsion\\basicTurbo_prop_map\\openmdao.py                  </td></tr>\n",
       "</tbody>\n",
       "</table>"
      ],
      "text/plain": [
       "<IPython.core.display.HTML object>"
      ]
     },
     "metadata": {},
     "output_type": "display_data"
    }
   ],
   "source": [
    "import fastoad.api as oad\n",
    "import numpy as np\n",
    "\n",
    "CUSTOM_MODULES_FOLDER_PATH = \"./modules\"\n",
    "\n",
    "oad.list_modules(CUSTOM_MODULES_FOLDER_PATH)"
   ]
  },
  {
   "cell_type": "markdown",
   "id": "ded052e7",
   "metadata": {
    "tags": []
   },
   "source": [
    "We can indeed see that the ID for the global group was properly registered.\n",
    "\n",
    "## Using FAST-OAD\n",
    "\n",
    "### Configuration file\n",
    "\n",
    "Now that we registered our model, we can create a configuration file to launch the problem. A full description of the different sections of the configuration file is available in the [documentation](https://fast-oad.readthedocs.io/en/latest/documentation/usage.html#fast-oad-configuration-file). We will only go through the relevant one here.\n",
    "\n",
    "The `module_folders` section allow the user to indicate the path to any folder containing custom modules.\n",
    "\n",
    "The `input_file` and `output_file` sections are used to indicate the path where the input and output file are stored (more details on that later). \n",
    "\n",
    "The `model` section is the heart of the configuration file. It defines the problem that needs to be solved. In order to construct the problem, the IDs of the module as well as their ordering are taken into account. Solvers can also be added directly there. In our case we will simply fill the `model` section with the ID corresponding to our global group.\n",
    "\n",
    "For the sake of the comparison with OpenMDAO, the reader should keep in mind that writing this in the configuration file :\n",
    "\n",
    ">```yaml\n",
    ">model:\n",
    ">\n",
    ">  global:\n",
    ">    id: \"tutorial.fast_oad.global\"\n",
    ">```\n",
    "\n",
    "is the equivalent in pure OpenMDAO of doing this :\n",
    "\n",
    ">```python\n",
    ">prob.model.add_subsystem(name=\"global\", subsys=SizingLoopMTOW(), promotes=[\"*\"])\n",
    ">```\n",
    "\n",
    "For our first example, the configuration file will look like this:\n",
    "\n",
    ">```yaml\n",
    ">title: Sample OAD Process\n",
    ">\n",
    "># List of folder paths where user added custom registered OpenMDAO components\n",
    ">module_folders:\n",
    ">  - ./../../modules\n",
    ">\n",
    "># Input and output files\n",
    ">input_file: ./problem_inputs.xml\n",
    ">output_file: ./problem_outputs.xml\n",
    ">\n",
    "># Definition of problem driver assuming the OpenMDAO convention \"import openmdao.api as om\"\n",
    ">driver: om.ScipyOptimizeDriver(tol=1e-2, optimizer='COBYLA')\n",
    ">\n",
    "># Definition of OpenMDAO model\n",
    "># Although \"model\" is a mandatory name for the top level of the model, its\n",
    "># sub-components can be freely named by user\n",
    ">model:\n",
    ">\n",
    ">  #  Solvers are defined assuming the OpenMDAO convention \"import openmdao.api as om\"\n",
    ">  nonlinear_solver: om.NonlinearBlockGS(maxiter=50, atol=1e-4)\n",
    ">  linear_solver: om.DirectSolver()\n",
    ">\n",
    ">  # A group can be set with its own solvers.\n",
    ">  mtow_loop:\n",
    ">    id: tutorial.fast_oad.global\n",
    ">```\n",
    "\n",
    "The full configuration file is located [here](working_folder/MDA_global_group/mda_global_group.yml)."
   ]
  },
  {
   "cell_type": "code",
   "execution_count": 2,
   "id": "114a7ee2-e8c7-46ba-9e46-2f457d05b778",
   "metadata": {},
   "outputs": [],
   "source": [
    "CONFIGURATION_FILE_GLOBAL_MDA = \"./working_folder/MDA_global_group/mda_global_group.yml\""
   ]
  },
  {
   "cell_type": "markdown",
   "id": "5690f7bc-f619-4fde-ae1d-2b22f49dea46",
   "metadata": {},
   "source": [
    "### [N2 chart](https://en.wikipedia.org/wiki/N2_chart)\n",
    "\n",
    "As in OpenMDAO you can use the N2 diagram to check the connections and loops inside the problem. Using FAST-OAD API, only the configuration file is required. This is done with the following command: "
   ]
  },
  {
   "cell_type": "code",
   "execution_count": 15,
   "id": "ccbc82ba-544f-4e61-afe5-99a50b02c869",
   "metadata": {
    "tags": []
   },
   "outputs": [
    {
     "data": {
      "text/html": [
       "\n",
       "        <iframe\n",
       "            width=\"100%\"\n",
       "            height=\"500px\"\n",
       "            src=\"./working_folder/MDA_global_group/n2.html\"\n",
       "            frameborder=\"0\"\n",
       "            allowfullscreen\n",
       "            \n",
       "        ></iframe>\n",
       "        "
      ],
      "text/plain": [
       "<IPython.lib.display.IFrame at 0x1e9486aa170>"
      ]
     },
     "execution_count": 15,
     "metadata": {},
     "output_type": "execute_result"
    }
   ],
   "source": [
    "from IPython.display import IFrame\n",
    "\n",
    "# Writes the N2 chart\n",
    "N2_FILE = \"./working_folder/MDA_global_group/n2.html\"\n",
    "oad.write_n2(CONFIGURATION_FILE_GLOBAL_MDA, N2_FILE, overwrite=True)\n",
    "\n",
    "# Displays it\n",
    "IFrame(src=N2_FILE, width=\"100%\", height=\"500px\")"
   ]
  },
  {
   "cell_type": "markdown",
   "id": "f59b4b0a",
   "metadata": {},
   "source": [
    "Similarly to the N2 in the last example, you can see multiples variables connected to the Auto-IVC. The reason for that is the fact that we haven't generated the problem inputs yet. The way of doing it in FAST-OAD is explained in the section below.\n",
    "\n",
    "### Global MDA\n",
    "\n",
    "Now that our configuration file is set, we can create the input data file. This file contains the value of the problem inputs that will be used by FAST-OAD to solve the problem. FAST-OAD allows to generate an input data file from the problem definition in the configuration file. By default, it will contain the default values, but the generation process can also use values from a source data file.\n",
    "\n",
    "A handy analogy for how the files work is presented below.\n",
    "\n",
    "<div class=\"column\">\n",
    "    <img src=\"./img/handy_analogy.png\" width=\"1000\">\n",
    "</div>\n",
    "\n",
    "We will present both way to do it, but using the source data file is the prefered way in FAST-OAD, simply because we can fill an .xml with all the potential value we might need and reuse it both for the MDA and the MDO. In the following example for instance, we won't have to re-fill a new source data file each time and we won't have to delete the aspect_ratio for the MDO as it will simply not be transfered in the input data file when necessary.\n",
    "\n",
    "The source data file we will reuse for every problem is [here](data/source_file.xml)."
   ]
  },
  {
   "cell_type": "code",
   "execution_count": 16,
   "id": "c1978683",
   "metadata": {},
   "outputs": [
    {
     "data": {
      "text/plain": [
       "'C:/Users/a.carotenuto/Documents/GitHub/FAST-OAD-CS23-HE/FAST-OAD_notebooks/fast-oad-core/02_From_Python_to_FAST-OAD/working_folder/MDA_global_group/problem_inputs.xml'"
      ]
     },
     "execution_count": 16,
     "metadata": {},
     "output_type": "execute_result"
    }
   ],
   "source": [
    "# To generate an empty configuration file. The location of the file is specified inside the configuration\n",
    "# file. Here we decided to put it next to the configuration file.\n",
    "# UNCOMMENT NEXT LINE IF YOU DARE TO TRY THIS METHOD.\n",
    "# oad.generate_inputs(CONFIGURATION_FILE_GLOBAL_MDA, overwrite=True)\n",
    "\n",
    "# The command to generate the input data file based on the source is very similar, we only need to provide the path to the\n",
    "# source data file and the newly generated input data file will be placed at the location specified inside the configuration file.\n",
    "SOURCE_FILE = \"./data/source_file.xml\"\n",
    "oad.generate_inputs(CONFIGURATION_FILE_GLOBAL_MDA, SOURCE_FILE, overwrite=True)"
   ]
  },
  {
   "cell_type": "markdown",
   "id": "43def4c1",
   "metadata": {},
   "source": [
    "Now that we have generated the input and since we have our \"recipe\", we can launch the problem by simply executing the next cell. FAST-OAD will add the solver according to the content of the configuration file, set up the problem and run it. It is important to generate the inputs before launching the problem."
   ]
  },
  {
   "cell_type": "code",
   "execution_count": 5,
   "id": "5631b4fb",
   "metadata": {},
   "outputs": [
    {
     "name": "stdout",
     "output_type": "stream",
     "text": [
      "NL: NLBGS Converged in 29 iterations\n"
     ]
    }
   ],
   "source": [
    "mda_global = oad.evaluate_problem(CONFIGURATION_FILE_GLOBAL_MDA, overwrite=True)"
   ]
  },
  {
   "cell_type": "markdown",
   "id": "2cbfd757",
   "metadata": {},
   "source": [
    "As before, we can access any value by its name, or this time we can also look at the output file. It contains the last value computed by the code for each variables and is located where indicated in the configuration file. In our case, it should be [here](working_folder/MDA_global_group/problem_outputs.xml) (if not, something went wrong when running the `evaluate_problem` function). Alternatively, we could also make use of the `variable_viewer` from FAST-OAD which provides an easy way to sweep through the variables of the problem."
   ]
  },
  {
   "cell_type": "code",
   "execution_count": 6,
   "id": "371d9ef4",
   "metadata": {},
   "outputs": [
    {
     "name": "stdout",
     "output_type": "stream",
     "text": [
      "MTOW: 1065.8 kg\n",
      "Mission fuel: 128.8 kg\n",
      "Wing mass: 109.7 kg\n"
     ]
    },
    {
     "name": "stderr",
     "output_type": "stream",
     "text": [
      "C:\\Users\\a.carotenuto\\AppData\\Local\\Temp\\ipykernel_2476\\2383032262.py:1: DeprecationWarning: Conversion of an array with ndim > 0 to a scalar is deprecated, and will error in future. Ensure you extract a single element from your array before performing this operation. (Deprecated NumPy 1.25.)\n",
      "  print(\"MTOW:\", float(np.round(mda_global.get_val(\"mtow\", units=\"kg\"), 1)), \"kg\")\n",
      "C:\\Users\\a.carotenuto\\AppData\\Local\\Temp\\ipykernel_2476\\2383032262.py:2: DeprecationWarning: Conversion of an array with ndim > 0 to a scalar is deprecated, and will error in future. Ensure you extract a single element from your array before performing this operation. (Deprecated NumPy 1.25.)\n",
      "  print(\"Mission fuel:\", float(np.round(mda_global.get_val(\"mission_fuel\", units=\"kg\"), 1)), \"kg\")\n",
      "C:\\Users\\a.carotenuto\\AppData\\Local\\Temp\\ipykernel_2476\\2383032262.py:3: DeprecationWarning: Conversion of an array with ndim > 0 to a scalar is deprecated, and will error in future. Ensure you extract a single element from your array before performing this operation. (Deprecated NumPy 1.25.)\n",
      "  print(\"Wing mass:\", float(np.round(mda_global.get_val(\"wing_mass\", units=\"kg\"), 1)), \"kg\")\n"
     ]
    }
   ],
   "source": [
    "print(\"MTOW:\", float(np.round(mda_global.get_val(\"mtow\", units=\"kg\"), 1)), \"kg\")\n",
    "print(\"Mission fuel:\", float(np.round(mda_global.get_val(\"mission_fuel\", units=\"kg\"), 1)), \"kg\")\n",
    "print(\"Wing mass:\", float(np.round(mda_global.get_val(\"wing_mass\", units=\"kg\"), 1)), \"kg\")"
   ]
  },
  {
   "cell_type": "code",
   "execution_count": 7,
   "id": "b54c22e2",
   "metadata": {},
   "outputs": [
    {
     "data": {
      "application/vnd.jupyter.widget-view+json": {
       "model_id": "ed72e947b069420b90bad06dfccca8f4",
       "version_major": 2,
       "version_minor": 0
      },
      "text/plain": [
       "VBox(children=(HBox(children=(Button(description='Load', icon='upload', style=ButtonStyle(), tooltip='Load the…"
      ]
     },
     "metadata": {},
     "output_type": "display_data"
    }
   ],
   "source": [
    "oad.variable_viewer(mda_global.output_file_path)"
   ]
  },
  {
   "cell_type": "markdown",
   "id": "cbfa8d3b",
   "metadata": {},
   "source": [
    "As expected, we have precisely the same results, FAST-OAD being an added layer to OpenMDAO. \n",
    "\n",
    "We made the choice in this part to only register the global group as opposed to, for example, registering the subgroups. This however, raises a question regarding the level of detail and modularity at which to register models. It is absolutely possible to register every single block that was coded in order to have more control on what is computed in each run. This would mean that we would have to give every single of the 9 base bricks (ComputeWingArea, ComputeProfileDrag, ...) an ID and write them inside the configuration file, making it very long. \n",
    "\n",
    "In FAST-OAD and in the next example the choice was made to put the IDs at the discipline level, which means that we have one ID for the geometry, one ID for the aerodynamics, ... This explains why there was 6 IDs in total earlier (5 for the disciplines in addition to the global group). The only thing that needs to be done is adding the `@oad.RegisterOpenMDAOSystem` decorator on the main discipline groups, which is done in the FAST-OAD folder. \n",
    "\n",
    "We will now do the exercice of calling the disciplines one by one. This is also a good way to have a gentle introduction to the type of configuration file which can be found in FAST-OAD. The results will be exactly the same.\n",
    "\n",
    "### MDA discipline by discipline\n",
    "\n",
    "As said before, instead of calling the global group, we will call, in our new configuration file, the disciplines one by one and in the same order as they were added in the global group. This is done in [this configuration file](working_folder/MDA_discipline/mda_discipline.yml). As before, we will generate the input data file based on the source data file and simply run the problem. We could also use the input data file from the previous MDA since the inputs should be the same (we use the same modules simply called differently)."
   ]
  },
  {
   "cell_type": "code",
   "execution_count": null,
   "id": "3c13d485",
   "metadata": {},
   "outputs": [],
   "source": [
    "CONFIGURATION_FILE_DISCIPLINE_MDA = \"./working_folder/MDA_discipline/mda_discipline.yml\"\n",
    "\n",
    "# Generate the input data file based on configuration and source data file\n",
    "oad.generate_inputs(CONFIGURATION_FILE_DISCIPLINE_MDA, SOURCE_FILE, overwrite=True)\n",
    "\n",
    "# Run the problem\n",
    "mda_discipline = oad.evaluate_problem(CONFIGURATION_FILE_DISCIPLINE_MDA, overwrite=True)"
   ]
  },
  {
   "cell_type": "code",
   "execution_count": null,
   "id": "5e473a3b",
   "metadata": {},
   "outputs": [],
   "source": [
    "print(\"MTOW:\", float(np.round(mda_discipline.get_val(\"mtow\", units=\"kg\"), 1)), \"kg\")\n",
    "print(\"Mission fuel:\", float(np.round(mda_discipline.get_val(\"mission_fuel\", units=\"kg\"), 1)), \"kg\")\n",
    "print(\"Wing mass:\", float(np.round(mda_discipline.get_val(\"wing_mass\", units=\"kg\"), 1)), \"kg\")"
   ]
  },
  {
   "cell_type": "markdown",
   "id": "5a165076",
   "metadata": {},
   "source": [
    "Then again we have the same results as before. Let's now move on to running an MDO using FAST-OAD.\n",
    "\n",
    "## MDO(s)\n",
    "\n",
    "In order to declare an MDO in FAST-OAD, we have to, same as in the previous example, declare which variables are gonna be the design variables, how they are bound and what is the objective we want to minimize. This time however, everything is done at the bottom of the configuration file in the `optimization` section. Let us take again the example of finding the aspect ratio that gives the best **MTOW**. \n",
    "\n",
    "Declaring the aspect ratio as the design variable as well as giving it its bounds is done in the `design_variables` sub-section:\n",
    "\n",
    ">```yml\n",
    ">design_variables:\n",
    ">    - name: aspect_ratio\n",
    ">      lower: 2.0\n",
    ">      upper: 20.0\n",
    ">```\n",
    "\n",
    "Declaring the objective is done in the `objective` sub-section. As in OpenMDAO, scaler can also be defined :\n",
    "\n",
    ">```yml\n",
    ">objective:\n",
    ">    - name: mtow\n",
    ">#      scaler: -1.0  # Activate this line to maximize the objective instead of minimizing it.\n",
    ">```\n",
    "\n",
    "The final configuration file is written [here](working_folder/MDO_MTOW/mdo_mtow.yml). As for an MDA, we need to generate an input data file, which, again, we will do using the source data file. \n",
    "\n",
    "Before launching the MDO, we can make a small remark. In this MDO, we are using the same modules as in the MDA. This time however, we let the aspect ratio be free within two bounds, meaning that it is no longer a required input and it will be modified by the optimizer.\n",
    "\n",
    "For the MDO, FAST-OAD provides the user with an optimization viewer, which very similar to the variable viewer. Its use is shown here"
   ]
  },
  {
   "cell_type": "code",
   "execution_count": 12,
   "id": "67534075",
   "metadata": {},
   "outputs": [
    {
     "data": {
      "application/vnd.jupyter.widget-view+json": {
       "model_id": "2d71193b70df48a2ac7a323836d7857e",
       "version_major": 2,
       "version_minor": 0
      },
      "text/plain": [
       "VBox(children=(HBox(children=(Button(description='Load', icon='upload', style=ButtonStyle(), tooltip='Load the…"
      ]
     },
     "metadata": {},
     "output_type": "display_data"
    }
   ],
   "source": [
    "CONFIGURATION_FILE_MDO_MTOW = \"./working_folder/MDO_MTOW/mdo_mtow.yml\"\n",
    "\n",
    "# Generate the input data file based on configuration and source data file\n",
    "oad.generate_inputs(CONFIGURATION_FILE_MDO_MTOW, SOURCE_FILE, overwrite=True)\n",
    "\n",
    "oad.optimization_viewer(CONFIGURATION_FILE_MDO_MTOW)"
   ]
  },
  {
   "cell_type": "markdown",
   "id": "0c23cccb",
   "metadata": {},
   "source": [
    "The optimization is then launched by doing the following :"
   ]
  },
  {
   "cell_type": "code",
   "execution_count": 13,
   "id": "a08d64b5",
   "metadata": {},
   "outputs": [
    {
     "name": "stdout",
     "output_type": "stream",
     "text": [
      "NL: NLBGS Converged in 29 iterations\n",
      "NL: NLBGS Converged in 1 iterations\n",
      "NL: NLBGS Converged in 23 iterations\n",
      "NL: NLBGS Converged in 24 iterations\n",
      "NL: NLBGS Converged in 22 iterations\n",
      "NL: NLBGS Converged in 21 iterations\n",
      "NL: NLBGS Converged in 20 iterations\n",
      "NL: NLBGS Converged in 20 iterations\n",
      "NL: NLBGS Converged in 19 iterations\n",
      "NL: NLBGS Converged in 15 iterations\n",
      "NL: NLBGS Converged in 16 iterations\n",
      "NL: NLBGS Converged in 16 iterations\n",
      "NL: NLBGS Converged in 16 iterations\n",
      "NL: NLBGS Converged in 14 iterations\n",
      "NL: NLBGS Converged in 10 iterations\n",
      "NL: NLBGS Converged in 11 iterations\n",
      "NL: NLBGS Converged in 4 iterations\n"
     ]
    },
    {
     "name": "stderr",
     "output_type": "stream",
     "text": [
      "C:\\Users\\a.carotenuto\\AppData\\Local\\anaconda3\\envs\\FAST-OAD-CS23-HE\\lib\\site-packages\\openmdao\\core\\group.py:1166: DerivativesWarning:Constraints or objectives [mtow_update.mtow] cannot be impacted by the design variables of the problem because no partials were defined for them in their parent component(s).\n"
     ]
    },
    {
     "name": "stdout",
     "output_type": "stream",
     "text": [
      "NL: NLBGS Converged in 5 iterations\n",
      "NL: NLBGS Converged in 5 iterations\n",
      "NL: NLBGS Converged in 4 iterations\n",
      "Optimization Complete\n",
      "-----------------------------------\n"
     ]
    }
   ],
   "source": [
    "mdo_mtow = oad.optimize_problem(CONFIGURATION_FILE_MDO_MTOW, overwrite=True)"
   ]
  },
  {
   "cell_type": "markdown",
   "id": "dd7c42ab",
   "metadata": {},
   "source": [
    "The configuration viewer can be reused after the optimisation for a convenient summary of the results. Alternatively, for a more detailed description of the results, we can, as before, either call each variable, fetch the output file or use the `variable_viewer`."
   ]
  },
  {
   "cell_type": "code",
   "execution_count": 14,
   "id": "10c1af4f",
   "metadata": {},
   "outputs": [
    {
     "data": {
      "application/vnd.jupyter.widget-view+json": {
       "model_id": "f1cd632d3f734f5bb11a7ce7635fa086",
       "version_major": 2,
       "version_minor": 0
      },
      "text/plain": [
       "VBox(children=(HBox(children=(Button(description='Load', icon='upload', style=ButtonStyle(), tooltip='Load the…"
      ]
     },
     "metadata": {},
     "output_type": "display_data"
    }
   ],
   "source": [
    "oad.optimization_viewer(CONFIGURATION_FILE_MDO_MTOW)"
   ]
  },
  {
   "cell_type": "code",
   "execution_count": 11,
   "id": "e0875ede",
   "metadata": {},
   "outputs": [
    {
     "data": {
      "application/vnd.jupyter.widget-view+json": {
       "model_id": "6cde254980744ac2a2c4b9520ae2056e",
       "version_major": 2,
       "version_minor": 0
      },
      "text/plain": [
       "VBox(children=(HBox(children=(Button(description='Load', icon='upload', style=ButtonStyle(), tooltip='Load the…"
      ]
     },
     "metadata": {},
     "output_type": "display_data"
    }
   ],
   "source": [
    "oad.variable_viewer(mdo_mtow.output_file_path)"
   ]
  },
  {
   "cell_type": "markdown",
   "id": "ceacf886",
   "metadata": {},
   "source": [
    "What we can observe is that the same results were obtained as before.\n",
    "\n",
    "Checking that the optimization on the mission fuel as well as the optimization on two parameters gives the same result as in OpenMDAO is left to the user. Adding a new line with the cruise speed should be the only change required to get things working. The results should also be the same as before.\n",
    "\n",
    "This concludes this serie of tutorials on how to go from the definition of a pure python problem into a FAST-OAD problem. Any suggestions and idea for improvement is welcome."
   ]
  },
  {
   "cell_type": "code",
   "execution_count": null,
   "id": "71bcc054-a8c6-4563-9cd4-2007ece4f791",
   "metadata": {},
   "outputs": [],
   "source": []
  }
 ],
 "metadata": {
  "kernelspec": {
   "display_name": "Python 3 (ipykernel)",
   "language": "python",
   "name": "python3"
  },
  "language_info": {
   "codemirror_mode": {
    "name": "ipython",
    "version": 3
   },
   "file_extension": ".py",
   "mimetype": "text/x-python",
   "name": "python",
   "nbconvert_exporter": "python",
   "pygments_lexer": "ipython3",
   "version": "3.10.16"
  }
 },
 "nbformat": 4,
 "nbformat_minor": 5
}
