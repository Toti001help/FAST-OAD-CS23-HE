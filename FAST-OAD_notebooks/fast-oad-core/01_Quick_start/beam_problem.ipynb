{
 "cells": [
  {
   "cell_type": "markdown",
   "metadata": {},
   "source": [
    "<div class=\"row\">\n",
    "  <div class=\"column\">\n",
    "    <img src=\"./img/logo-onera.png\" width=\"200\">\n",
    "  </div>\n",
    "  <div class=\"column\">\n",
    "    <img src=\"./img/logo-ISAE_SUPAERO.png\" width=\"200\">\n",
    "  </div>\n",
    "</div>"
   ]
  },
  {
   "cell_type": "markdown",
   "metadata": {},
   "source": [
    "# Custom Modules Management\n",
    "\n",
    "This tutorial aims to guide you in the management of your custom modules and in the resolution of a simple problem using FAST-OAD. Complementary information can be found in the [documentation](https://fast-oad.readthedocs.io/en/latest/documentation/custom_modules/index.html).\n",
    "\n",
    "The problem under consideration consists in a cantilever beam of length **L** with a rectangular section of height **h** and width **l**. A force **F** is applied at the tip of the beam that also undergoes its proper weight homogeneously distributed **w**. \n",
    "\n",
    "The objectives of this tutorial will be to create and call custom modules through FAST-OAD to solve the following problems:\n",
    "* For **F** = 1000N, **L** = 2.0m, **l** = 0.3m: Find the height **h** that leads to a displacement of 0.02m considering an aluminium beam. \n",
    "* For **F** = 1e5N, **L** = 10.0m, **l** = 0.3m: Find the height **h** so that the maximum normal stress within the beam does not exceed the aluminium yield stress (450e6 Pa)."
   ]
  },
  {
   "cell_type": "markdown",
   "metadata": {},
   "source": [
    "<div class=\"row\">\n",
    "  <div class=\"column\">\n",
    "    <img src=\"./img/problem_description.png\" width=\"600\">\n",
    "  </div>\n",
    "</div>"
   ]
  },
  {
   "cell_type": "markdown",
   "metadata": {},
   "source": [
    "## Imports"
   ]
  },
  {
   "cell_type": "code",
   "execution_count": 13,
   "metadata": {},
   "outputs": [],
   "source": [
    "import os.path as pth\n",
    "import logging\n",
    "import fastoad.api as oad"
   ]
  },
  {
   "cell_type": "markdown",
   "metadata": {},
   "source": [
    "## Directories and files definition "
   ]
  },
  {
   "cell_type": "code",
   "execution_count": 14,
   "metadata": {},
   "outputs": [],
   "source": [
    "DATA_FOLDER = \"data\"\n",
    "\n",
    "WORK_FOLDER = \"workdir\"\n",
    "\n",
    "CONFIGURATION_FILE_NAME = pth.join(DATA_FOLDER, \"beam_problem.yml\")\n",
    "\n",
    "CUSTOM_MODULES_FOLDER_PATH = \"./modules\"\n",
    "\n",
    "logging.basicConfig(level=logging.INFO, format=\"%(levelname)-8s: %(message)s\")"
   ]
  },
  {
   "cell_type": "markdown",
   "metadata": {},
   "source": [
    "## 1. Custom Modules\n",
    "\n",
    "### 1.1. Modules Creation and Registration\n",
    "\n",
    "The following modules are created: [section_properties.py](./modules/section_properties.py), [weight.py](./modules/weight.py), [displacements.py](./modules/displacements.py), [stresses.py](./modules/stresses.py). They respectively compute: \n",
    "* The height of the beam for a given moment of inertia and width. \n",
    "* The linear weight **w** from material density and section dimensions. \n",
    "* The necessary moment of inertia to reach a given displacement. \n",
    "* The necessary moment of inertia not to overcome the material yield stress. \n",
    "\n",
    "As you may notice, each module is registered using the decorator `@oad.RegisterOpenMDAOSystem` and a unique id. \n",
    "\n",
    "An example is provided for the geometry module that computes the height of the beam for a given moment of inertia and a given width: \n",
    "\n",
    "> ``` python\n",
    "> import numpy as np\n",
    "> import openmdao.api as om\n",
    ">\n",
    "> import fastoad.api as oad\n",
    ">\n",
    ">\n",
    "> @oad.RegisterOpenMDAOSystem(\"tutorial.beam_problem.geometry\")\n",
    "> class RectangularSection(om.ExplicitComponent):\n",
    ">     \"\"\"\n",
    ">     Computes section properties of a beam given width and height.\n",
    ">     \"\"\"\n",
    ">\n",
    ">     def setup(self):\n",
    ">\n",
    ">         self.add_input(\"data:geometry:l\", val=np.nan, units=\"m\")\n",
    ">         self.add_input(\"data:geometry:Ixx\", val=np.nan, units=\"m ** 4\")\n",
    ">         self.add_output(\"data:geometry:h\", val=0.01, units=\"m\")\n",
    ">\n",
    ">\n",
    ">     def setup_partials(self):\n",
    ">\n",
    ">         self.declare_partials(\"*\", \"*\", method=\"fd\")\n",
    ">\n",
    ">     def compute(self, inputs, outputs):\n",
    ">         l = inputs[\"data:geometry:l\"]\n",
    ">         I_xx = inputs[\"data:geometry:Ixx\"]\n",
    ">\n",
    ">         outputs[\"data:geometry:h\"] = (12 * I_xx / l) ** (1 / 3)\n",
    "> ```"
   ]
  },
  {
   "cell_type": "markdown",
   "metadata": {},
   "source": [
    "### 1.2. Check Registration \n",
    "\n",
    "To check that your modules are properly registered, call the `list_modules` function with your custom modules folder(s) path(s) as an argument and verify that your modules correctly appear in the list."
   ]
  },
  {
   "cell_type": "code",
   "execution_count": 15,
   "metadata": {},
   "outputs": [
    {
     "data": {
      "text/html": [
       "<table>\n",
       "<tbody>\n",
       "<tr><td>AVAILABLE MODULE IDENTIFIERS                     </td><td>MODULE PATH                                                                                                                                                                     </td></tr>\n",
       "<tr><td>fastga.aerodynamics.cl_cd_polar                  </td><td>C:\\Users\\a.carotenuto\\AppData\\Local\\anaconda3\\envs\\FAST-OAD-CS23-HE\\lib\\site-packages\\fastga\\models\\aerodynamics\\compute_polar.py                                               </td></tr>\n",
       "<tr><td>fastga.aerodynamics.highspeed.legacy             </td><td>C:\\Users\\a.carotenuto\\AppData\\Local\\anaconda3\\envs\\FAST-OAD-CS23-HE\\lib\\site-packages\\fastga\\models\\aerodynamics\\aerodynamics_high_speed.py                                     </td></tr>\n",
       "<tr><td>fastga.aerodynamics.legacy                       </td><td>C:\\Users\\a.carotenuto\\AppData\\Local\\anaconda3\\envs\\FAST-OAD-CS23-HE\\lib\\site-packages\\fastga\\models\\aerodynamics\\aerodynamics.py                                                </td></tr>\n",
       "<tr><td>fastga.aerodynamics.load_factor                  </td><td>C:\\Users\\a.carotenuto\\AppData\\Local\\anaconda3\\envs\\FAST-OAD-CS23-HE\\lib\\site-packages\\fastga\\models\\aerodynamics\\load_factor.py                                                 </td></tr>\n",
       "<tr><td>fastga.aerodynamics.lowspeed.legacy              </td><td>C:\\Users\\a.carotenuto\\AppData\\Local\\anaconda3\\envs\\FAST-OAD-CS23-HE\\lib\\site-packages\\fastga\\models\\aerodynamics\\aerodynamics_low_speed.py                                      </td></tr>\n",
       "<tr><td>fastga.aerodynamics.propeller                    </td><td>C:\\Users\\a.carotenuto\\AppData\\Local\\anaconda3\\envs\\FAST-OAD-CS23-HE\\lib\\site-packages\\fastga\\models\\aerodynamics\\external\\propeller_code\\compute_propeller_aero.py              </td></tr>\n",
       "<tr><td>fastga.aerodynamics.propeller.coeff_map          </td><td>C:\\Users\\a.carotenuto\\AppData\\Local\\anaconda3\\envs\\FAST-OAD-CS23-HE\\lib\\site-packages\\fastga\\models\\aerodynamics\\external\\propeller_code\\compute_propeller_coefficient_map.py   </td></tr>\n",
       "<tr><td>fastga.aerodynamics.stability_derivatives.legacy </td><td>C:\\Users\\a.carotenuto\\AppData\\Local\\anaconda3\\envs\\FAST-OAD-CS23-HE\\lib\\site-packages\\fastga\\models\\aerodynamics\\aerodynamics_stability_derivatives.py                          </td></tr>\n",
       "<tr><td>fastga.geometry.alternate                        </td><td>C:\\Users\\a.carotenuto\\AppData\\Local\\anaconda3\\envs\\FAST-OAD-CS23-HE\\lib\\site-packages\\fastga\\models\\geometry\\geometry.py                                                        </td></tr>\n",
       "<tr><td>fastga.geometry.legacy                           </td><td>C:\\Users\\a.carotenuto\\AppData\\Local\\anaconda3\\envs\\FAST-OAD-CS23-HE\\lib\\site-packages\\fastga\\models\\geometry\\geometry.py                                                        </td></tr>\n",
       "<tr><td>fastga.handling_qualities.all_handling_qualities </td><td>C:\\Users\\a.carotenuto\\AppData\\Local\\anaconda3\\envs\\FAST-OAD-CS23-HE\\lib\\site-packages\\fastga\\models\\handling_qualities\\handling_qualities.py                                    </td></tr>\n",
       "<tr><td>fastga.handling_qualities.static_margin          </td><td>C:\\Users\\a.carotenuto\\AppData\\Local\\anaconda3\\envs\\FAST-OAD-CS23-HE\\lib\\site-packages\\fastga\\models\\handling_qualities\\compute_static_margin.py                                 </td></tr>\n",
       "<tr><td>fastga.handling_qualities.tail_sizing            </td><td>C:\\Users\\a.carotenuto\\AppData\\Local\\anaconda3\\envs\\FAST-OAD-CS23-HE\\lib\\site-packages\\fastga\\models\\handling_qualities\\tail_sizing\\update_tail_areas.py                         </td></tr>\n",
       "<tr><td>fastga.loads.wing                                </td><td>C:\\Users\\a.carotenuto\\AppData\\Local\\anaconda3\\envs\\FAST-OAD-CS23-HE\\lib\\site-packages\\fastga\\models\\load_analysis\\wing\\loads.py                                                 </td></tr>\n",
       "<tr><td>fastga.loop.mtow                                 </td><td>C:\\Users\\a.carotenuto\\AppData\\Local\\anaconda3\\envs\\FAST-OAD-CS23-HE\\lib\\site-packages\\fastga\\models\\weight\\mass_breakdown\\update_mtow.py                                        </td></tr>\n",
       "<tr><td>fastga.loop.wing_area                            </td><td>C:\\Users\\a.carotenuto\\AppData\\Local\\anaconda3\\envs\\FAST-OAD-CS23-HE\\lib\\site-packages\\fastga\\models\\loops\\update_wing_area_group.py                                             </td></tr>\n",
       "<tr><td>fastga.loop.wing_position                        </td><td>C:\\Users\\a.carotenuto\\AppData\\Local\\anaconda3\\envs\\FAST-OAD-CS23-HE\\lib\\site-packages\\fastga\\models\\loops\\update_wing_position.py                                               </td></tr>\n",
       "<tr><td>fastga.performances.mission                      </td><td>C:\\Users\\a.carotenuto\\AppData\\Local\\anaconda3\\envs\\FAST-OAD-CS23-HE\\lib\\site-packages\\fastga\\models\\performances\\mission\\mission.py                                             </td></tr>\n",
       "<tr><td>fastga.performances.mission_builder_prep         </td><td>C:\\Users\\a.carotenuto\\AppData\\Local\\anaconda3\\envs\\FAST-OAD-CS23-HE\\lib\\site-packages\\fastga\\models\\performances\\mission\\mission_builder_prep.py                                </td></tr>\n",
       "<tr><td>fastga.performances.mission_vector               </td><td>C:\\Users\\a.carotenuto\\AppData\\Local\\anaconda3\\envs\\FAST-OAD-CS23-HE\\lib\\site-packages\\fastga\\models\\performances\\mission_vector\\full_mission.py                                 </td></tr>\n",
       "<tr><td>fastga.performances.payload_range                </td><td>C:\\Users\\a.carotenuto\\AppData\\Local\\anaconda3\\envs\\FAST-OAD-CS23-HE\\lib\\site-packages\\fastga\\models\\performances\\payload_range\\payload_range.py                                 </td></tr>\n",
       "<tr><td>fastga.propulsion.turboprop_construction         </td><td>C:\\Users\\a.carotenuto\\AppData\\Local\\anaconda3\\envs\\FAST-OAD-CS23-HE\\lib\\site-packages\\fastga\\models\\propulsion\\fuel_propulsion\\basicTurbo_prop_map\\basicTP_engine_constructor.py</td></tr>\n",
       "<tr><td>fastga.weight.legacy                             </td><td>C:\\Users\\a.carotenuto\\AppData\\Local\\anaconda3\\envs\\FAST-OAD-CS23-HE\\lib\\site-packages\\fastga\\models\\weight\\weight.py                                                            </td></tr>\n",
       "<tr><td>fastga_he.environmental.energy_simple            </td><td>C:\\Users\\a.carotenuto\\Documents\\GitHub\\FAST-OAD-CS23-HE\\src\\fastga_he\\models\\environmental_impacts\\simple_energy_impact.py                                                      </td></tr>\n",
       "<tr><td>fastga_he.geometry.aspect_ratio_fixed_span       </td><td>C:\\Users\\a.carotenuto\\Documents\\GitHub\\FAST-OAD-CS23-HE\\src\\fastga_he\\models\\geometry\\aspect_ratio_fixed_span.py                                                                </td></tr>\n",
       "<tr><td>fastga_he.lca.legacy                             </td><td>C:\\Users\\a.carotenuto\\Documents\\GitHub\\FAST-OAD-CS23-HE\\src\\fastga_he\\models\\environmental_impacts\\lca.py                                                                       </td></tr>\n",
       "<tr><td>fastga_he.loads.wing                             </td><td>C:\\Users\\a.carotenuto\\Documents\\GitHub\\FAST-OAD-CS23-HE\\src\\fastga_he\\models\\load_analysis\\wing\\loads.py                                                                        </td></tr>\n",
       "<tr><td>fastga_he.loop.wing_area                         </td><td>C:\\Users\\a.carotenuto\\Documents\\GitHub\\FAST-OAD-CS23-HE\\src\\fastga_he\\models\\loops\\update_wing_area_group.py                                                                    </td></tr>\n",
       "<tr><td>fastga_he.payload_range.inner                    </td><td>C:\\Users\\a.carotenuto\\Documents\\GitHub\\FAST-OAD-CS23-HE\\src\\fastga_he\\models\\performances\\payload_range\\payload_range_inner_group.py                                            </td></tr>\n",
       "<tr><td>fastga_he.payload_range.outer                    </td><td>C:\\Users\\a.carotenuto\\Documents\\GitHub\\FAST-OAD-CS23-HE\\src\\fastga_he\\models\\performances\\payload_range\\payload_range.py                                                        </td></tr>\n",
       "<tr><td>fastga_he.performances.mission_vector            </td><td>C:\\Users\\a.carotenuto\\Documents\\GitHub\\FAST-OAD-CS23-HE\\src\\fastga_he\\models\\performances\\mission_vector\\mission_vector.py                                                      </td></tr>\n",
       "<tr><td>fastga_he.performances.operational_mission_vector</td><td>C:\\Users\\a.carotenuto\\Documents\\GitHub\\FAST-OAD-CS23-HE\\src\\fastga_he\\models\\performances\\op_mission_vector\\op_mission_vector.py                                                </td></tr>\n",
       "<tr><td>fastga_he.power_train.sizing                     </td><td>C:\\Users\\a.carotenuto\\Documents\\GitHub\\FAST-OAD-CS23-HE\\src\\fastga_he\\models\\propulsion\\assemblers\\sizing_from_pt_file.py                                                       </td></tr>\n",
       "<tr><td>fastoad.mass_performances.compute_MTOW           </td><td>C:\\Users\\a.carotenuto\\AppData\\Local\\anaconda3\\envs\\FAST-OAD-CS23-HE\\lib\\site-packages\\fastoad\\models\\performances\\mission\\openmdao\\link_mtow.py                                 </td></tr>\n",
       "<tr><td>fastoad.performances.mission                     </td><td>C:\\Users\\a.carotenuto\\AppData\\Local\\anaconda3\\envs\\FAST-OAD-CS23-HE\\lib\\site-packages\\fastoad\\models\\performances\\mission\\openmdao\\mission.py                                   </td></tr>\n",
       "<tr><td>fastoad.performances.payload_range               </td><td>C:\\Users\\a.carotenuto\\AppData\\Local\\anaconda3\\envs\\FAST-OAD-CS23-HE\\lib\\site-packages\\fastoad\\models\\performances\\mission\\openmdao\\payload_range.py                             </td></tr>\n",
       "<tr><td>tutorial.beam_problem.disp                       </td><td>C:\\Users\\a.carotenuto\\Documents\\GitHub\\FAST-OAD-CS23-HE\\FAST-OAD_notebooks\\fast-oad-core\\01_Quick_start\\modules\\displacements.py                                                </td></tr>\n",
       "<tr><td>tutorial.beam_problem.geometry                   </td><td>C:\\Users\\a.carotenuto\\Documents\\GitHub\\FAST-OAD-CS23-HE\\FAST-OAD_notebooks\\fast-oad-core\\01_Quick_start\\modules\\section_properties.py                                           </td></tr>\n",
       "<tr><td>tutorial.beam_problem.stresses                   </td><td>C:\\Users\\a.carotenuto\\Documents\\GitHub\\FAST-OAD-CS23-HE\\FAST-OAD_notebooks\\fast-oad-core\\01_Quick_start\\modules\\stresses.py                                                     </td></tr>\n",
       "<tr><td>tutorial.beam_problem.weight                     </td><td>C:\\Users\\a.carotenuto\\Documents\\GitHub\\FAST-OAD-CS23-HE\\FAST-OAD_notebooks\\fast-oad-core\\01_Quick_start\\modules\\weight.py                                                       </td></tr>\n",
       "<tr><td>AVAILABLE PROPULSION WRAPPER IDENTIFIERS         </td><td>MODULE PATH                                                                                                                                                                     </td></tr>\n",
       "<tr><td>fastga.wrapper.propulsion.basicIC_engine         </td><td>C:\\Users\\a.carotenuto\\AppData\\Local\\anaconda3\\envs\\FAST-OAD-CS23-HE\\lib\\site-packages\\fastga\\models\\propulsion\\fuel_propulsion\\basicIC_engine\\openmdao.py                       </td></tr>\n",
       "<tr><td>fastga.wrapper.propulsion.basicTurboprop         </td><td>C:\\Users\\a.carotenuto\\AppData\\Local\\anaconda3\\envs\\FAST-OAD-CS23-HE\\lib\\site-packages\\fastga\\models\\propulsion\\fuel_propulsion\\basicTurbo_prop\\openmdao.py                      </td></tr>\n",
       "<tr><td>fastga.wrapper.propulsion.basicTurbopropMapped   </td><td>C:\\Users\\a.carotenuto\\AppData\\Local\\anaconda3\\envs\\FAST-OAD-CS23-HE\\lib\\site-packages\\fastga\\models\\propulsion\\fuel_propulsion\\basicTurbo_prop_map\\openmdao.py                  </td></tr>\n",
       "</tbody>\n",
       "</table>"
      ],
      "text/plain": [
       "<IPython.core.display.HTML object>"
      ]
     },
     "metadata": {},
     "output_type": "display_data"
    }
   ],
   "source": [
    "oad.list_modules(CUSTOM_MODULES_FOLDER_PATH)"
   ]
  },
  {
   "cell_type": "markdown",
   "metadata": {},
   "source": [
    "## 2. Configuration file\n"
   ]
  },
  {
   "cell_type": "markdown",
   "metadata": {},
   "source": [
    "Now you are sure your custom modules are properly registered, you can complete the YAML configuration file. \n",
    "\n",
    "First, in the section `module_folders` indicate the path(s) toward your custom modules folder(s): \n",
    "\n",
    "*Note: Absolute or relative path with respect to configuration file location.*\n",
    "\n",
    ">```yaml\n",
    ">title: Tutorial Beam Problem\n",
    ">\n",
    "># List of folder paths where user added custom registered OpenMDAO components\n",
    ">module_folders:\n",
    ">    - ../modules\n",
    ">\n",
    "\n",
    "Then, define your input and output files and, if relevant, an optimization driver:\n",
    "\n",
    ">```yaml\n",
    "># Input and output files\n",
    ">input_file: ./problem_inputs.xml\n",
    ">output_file: ../workdir/problem_outputs.xml\n",
    ">\n",
    "># Definition of problem driver assuming the OpenMDAO convention \"import openmdao.api as om\"\n",
    ">driver: om.ScipyOptimizeDriver(tol=1e-2, optimizer='COBYLA')\n",
    ">\n",
    "\n",
    "Finally, you will choose the modules you want to use from the previous list and order them within the `model` section to fit the problem you want to solve. \n",
    "\n",
    "In this first example, we want to compute the minimal beam height to reach a given displacement. We will use the geometry, weight and displacements modules we have just created. As we first want to compute the beam geometry for a given inertia, then the beam linear weight and finally the inertia necessary to reach the targeted displacement. We will order the models as follows:\n",
    "\n",
    "1. `geometry` model using `tutorial.beam_problem.geometry` registered module. \n",
    "2. `weight` model using `tutorial.beam_problem.weight` registered module. \n",
    "3. `displacements`model using `tutorial.beam_problem.disp` registered module.\n",
    "\n",
    "As the variable `data:beam_problem:geometry:Ixx` is an output of the displacements module and an input of the geometry one, a loop is created and we need to introduce solvers.\n",
    "\n",
    "Then, you should end with a configuration file that looks like this: \n",
    "\n",
    ">```yaml\n",
    "># Definition of OpenMDAO model\n",
    "># Although \"model\" is a mandatory name for the top level of the model, its\n",
    "># sub-components can be freely named by user\n",
    ">model:\n",
    ">\n",
    ">  #  Solvers are defined assuming the OpenMDAO convention \"import openmdao.api as om\"\n",
    ">  nonlinear_solver: om.NonlinearBlockGS(maxiter=100, atol=1e-2, iprint=1)\n",
    ">  linear_solver: om.DirectSolver()\n",
    ">  \n",
    ">  geometry:\n",
    ">    id: \"tutorial.beam_problem.geometry\"\n",
    ">    \n",
    ">  weight:\n",
    ">    id: \"tutorial.beam_problem.weight\"\n",
    ">    \n",
    ">  displacements:\n",
    ">    id: \"tutorial.beam_problem.disp\"\n",
    ">```\n",
    "\n",
    "To check the connections between your models and visualize the loops you can plot the $N^2$ diagram as illustrated bellow: "
   ]
  },
  {
   "cell_type": "code",
   "execution_count": 16,
   "metadata": {},
   "outputs": [
    {
     "data": {
      "text/html": [
       "\n",
       "        <iframe\n",
       "            width=\"100%\"\n",
       "            height=\"500px\"\n",
       "            src=\"workdir\\n2.html\"\n",
       "            frameborder=\"0\"\n",
       "            allowfullscreen\n",
       "            \n",
       "        ></iframe>\n",
       "        "
      ],
      "text/plain": [
       "<IPython.lib.display.IFrame at 0x2b279cd53f0>"
      ]
     },
     "execution_count": 16,
     "metadata": {},
     "output_type": "execute_result"
    }
   ],
   "source": [
    "from IPython.display import IFrame\n",
    "\n",
    "N2_FILE = pth.join(WORK_FOLDER, \"n2.html\")\n",
    "oad.write_n2(CONFIGURATION_FILE_NAME, N2_FILE, overwrite=True)\n",
    "\n",
    "IFrame(src=N2_FILE, width=\"100%\", height=\"500px\")"
   ]
  },
  {
   "cell_type": "markdown",
   "metadata": {},
   "source": [
    "## 3. Input file \n",
    "\n",
    "Once the configuration file is generated you can generate or use an already generated input file: "
   ]
  },
  {
   "cell_type": "code",
   "execution_count": 22,
   "metadata": {},
   "outputs": [
    {
     "data": {
      "application/vnd.jupyter.widget-view+json": {
       "model_id": "16b7d01c91694c81844cfc407ca7581d",
       "version_major": 2,
       "version_minor": 0
      },
      "text/plain": [
       "VBox(children=(HBox(children=(Button(description='Load', icon='upload', style=ButtonStyle(), tooltip='Load the…"
      ]
     },
     "metadata": {},
     "output_type": "display_data"
    }
   ],
   "source": [
    "# UNCOMMENT THE FOLLOWING LINE TO GENERATE A BLANK INPUT FILE\n",
    "# oad.generate_inputs(CONFIGURATION_FILE_NAME, overwrite=True)\n",
    "INPUT_FILE_NAME = pth.join(DATA_FOLDER, \"problem_inputs.xml\")\n",
    "oad.variable_viewer(INPUT_FILE_NAME)"
   ]
  },
  {
   "cell_type": "markdown",
   "metadata": {},
   "source": [
    "## 4. Run the problem \n",
    "\n",
    "You can now run the problem:"
   ]
  },
  {
   "cell_type": "code",
   "execution_count": 8,
   "metadata": {},
   "outputs": [
    {
     "name": "stdout",
     "output_type": "stream",
     "text": [
      "NL: NLBGS Converged in 7 iterations\n"
     ]
    }
   ],
   "source": [
    "disp_problem = oad.evaluate_problem(CONFIGURATION_FILE_NAME, overwrite=True)"
   ]
  },
  {
   "cell_type": "code",
   "execution_count": 9,
   "metadata": {},
   "outputs": [
    {
     "data": {
      "application/vnd.jupyter.widget-view+json": {
       "model_id": "89370aebe1b24ce3a0497dcbe5f8d1f8",
       "version_major": 2,
       "version_minor": 0
      },
      "text/plain": [
       "VBox(children=(HBox(children=(Button(description='Load', icon='upload', style=ButtonStyle(), tooltip='Load the…"
      ]
     },
     "metadata": {},
     "output_type": "display_data"
    }
   ],
   "source": [
    "oad.variable_viewer(disp_problem.output_file_path)"
   ]
  },
  {
   "cell_type": "markdown",
   "metadata": {},
   "source": [
    "## 5. Change models \n",
    "\n",
    "To solve the second problem -- that consists in finding the beam height necessary to sustain the external loads without exceeding the material yield stress -- you have to replace the last module. Here again, everything happens in the [configuration file](./data/beam_problem_stress.yml).\n",
    "\n",
    "You have to replace the ```id:``` of the last module: `\"fastoad.beam_problem.disp\"` by the new one `\"fastoad.beam_problem.stresses\"`. \n",
    "\n",
    "You can also update the name of the module, replacing `displacements` by `stresses` as illustrated in the example. This is not a mandatory action but it should be used to keep the readability, especially if the action performed by the module changes. \n",
    "\n",
    "<u>*Note:*</u> *Save the configuration file with a different name to run the two problems independently.*"
   ]
  },
  {
   "cell_type": "markdown",
   "metadata": {},
   "source": [
    "<div class=\"row\">\n",
    "  <div class=\"column\">\n",
    "    <img src=\"./img/stress_config.gif\" width=\"800\">\n",
    "  </div>\n",
    "</div>\n",
    "\n",
    "Then generate the input file and update the input data if necessary. "
   ]
  },
  {
   "cell_type": "code",
   "execution_count": 10,
   "metadata": {},
   "outputs": [
    {
     "data": {
      "application/vnd.jupyter.widget-view+json": {
       "model_id": "66de48e305ff4e01b8bafc2d1ba74c2b",
       "version_major": 2,
       "version_minor": 0
      },
      "text/plain": [
       "VBox(children=(HBox(children=(Button(description='Load', icon='upload', style=ButtonStyle(), tooltip='Load the…"
      ]
     },
     "metadata": {},
     "output_type": "display_data"
    }
   ],
   "source": [
    "CONFIGURATION_FILE_STRESS_NAME = pth.join(DATA_FOLDER, \"beam_problem_stress.yml\")\n",
    "# UNCOMMENT THE FOLLOWING LINE TO GENERATE A BLANK INPUT FILE\n",
    "# oad.generate_inputs(CONFIGURATION_FILE_STRESS_NAME, overwrite=True)\n",
    "INPUT_FILE_NAME = pth.join(DATA_FOLDER, \"problem_inputs_stress.xml\")\n",
    "oad.variable_viewer(INPUT_FILE_NAME)"
   ]
  },
  {
   "cell_type": "code",
   "execution_count": 11,
   "metadata": {},
   "outputs": [
    {
     "name": "stdout",
     "output_type": "stream",
     "text": [
      "NL: NLBGS Converged in 12 iterations\n"
     ]
    }
   ],
   "source": [
    "stress_problem = oad.evaluate_problem(CONFIGURATION_FILE_STRESS_NAME, overwrite=True)"
   ]
  },
  {
   "cell_type": "code",
   "execution_count": 12,
   "metadata": {},
   "outputs": [
    {
     "data": {
      "application/vnd.jupyter.widget-view+json": {
       "model_id": "eb31c88f44c34ab88753459f219f1119",
       "version_major": 2,
       "version_minor": 0
      },
      "text/plain": [
       "VBox(children=(HBox(children=(Button(description='Load', icon='upload', style=ButtonStyle(), tooltip='Load the…"
      ]
     },
     "metadata": {},
     "output_type": "display_data"
    }
   ],
   "source": [
    "oad.variable_viewer(stress_problem.output_file_path)"
   ]
  },
  {
   "cell_type": "markdown",
   "metadata": {},
   "source": [
    "# Variable description file\n",
    "\n",
    "As you may have noticed from the `variable_viewer` function, FAST-OAD provides description for the newly created variables. Indeed, FAST-OAD allows you, once you have created new models, to complete them with a detailed description of your variables. This action is of particular interest if you share your models. \n",
    "\n",
    "To do so, in the folder(s) containing your modules you have to create a text file with the name `variable_descriptions.txt`. Then, fill this file with the variables and their description as follows:   \n",
    "\n",
    "> ```text\n",
    "> # Custom modules variables description file\n",
    "> data:beam_problem:geometry:l || Beam section width\n",
    "> data:beam_problem:geometry:h || Beam section height\n",
    "> data:beam_problem:geometry:L || Beam length\n",
    "> data:beam_problem:geometry:Ixx || Beam section second moment of area w.r.t. x axis \n",
    "> data:beam_problem:material:density || Material density \n",
    "> data:beam_problem:material:yield_stress || Material yield stress\n",
    "> data:beam_problem:material:E || Material Young's modulus\n",
    "> data:beam_problem:weight:linear_weight || Beam linear weight\n",
    "> data:beam_problem:displacements:target || Beam targeted displacement when loads are applied\n",
    "> data:beam_problem:forces:F || Force applied at the tip of the beam\n",
    ">\n",
    ">```\n",
    "\n",
    "Those descriptions are now printed in the dedicated column when the `variable_viewer` is called. For more information please refer to the [documentation](https://fast-oad.readthedocs.io/en/stable/documentation/custom_modules/add_variable_documentation.html)."
   ]
  },
  {
   "cell_type": "code",
   "execution_count": null,
   "metadata": {},
   "outputs": [],
   "source": []
  }
 ],
 "metadata": {
  "kernelspec": {
   "display_name": "Python 3 (ipykernel)",
   "language": "python",
   "name": "python3"
  },
  "language_info": {
   "codemirror_mode": {
    "name": "ipython",
    "version": 3
   },
   "file_extension": ".py",
   "mimetype": "text/x-python",
   "name": "python",
   "nbconvert_exporter": "python",
   "pygments_lexer": "ipython3",
   "version": "3.10.16"
  }
 },
 "nbformat": 4,
 "nbformat_minor": 4
}
