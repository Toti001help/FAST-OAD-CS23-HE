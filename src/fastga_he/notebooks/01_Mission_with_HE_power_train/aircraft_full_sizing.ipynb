{
 "cells": [
  {
   "cell_type": "markdown",
   "metadata": {},
   "source": [
    "<div class=\"row\">\n",
    "  <div class=\"column\">\n",
    "    <img src=\"./img/logo-onera.png\" width=\"200\">\n",
    "  </div>\n",
    "  <div class=\"column\">\n",
    "    <img src=\"./img/logo-ISAE_SUPAERO.png\" width=\"200\">\n",
    "  </div>\n",
    "</div>"
   ]
  },
  {
   "cell_type": "markdown",
   "metadata": {},
   "source": [
    "# Full aircraft sizing with Powertain Builder"
   ]
  },
  {
   "cell_type": "markdown",
   "metadata": {},
   "source": [
    "The Powertrain Builder is a newly developed toolset that enables flexible exploration of powertrain architectures. It can be integrated into FAST-OAD_CS23 missions. This notebook uses the Pipistrel Velis Electro as a case study to demonstrate its functionality."
   ]
  },
  {
   "cell_type": "markdown",
   "metadata": {},
   "source": [
    "## 1. Setting up and initializing the problem"
   ]
  },
  {
   "cell_type": "code",
   "execution_count": null,
   "metadata": {},
   "outputs": [],
   "source": [
    "import os.path as pth\n",
    "import logging\n",
    "import shutil\n",
    "import fastoad.api as oad\n",
    "import fastga_he.api as oad_he\n",
    "\n",
    "# Define relative path\n",
    "DATA_FOLDER_PATH = \"data\"\n",
    "WORK_FOLDER_PATH = \"workdir\"\n",
    "\n",
    "# Define file paths\n",
    "CONFIGURATION_FILE = pth.join(WORK_FOLDER_PATH, \"pipistrel_configuration.yml\")\n",
    "PT_FILE = pth.join(WORK_FOLDER_PATH, \"pipistrel_assembly.yml\")\n",
    "SOURCE_FILE = pth.join(DATA_FOLDER_PATH, \"pipistrel_source.xml\")\n",
    "\n",
    "# For having log messages on screen\n",
    "logging.basicConfig(level=logging.WARNING, format=\"%(levelname)-8s: %(message)s\")"
   ]
  },
  {
   "cell_type": "code",
   "execution_count": null,
   "metadata": {},
   "outputs": [],
   "source": [
    "# copy all the useful YML files into the workdir directory\n",
    "\n",
    "shutil.copy(pth.join(DATA_FOLDER_PATH, \"pipistrel_configuration.yml\"), CONFIGURATION_FILE)\n",
    "shutil.copy(pth.join(DATA_FOLDER_PATH, \"pipistrel_assembly.yml\"), PT_FILE)"
   ]
  },
  {
   "cell_type": "markdown",
   "metadata": {},
   "source": [
    "The following is the propulsion system diagram of the Pilot Operation Handbook (POH) for the Pipistrel Velis Electro. The backbone of the Pipistrel Velis Electro powertrain is formed by the components **<span style=\"color:orange\">highlighted in orange</span>**. Those are the components that will be added in the powertrain file which is how the archtecture of the propulsive systems is specified to FAST-OAD-CS23-HE."
   ]
  },
  {
   "cell_type": "markdown",
   "metadata": {},
   "source": [
    "<img src=\"./img/highlight_pipistrel.gif\">"
   ]
  },
  {
   "cell_type": "markdown",
   "metadata": {},
   "source": [
    "With all the components identified, let's make sure that the powertrain described in the powertrain configuration file corresponds to the diagram above. To do so, FAST-OAD-GA-HE offers a visualization function of the powertrain as a network. Its use is displayed in the following cell. "
   ]
  },
  {
   "cell_type": "code",
   "execution_count": null,
   "metadata": {},
   "outputs": [],
   "source": [
    "from IPython.display import IFrame\n",
    "\n",
    "NETWORK_FILE = pth.join(WORK_FOLDER_PATH, \"network_pipistrel.html\")\n",
    "\n",
    "oad_he.power_train_network_viewer(power_train_file_path=PT_FILE, network_file_path=NETWORK_FILE)\n",
    "\n",
    "IFrame(src=NETWORK_FILE, width=\"100%\", height=\"500px\")"
   ]
  },
  {
   "cell_type": "markdown",
   "metadata": {},
   "source": [
    "For a better architecture visualization run the following cell, it will open the HTML file in a separate tab."
   ]
  },
  {
   "cell_type": "code",
   "execution_count": null,
   "metadata": {},
   "outputs": [],
   "source": [
    "import webbrowser\n",
    "\n",
    "webbrowser.open_new_tab(pth.join(DATA_FOLDER_PATH, \"network_pipistrel.html\"))"
   ]
  },
  {
   "cell_type": "markdown",
   "metadata": {},
   "source": [
    "With the powertrain configuration verified with the architecture from the Pipistrel Velis Electro's pilot operational handbook, let's move on to the generation of inputs."
   ]
  },
  {
   "cell_type": "code",
   "execution_count": null,
   "metadata": {},
   "outputs": [],
   "source": [
    "oad.generate_inputs(CONFIGURATION_FILE, SOURCE_FILE, overwrite=True)"
   ]
  },
  {
   "cell_type": "markdown",
   "metadata": {},
   "source": [
    "## 2. Running Pipistrel Velis Electro's MDA "
   ]
  },
  {
   "cell_type": "markdown",
   "metadata": {},
   "source": [
    "Now we run the problem. As the performances computation was made to stall when not enough progress is made or when it has already converged and can't do more, we will catch those warnings for a cleaner display."
   ]
  },
  {
   "cell_type": "code",
   "execution_count": null,
   "metadata": {},
   "outputs": [],
   "source": [
    "import warnings\n",
    "import openmdao.api as om\n",
    "\n",
    "warnings.filterwarnings(\"ignore\", category=om.OpenMDAOWarning)\n",
    "\n",
    "configurator = oad.FASTOADProblemConfigurator(CONFIGURATION_FILE)\n",
    "problem = configurator.get_problem(read_inputs=True)\n",
    "problem.setup()\n",
    "problem.set_val(\"data:weight:aircraft:MTOW\", units=\"kg\", val=600.0)\n",
    "problem.run_model()\n",
    "problem.write_outputs()\n",
    "\n",
    "print(problem.get_val(\"data:weight:aircraft:MTOW\", units=\"kg\"))"
   ]
  },
  {
   "cell_type": "markdown",
   "metadata": {},
   "source": [
    "## 3. Post-processing"
   ]
  },
  {
   "cell_type": "markdown",
   "metadata": {},
   "source": [
    "After obtaining the result, we can now check the powertrain perormances with the data saved during sizing mission computation using the ``PerformancesViewer``."
   ]
  },
  {
   "cell_type": "code",
   "execution_count": null,
   "metadata": {},
   "outputs": [],
   "source": [
    "MISSION_DATA_FILE = pth.join(WORK_FOLDER_PATH, \"pipistrel_mission_data.csv\")\n",
    "PT_DATA_FILE = pth.join(WORK_FOLDER_PATH, \"pipistrel_power_train_data.csv\")\n",
    "\n",
    "perfo_viewer = oad_he.PerformancesViewer(\n",
    "    power_train_data_file_path=PT_DATA_FILE,\n",
    "    mission_data_file_path=MISSION_DATA_FILE,\n",
    "    plot_height=800,\n",
    ")\n",
    "\n",
    "# Uncomment next lines if you want raw data\n",
    "# pd.set_option('display.max_rows', 500)\n",
    "# pd.set_option('display.max_columns', 500)\n",
    "# pd.set_option('display.width', 200)\n",
    "# print(perfo_viewer.data)"
   ]
  },
  {
   "cell_type": "markdown",
   "metadata": {},
   "source": [
    "For the mass breakdown of the powertrain components, you can use the ``power_train_mass_breakdown``."
   ]
  },
  {
   "cell_type": "code",
   "execution_count": null,
   "metadata": {},
   "outputs": [],
   "source": [
    "fig = oad_he.power_train_mass_breakdown(\n",
    "    problem.output_file_path,\n",
    "    power_train_file_path=PT_FILE,\n",
    ")\n",
    "fig.update_layout(height=800)"
   ]
  },
  {
   "cell_type": "markdown",
   "metadata": {},
   "source": [
    "To further investigate the results of the run, use the ``variable_viewer``."
   ]
  },
  {
   "cell_type": "code",
   "execution_count": null,
   "metadata": {
    "scrolled": true
   },
   "outputs": [],
   "source": [
    "oad.variable_viewer(problem.output_file_path)"
   ]
  },
  {
   "cell_type": "markdown",
   "metadata": {},
   "source": [
    "Use ``write_n2`` to observe the problem N2 diagram structure in another window."
   ]
  },
  {
   "cell_type": "code",
   "execution_count": null,
   "metadata": {},
   "outputs": [],
   "source": [
    "N2_FILE = pth.join(WORK_FOLDER_PATH, \"n2.html\")\n",
    "oad.write_n2(CONFIGURATION_FILE, N2_FILE, overwrite=True)\n",
    "webbrowser.open_new_tab(N2_FILE)"
   ]
  },
  {
   "cell_type": "markdown",
   "metadata": {},
   "source": [
    "## 4. Propeller efficiency optimization with OpenMDAO problem definition"
   ]
  },
  {
   "cell_type": "markdown",
   "metadata": {},
   "source": [
    "This part use ``PerformancesPropeller`` to demonstrate how to run optimization problem for specific subsystems in the FAST-OAD-CS23-HE framework with an OpenMDAO approach."
   ]
  },
  {
   "cell_type": "code",
   "execution_count": null,
   "metadata": {},
   "outputs": [],
   "source": [
    "import openmdao.api as om\n",
    "from stdatm import Atmosphere\n",
    "from fastga_he.models.propulsion.components.propulsor.propeller import PerformancesPropeller\n",
    "\n",
    "# Define problem in OpenMDAO\n",
    "problem = om.Problem(reports=False)\n",
    "model = problem.model\n",
    "\n",
    "# Add subsystems into the problem\n",
    "model.add_subsystem(\n",
    "    \"ivc_rpm\",\n",
    "    om.IndepVarComp(\n",
    "        \"data:propulsion:he_power_train:propeller:propeller_1:rpm_mission\", 2300, units=\"1/min\"\n",
    "    ),\n",
    "    promotes=[\"*\"],\n",
    ")\n",
    "model.add_subsystem(\n",
    "    \"propeller_perf\",\n",
    "    PerformancesPropeller(propeller_id=\"propeller_1\", number_of_points=1),\n",
    "    promotes=[\"*\"],\n",
    ")\n",
    "\n",
    "# Define optimization driver and optimizer options\n",
    "problem.driver = om.ScipyOptimizeDriver()\n",
    "problem.driver.options[\"optimizer\"] = \"differential_evolution\"\n",
    "problem.driver.options[\"maxiter\"] = 1000\n",
    "problem.driver.options[\"tol\"] = 1e-4\n",
    "\n",
    "# DEfine the design variables range of the problem\n",
    "problem.model.add_design_var(\n",
    "    \"data:propulsion:he_power_train:propeller:propeller_1:solidity\", lower=0.1, upper=0.4\n",
    ")\n",
    "problem.model.add_design_var(\n",
    "    \"data:propulsion:he_power_train:propeller:propeller_1:activity_factor\", lower=50, upper=250\n",
    ")\n",
    "problem.model.add_design_var(\n",
    "    \"data:propulsion:he_power_train:propeller:propeller_1:blade_twist\",\n",
    "    lower=10,\n",
    "    upper=35,\n",
    "    units=\"deg\",\n",
    ")\n",
    "problem.model.add_design_var(\n",
    "    \"data:propulsion:he_power_train:propeller:propeller_1:diameter\",\n",
    "    lower=40,\n",
    "    upper=80,\n",
    "    units=\"inch\",\n",
    ")\n",
    "\n",
    "# Define optimization objective function\n",
    "problem.model.add_objective(\"efficiency\", scaler=-1.0)\n",
    "\n",
    "# Define problem driver and problem options\n",
    "problem.nonlinear_solver = om.NewtonSolver(solve_subsystems=True)\n",
    "problem.nonlinear_solver.options[\"iprint\"] = 0\n",
    "problem.nonlinear_solver.options[\"maxiter\"] = 100\n",
    "problem.nonlinear_solver.options[\"rtol\"] = 1e-4\n",
    "problem.linear_solver = om.DirectSolver()\n",
    "\n",
    "problem.model.approx_totals()\n",
    "\n",
    "# Problem setup\n",
    "problem.setup()\n",
    "\n",
    "# Set up problem initial values ( Original output from sizing)\n",
    "problem.set_val(\"altitude\", val=610.0, units=\"m\")\n",
    "problem.set_val(\"density\", val=Atmosphere(610.0).density, units=\"kg/m**3\")\n",
    "problem.set_val(\"thrust\", val=536.5, units=\"N\")\n",
    "problem.set_val(\"true_airspeed\", val=47.8, units=\"knot\")\n",
    "problem.set_val(\"data:propulsion:he_power_train:propeller:propeller_1:solidity\", 0.135)\n",
    "problem.set_val(\"data:propulsion:he_power_train:propeller:propeller_1:activity_factor\", 125.0)\n",
    "problem.set_val(\n",
    "    \"data:propulsion:he_power_train:propeller:propeller_1:blade_twist\", val=20.0, units=\"deg\"\n",
    ")\n",
    "problem.set_val(\n",
    "    \"data:propulsion:he_power_train:propeller:propeller_1:diameter\", val=164.0, units=\"cm\"\n",
    ")\n",
    "\n",
    "problem.set_solver_print(level=0)\n",
    "\n",
    "# Run problem\n",
    "problem.run_driver()\n",
    "\n",
    "# output optimization results\n",
    "print(\n",
    "    f\"Propeller solidity: {problem.get_val('data:propulsion:he_power_train:propeller:propeller_1:solidity')}\"\n",
    ")\n",
    "print(\n",
    "    f\"Propeller activity factor: {problem.get_val('data:propulsion:he_power_train:propeller:propeller_1:activity_factor')}\"\n",
    ")\n",
    "print(\n",
    "    f\"Propeller blade twist (deg): {problem.get_val('data:propulsion:he_power_train:propeller:propeller_1:blade_twist', units='deg')}\"\n",
    ")\n",
    "print(\n",
    "    f\"Propeller diameter (inch): {problem.get_val('data:propulsion:he_power_train:propeller:propeller_1:diameter', units='inch')}\"\n",
    ")\n",
    "print(f\"Propeller efficiency: {problem.get_val('efficiency')}\")"
   ]
  }
 ],
 "metadata": {
  "kernelspec": {
   "display_name": "Python 3 (ipykernel)",
   "language": "python",
   "name": "python3"
  },
  "language_info": {
   "codemirror_mode": {
    "name": "ipython",
    "version": 3
   },
   "file_extension": ".py",
   "mimetype": "text/x-python",
   "name": "python",
   "nbconvert_exporter": "python",
   "pygments_lexer": "ipython3",
   "version": "3.10.18"
  }
 },
 "nbformat": 4,
 "nbformat_minor": 4
}
