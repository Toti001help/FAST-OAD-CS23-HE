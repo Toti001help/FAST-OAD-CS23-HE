{
 "cells": [
  {
   "cell_type": "markdown",
   "metadata": {},
   "source": [
    "<div class=\"row\">\n",
    "  <div class=\"column\">\n",
    "    <img src=\"./img/logo-onera.png\" width=\"200\">\n",
    "  </div>\n",
    "  <div class=\"column\">\n",
    "    <img src=\"./img/logo-ISAE_SUPAERO.png\" width=\"200\">\n",
    "  </div>\n",
    "</div>"
   ]
  },
  {
   "cell_type": "markdown",
   "metadata": {},
   "source": [
    "# Full aircraft sizing with Powertain Builder"
   ]
  },
  {
   "cell_type": "markdown",
   "metadata": {},
   "source": [
    "The Powertrain Builder is a newly developed toolset that enables flexible exploration of powertrain architectures. It can be integrated into FAST-OAD_CS23 missions. This notebook uses the Pipistrel Velis Electro as a case study to demonstrate its functionality."
   ]
  },
  {
   "cell_type": "markdown",
   "metadata": {},
   "source": [
    "## 1. Setting up and initializing the problem"
   ]
  },
  {
   "cell_type": "code",
   "execution_count": 1,
   "metadata": {},
   "outputs": [],
   "source": [
    "import os.path as pth\n",
    "import logging\n",
    "import shutil\n",
    "import fastoad.api as oad\n",
    "import fastga_he.api as oad_he\n",
    "\n",
    "# Define relative path\n",
    "DATA_FOLDER_PATH = \"data\"\n",
    "WORK_FOLDER_PATH = \"workdir\"\n",
    "\n",
    "# Define file paths\n",
    "CONFIGURATION_FILE = pth.join(WORK_FOLDER_PATH, \"pipistrel_configuration.yml\")\n",
    "PT_FILE = pth.join(WORK_FOLDER_PATH, \"pipistrel_assembly.yml\")\n",
    "SOURCE_FILE = pth.join(DATA_FOLDER_PATH, \"pipistrel_source.xml\")\n",
    "\n",
    "# For having log messages on screen\n",
    "logging.basicConfig(level=logging.WARNING, format=\"%(levelname)-8s: %(message)s\")"
   ]
  },
  {
   "cell_type": "code",
   "execution_count": 2,
   "metadata": {},
   "outputs": [
    {
     "data": {
      "text/plain": [
       "'workdir\\\\pipistrel_assembly.yml'"
      ]
     },
     "execution_count": 2,
     "metadata": {},
     "output_type": "execute_result"
    }
   ],
   "source": [
    "# copy all the useful YML files into the workdir directory\n",
    "\n",
    "shutil.copy(pth.join(DATA_FOLDER_PATH, \"pipistrel_configuration.yml\"), CONFIGURATION_FILE)\n",
    "shutil.copy(pth.join(DATA_FOLDER_PATH, \"pipistrel_assembly.yml\"), PT_FILE)"
   ]
  },
  {
   "cell_type": "markdown",
   "metadata": {},
   "source": [
    "The following is the propulsion system diagram of the pilot operation handbook from Pipistrel Velis Electro. The backbone of the Pipistrel Velis Electro powertrain is formed by the components **<span style=\"color:orange\">highlighted in orange</span>** with the corresponding powertrain builder components."
   ]
  },
  {
   "cell_type": "markdown",
   "metadata": {},
   "source": [
    "<img src=\"./img/highlight_pipistrel.gif\">"
   ]
  },
  {
   "cell_type": "markdown",
   "metadata": {},
   "source": [
    "With all the components identified, let's make sure that the powertrain described in the powertrain configuration file corresponds to the diagram above. To do so, FAST-OAD-GA-HE offers a visualization function of the powertrain as a network. Its use is displayed in the following cell."
   ]
  },
  {
   "cell_type": "code",
   "execution_count": 5,
   "metadata": {},
   "outputs": [
    {
     "name": "stdout",
     "output_type": "stream",
     "text": [
      "network_pipistrel.html\n"
     ]
    },
    {
     "data": {
      "text/html": [
       "\n",
       "        <iframe\n",
       "            width=\"100%\"\n",
       "            height=\"500px\"\n",
       "            src=\"workdir\\network_pipistrel.html\"\n",
       "            frameborder=\"0\"\n",
       "            allowfullscreen\n",
       "            \n",
       "        ></iframe>\n",
       "        "
      ],
      "text/plain": [
       "<IPython.lib.display.IFrame at 0x16def2b2110>"
      ]
     },
     "execution_count": 5,
     "metadata": {},
     "output_type": "execute_result"
    }
   ],
   "source": [
    "from IPython.display import IFrame\n",
    "\n",
    "NETWORK_FILE = pth.join(WORK_FOLDER_PATH, \"network_pipistrel.html\")\n",
    "\n",
    "oad_he.power_train_network_viewer(power_train_file_path=PT_FILE, network_file_path=NETWORK_FILE)\n",
    "\n",
    "IFrame(src=NETWORK_FILE, width=\"100%\", height=\"500px\")"
   ]
  },
  {
   "cell_type": "markdown",
   "metadata": {},
   "source": [
    "With the powertrain configuration verified with the architecture from the Pipistrel Velis Electro's pilot operational handbook, "
   ]
  },
  {
   "cell_type": "markdown",
   "metadata": {},
   "source": [
    "Let's now move on to the generation of inputs."
   ]
  },
  {
   "cell_type": "code",
   "execution_count": null,
   "metadata": {},
   "outputs": [],
   "source": [
    "oad.generate_inputs(CONFIGURATION_FILE, SOURCE_FILE, overwrite=True)"
   ]
  },
  {
   "cell_type": "markdown",
   "metadata": {},
   "source": [
    "Now we run the problem. As the performances computation was made to stall when not enough progress is made or when it has already converged and can't do more, we will catch those warnings for a cleaner display."
   ]
  },
  {
   "cell_type": "code",
   "execution_count": null,
   "metadata": {},
   "outputs": [],
   "source": [
    "import warnings\n",
    "import openmdao.api as om\n",
    "\n",
    "warnings.filterwarnings(\"ignore\", category=om.OpenMDAOWarning)\n",
    "\n",
    "configurator = oad.FASTOADProblemConfigurator(CONFIGURATION_FILE)\n",
    "problem = configurator.get_problem(read_inputs=True)\n",
    "problem.setup()\n",
    "problem.set_val(\"data:weight:aircraft:MTOW\", units=\"kg\", val=1000.0)\n",
    "problem.run_model()\n",
    "problem.write_outputs()\n",
    "\n",
    "print(problem.get_val(\"data:weight:aircraft:MTOW\", units=\"kg\"))"
   ]
  },
  {
   "cell_type": "markdown",
   "metadata": {},
   "source": [
    "We can now use the API to create graphs based on the data saved during mission computation"
   ]
  },
  {
   "cell_type": "code",
   "execution_count": null,
   "metadata": {},
   "outputs": [],
   "source": [
    "MISSION_DATA_FILE = pth.join(WORK_FOLDER_PATH, \"mission_data.csv\")\n",
    "PT_DATA_FILE = pth.join(WORK_FOLDER_PATH, \"power_train_data.csv\")\n",
    "\n",
    "perfo_viewer = oad_he.PerformancesViewer(\n",
    "    power_train_data_file_path=PT_DATA_FILE,\n",
    "    mission_data_file_path=MISSION_DATA_FILE,\n",
    "    plot_height=800,\n",
    ")\n",
    "\n",
    "# Uncomment next lines if you want raw data\n",
    "# pd.set_option('display.max_rows', 500)\n",
    "# pd.set_option('display.max_columns', 500)\n",
    "# pd.set_option('display.width', 200)\n",
    "# print(perfo_viewer.data)"
   ]
  },
  {
   "cell_type": "markdown",
   "metadata": {},
   "source": [
    "And also display a breakdown of the weight of the components of the power train."
   ]
  },
  {
   "cell_type": "code",
   "execution_count": null,
   "metadata": {},
   "outputs": [],
   "source": [
    "fig = oad_he.power_train_mass_breakdown(\n",
    "    problem.output_file_path,\n",
    "    power_train_file_path=PT_FILE,\n",
    ")\n",
    "fig.update_layout(height=800)"
   ]
  },
  {
   "cell_type": "code",
   "execution_count": null,
   "metadata": {},
   "outputs": [],
   "source": [
    "oad.variable_viewer(problem.output_file_path)"
   ]
  },
  {
   "cell_type": "code",
   "execution_count": null,
   "metadata": {},
   "outputs": [],
   "source": [
    "from IPython.display import IFrame\n",
    "\n",
    "N2_FILE = pth.join(WORK_FOLDER_PATH, \"n2.html\")\n",
    "oad.write_n2(CONFIGURATION_FILE, N2_FILE, overwrite=True)\n",
    "\n",
    "IFrame(src=N2_FILE, width=\"100%\", height=\"500px\")"
   ]
  },
  {
   "cell_type": "markdown",
   "metadata": {},
   "source": [
    "Optimization of the propeller efficiency for cruise conditions (OpenMDAO style)."
   ]
  },
  {
   "cell_type": "code",
   "execution_count": null,
   "metadata": {},
   "outputs": [],
   "source": [
    "import openmdao.api as om\n",
    "\n",
    "from fastga_he.models.propulsion.components.propulsor.propeller import PerformancesPropeller\n",
    "\n",
    "problem = om.Problem()\n",
    "model = problem.model\n",
    "model.add_subsystem(\n",
    "    \"ivc_rpm\",\n",
    "    om.IndepVarComp(\n",
    "        \"data:propulsion:he_power_train:propeller:propeller_1:rpm_mission\", 2300, units=\"1/min\"\n",
    "    ),\n",
    "    promotes=[\"*\"],\n",
    ")\n",
    "model.add_subsystem(\n",
    "    \"propeller_perf\",\n",
    "    PerformancesPropeller(propeller_id=\"propeller_1\", number_of_points=1),\n",
    "    promotes=[\"*\"],\n",
    ")\n",
    "problem.driver = om.ScipyOptimizeDriver()\n",
    "problem.driver.options[\"optimizer\"] = \"differential_evolution\"\n",
    "problem.driver.options[\"maxiter\"] = 1000\n",
    "problem.driver.options[\"tol\"] = 1e-4\n",
    "\n",
    "problem.model.add_design_var(\n",
    "    \"data:propulsion:he_power_train:propeller:propeller_1:solidity\", lower=0.1, upper=0.4\n",
    ")\n",
    "problem.model.add_design_var(\n",
    "    \"data:propulsion:he_power_train:propeller:propeller_1:activity_factor\", lower=100, upper=300\n",
    ")\n",
    "problem.model.add_design_var(\n",
    "    \"data:propulsion:he_power_train:propeller:propeller_1:blade_twist\",\n",
    "    lower=15,\n",
    "    upper=35,\n",
    "    units=\"deg\",\n",
    ")\n",
    "problem.model.add_design_var(\n",
    "    \"data:propulsion:he_power_train:propeller:propeller_1:diameter\",\n",
    "    lower=40,\n",
    "    upper=80,\n",
    "    units=\"inch\",\n",
    ")\n",
    "problem.model.add_objective(\"efficiency\", scaler=-1.0)\n",
    "\n",
    "problem.nonlinear_solver = om.NewtonSolver(solve_subsystems=True)\n",
    "problem.nonlinear_solver.options[\"iprint\"] = 0\n",
    "problem.nonlinear_solver.options[\"maxiter\"] = 100\n",
    "problem.nonlinear_solver.options[\"rtol\"] = 1e-4\n",
    "problem.linear_solver = om.DirectSolver()\n",
    "\n",
    "problem.model.approx_totals()\n",
    "\n",
    "problem.setup()\n",
    "\n",
    "problem.set_val(\"altitude\", val=3000, units=\"ft\")\n",
    "problem.set_val(\"thrust\", val=560.0, units=\"N\")\n",
    "problem.set_val(\"true_airspeed\", val=90.0, units=\"knot\")\n",
    "problem.set_val(\"data:propulsion:he_power_train:propeller:propeller_1:solidity\", 0.4)\n",
    "problem.set_val(\"data:propulsion:he_power_train:propeller:propeller_1:activity_factor\", 300)\n",
    "problem.set_val(\n",
    "    \"data:propulsion:he_power_train:propeller:propeller_1:blade_twist\", val=25.0, units=\"deg\"\n",
    ")\n",
    "problem.set_val(\n",
    "    \"data:propulsion:he_power_train:propeller:propeller_1:diameter\", val=50.0, units=\"inch\"\n",
    ")\n",
    "\n",
    "problem.set_solver_print(level=0)\n",
    "\n",
    "problem.run_driver()\n",
    "\n",
    "print(problem.get_val(\"data:propulsion:he_power_train:propeller:propeller_1:solidity\"))\n",
    "print(problem.get_val(\"data:propulsion:he_power_train:propeller:propeller_1:activity_factor\"))\n",
    "print(\n",
    "    problem.get_val(\"data:propulsion:he_power_train:propeller:propeller_1:blade_twist\", units=\"deg\")\n",
    ")\n",
    "print(\n",
    "    problem.get_val(\"data:propulsion:he_power_train:propeller:propeller_1:diameter\", units=\"inch\")\n",
    ")\n",
    "print(problem.get_val(\"efficiency\"))"
   ]
  }
 ],
 "metadata": {
  "kernelspec": {
   "display_name": "Python 3 (ipykernel)",
   "language": "python",
   "name": "python3"
  },
  "language_info": {
   "codemirror_mode": {
    "name": "ipython",
    "version": 3
   },
   "file_extension": ".py",
   "mimetype": "text/x-python",
   "name": "python",
   "nbconvert_exporter": "python",
   "pygments_lexer": "ipython3",
   "version": "3.10.18"
  }
 },
 "nbformat": 4,
 "nbformat_minor": 4
}
