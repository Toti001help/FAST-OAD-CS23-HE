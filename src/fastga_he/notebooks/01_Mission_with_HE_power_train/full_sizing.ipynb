{
 "cells": [
  {
   "cell_type": "markdown",
   "metadata": {},
   "source": [
    "<div class=\"row\">\n",
    "  <div class=\"column\">\n",
    "    <img src=\"./img/logo-onera.png\" width=\"200\">\n",
    "  </div>\n",
    "  <div class=\"column\">\n",
    "    <img src=\"./img/logo-ISAE_SUPAERO.png\" width=\"200\">\n",
    "  </div>\n",
    "</div>"
   ]
  },
  {
   "cell_type": "markdown",
   "metadata": {},
   "source": [
    "# Mission with HE power train"
   ]
  },
  {
   "cell_type": "markdown",
   "metadata": {},
   "source": [
    "The following Notebook shows the user an example of how to size an aircraft usinf the newly developed power train builder along with the mission from FAST-OAD_CS23."
   ]
  },
  {
   "cell_type": "code",
   "execution_count": null,
   "metadata": {},
   "outputs": [],
   "source": [
    "import os.path as pth\n",
    "import logging\n",
    "import shutil\n",
    "\n",
    "import pandas as pd\n",
    "\n",
    "import fastoad.api as oad\n",
    "import fastga_he.api as oad_he\n",
    "\n",
    "DATA_FOLDER_PATH = \"data\"\n",
    "\n",
    "WORK_FOLDER_PATH = \"workdir\"\n",
    "\n",
    "CONFIGURATION_FILE = pth.join(WORK_FOLDER_PATH, \"full_sizing.yml\")\n",
    "PT_FILE = pth.join(WORK_FOLDER_PATH, \"simple_assembly.yml\")\n",
    "# The following PT file is not used for sizing just to try out the network function\n",
    "PT_FILE_QUAD = pth.join(WORK_FOLDER_PATH, \"quad_assembly.yml\")\n",
    "SOURCE_FILE = pth.join(DATA_FOLDER_PATH, \"full_sizing.xml\")\n",
    "\n",
    "# For having log messages on screen\n",
    "logging.basicConfig(level=logging.WARNING, format=\"%(levelname)-8s: %(message)s\")"
   ]
  },
  {
   "cell_type": "code",
   "execution_count": null,
   "metadata": {},
   "outputs": [],
   "source": [
    "# We copy all the useful file in the workdir\n",
    "\n",
    "shutil.copy(pth.join(DATA_FOLDER_PATH, \"full_sizing.yml\"), CONFIGURATION_FILE)\n",
    "shutil.copy(pth.join(DATA_FOLDER_PATH, \"simple_assembly.yml\"), PT_FILE)\n",
    "shutil.copy(pth.join(DATA_FOLDER_PATH, \"quad_assembly.yml\"), PT_FILE_QUAD)"
   ]
  },
  {
   "cell_type": "markdown",
   "metadata": {},
   "source": [
    "Before trying to launch the analysis, let's make sure that the powertrain described in the power train file corresponds to what is expected. To do so, FAST-OAD-GA-HE offers a tool for repreenting the power train as a network. Its use is displayed in the following cell."
   ]
  },
  {
   "cell_type": "code",
   "execution_count": null,
   "metadata": {},
   "outputs": [],
   "source": [
    "NETWORK_FILE = pth.join(WORK_FOLDER_PATH, \"network.html\")\n",
    "\n",
    "oad_he.power_train_network_viewer(power_train_file_path=PT_FILE, network_file_path=NETWORK_FILE)\n",
    "\n",
    "from IPython.display import IFrame\n",
    "\n",
    "IFrame(src=NETWORK_FILE, width=\"100%\", height=\"500px\")"
   ]
  },
  {
   "cell_type": "code",
   "execution_count": null,
   "metadata": {},
   "outputs": [],
   "source": [
    "NETWORK_FILE_QUAD = pth.join(WORK_FOLDER_PATH, \"network_quad.html\")\n",
    "\n",
    "oad_he.power_train_network_viewer(\n",
    "    power_train_file_path=PT_FILE_QUAD, network_file_path=NETWORK_FILE_QUAD\n",
    ")\n",
    "\n",
    "from IPython.display import IFrame\n",
    "\n",
    "IFrame(src=NETWORK_FILE_QUAD, width=\"100%\", height=\"500px\")"
   ]
  },
  {
   "cell_type": "markdown",
   "metadata": {},
   "source": [
    "Let's now move on to the generation of inputs."
   ]
  },
  {
   "cell_type": "code",
   "execution_count": null,
   "metadata": {},
   "outputs": [],
   "source": [
    "oad.generate_inputs(CONFIGURATION_FILE, SOURCE_FILE, overwrite=True)"
   ]
  },
  {
   "cell_type": "markdown",
   "metadata": {},
   "source": [
    "Now we run the problem. As the performances computation was made to stall when not enough progress is made or when it has already converged and can't do more, we will catch those warnings for a cleaner display."
   ]
  },
  {
   "cell_type": "code",
   "execution_count": null,
   "metadata": {},
   "outputs": [],
   "source": [
    "import warnings\n",
    "import openmdao.api as om\n",
    "\n",
    "warnings.filterwarnings(\"ignore\", category=om.OpenMDAOWarning)\n",
    "\n",
    "configurator = oad.FASTOADProblemConfigurator(CONFIGURATION_FILE)\n",
    "problem = configurator.get_problem(read_inputs=True)\n",
    "problem.setup()\n",
    "problem.set_val(\"data:weight:aircraft:MTOW\", units=\"kg\", val=1000.0)\n",
    "problem.run_model()\n",
    "problem.write_outputs()\n",
    "\n",
    "print(problem.get_val(\"data:weight:aircraft:MTOW\", units=\"kg\"))"
   ]
  },
  {
   "cell_type": "markdown",
   "metadata": {},
   "source": [
    "We can now use the API to create graphs based on the data saved during mission computation"
   ]
  },
  {
   "cell_type": "code",
   "execution_count": null,
   "metadata": {},
   "outputs": [],
   "source": [
    "MISSION_DATA_FILE = pth.join(WORK_FOLDER_PATH, \"mission_data.csv\")\n",
    "PT_DATA_FILE = pth.join(WORK_FOLDER_PATH, \"power_train_data.csv\")\n",
    "\n",
    "perfo_viewer = oad_he.PerformancesViewer(\n",
    "    power_train_data_file_path=PT_DATA_FILE,\n",
    "    mission_data_file_path=MISSION_DATA_FILE,\n",
    "    plot_height=800,\n",
    ")\n",
    "\n",
    "# Uncomment next lines if you want raw data\n",
    "# pd.set_option('display.max_rows', 500)\n",
    "# pd.set_option('display.max_columns', 500)\n",
    "# pd.set_option('display.width', 200)\n",
    "# print(perfo_viewer.data)"
   ]
  },
  {
   "cell_type": "markdown",
   "metadata": {},
   "source": [
    "And also display a breakdown of the weight of the components of the power train."
   ]
  },
  {
   "cell_type": "code",
   "execution_count": null,
   "metadata": {},
   "outputs": [],
   "source": [
    "fig = oad_he.power_train_mass_breakdown(\n",
    "    problem.output_file_path,\n",
    "    power_train_file_path=PT_FILE,\n",
    ")\n",
    "fig.update_layout(height=800)"
   ]
  },
  {
   "cell_type": "code",
   "execution_count": null,
   "metadata": {},
   "outputs": [],
   "source": [
    "oad.variable_viewer(problem.output_file_path)"
   ]
  },
  {
   "cell_type": "code",
   "execution_count": null,
   "metadata": {},
   "outputs": [],
   "source": [
    "N2_FILE = pth.join(WORK_FOLDER_PATH, \"n2.html\")\n",
    "oad.write_n2(CONFIGURATION_FILE, N2_FILE, overwrite=True)\n",
    "\n",
    "from IPython.display import IFrame\n",
    "\n",
    "IFrame(src=N2_FILE, width=\"100%\", height=\"500px\")"
   ]
  },
  {
   "cell_type": "markdown",
   "metadata": {},
   "source": [
    "Optimization of the propeller efficiency for cruise conditions (OpenMDAO style)."
   ]
  },
  {
   "cell_type": "code",
   "execution_count": null,
   "metadata": {},
   "outputs": [],
   "source": [
    "import openmdao.api as om\n",
    "\n",
    "from fastga_he.models.propulsion.components.propulsor.propeller import PerformancesPropeller\n",
    "\n",
    "problem = om.Problem()\n",
    "model = problem.model\n",
    "model.add_subsystem(\n",
    "    \"ivc_rpm\",\n",
    "    om.IndepVarComp(\n",
    "        \"data:propulsion:he_power_train:propeller:propeller_1:rpm_mission\", 2300, units=\"1/min\"\n",
    "    ),\n",
    "    promotes=[\"*\"],\n",
    ")\n",
    "model.add_subsystem(\n",
    "    \"propeller_perf\",\n",
    "    PerformancesPropeller(propeller_id=\"propeller_1\", number_of_points=1),\n",
    "    promotes=[\"*\"],\n",
    ")\n",
    "problem.driver = om.ScipyOptimizeDriver()\n",
    "problem.driver.options[\"optimizer\"] = \"differential_evolution\"\n",
    "problem.driver.options[\"maxiter\"] = 1000\n",
    "problem.driver.options[\"tol\"] = 1e-4\n",
    "\n",
    "problem.model.add_design_var(\n",
    "    \"data:propulsion:he_power_train:propeller:propeller_1:solidity\", lower=0.1, upper=0.4\n",
    ")\n",
    "problem.model.add_design_var(\n",
    "    \"data:propulsion:he_power_train:propeller:propeller_1:activity_factor\", lower=100, upper=300\n",
    ")\n",
    "problem.model.add_design_var(\n",
    "    \"data:propulsion:he_power_train:propeller:propeller_1:blade_twist\",\n",
    "    lower=15,\n",
    "    upper=35,\n",
    "    units=\"deg\",\n",
    ")\n",
    "problem.model.add_design_var(\n",
    "    \"data:propulsion:he_power_train:propeller:propeller_1:diameter\",\n",
    "    lower=40,\n",
    "    upper=80,\n",
    "    units=\"inch\",\n",
    ")\n",
    "problem.model.add_objective(\"efficiency\", scaler=-1.0)\n",
    "\n",
    "problem.nonlinear_solver = om.NewtonSolver(solve_subsystems=True)\n",
    "problem.nonlinear_solver.options[\"iprint\"] = 0\n",
    "problem.nonlinear_solver.options[\"maxiter\"] = 100\n",
    "problem.nonlinear_solver.options[\"rtol\"] = 1e-4\n",
    "problem.linear_solver = om.DirectSolver()\n",
    "\n",
    "problem.model.approx_totals()\n",
    "\n",
    "problem.setup()\n",
    "\n",
    "problem.set_val(\"altitude\", val=3000, units=\"ft\")\n",
    "problem.set_val(\"thrust\", val=560.0, units=\"N\")\n",
    "problem.set_val(\"true_airspeed\", val=90.0, units=\"knot\")\n",
    "problem.set_val(\"data:propulsion:he_power_train:propeller:propeller_1:solidity\", 0.4)\n",
    "problem.set_val(\"data:propulsion:he_power_train:propeller:propeller_1:activity_factor\", 300)\n",
    "problem.set_val(\n",
    "    \"data:propulsion:he_power_train:propeller:propeller_1:blade_twist\", val=25.0, units=\"deg\"\n",
    ")\n",
    "problem.set_val(\n",
    "    \"data:propulsion:he_power_train:propeller:propeller_1:diameter\", val=50.0, units=\"inch\"\n",
    ")\n",
    "\n",
    "problem.set_solver_print(level=0)\n",
    "\n",
    "problem.run_driver()\n",
    "\n",
    "print(problem.get_val(\"data:propulsion:he_power_train:propeller:propeller_1:solidity\"))\n",
    "print(problem.get_val(\"data:propulsion:he_power_train:propeller:propeller_1:activity_factor\"))\n",
    "print(\n",
    "    problem.get_val(\"data:propulsion:he_power_train:propeller:propeller_1:blade_twist\", units=\"deg\")\n",
    ")\n",
    "print(\n",
    "    problem.get_val(\"data:propulsion:he_power_train:propeller:propeller_1:diameter\", units=\"inch\")\n",
    ")\n",
    "print(problem.get_val(\"efficiency\"))"
   ]
  }
 ],
 "metadata": {
  "kernelspec": {
   "display_name": "Python 3 (ipykernel)",
   "language": "python",
   "name": "python3"
  },
  "language_info": {
   "codemirror_mode": {
    "name": "ipython",
    "version": 3
   },
   "file_extension": ".py",
   "mimetype": "text/x-python",
   "name": "python",
   "nbconvert_exporter": "python",
   "pygments_lexer": "ipython3",
   "version": "3.8.13"
  }
 },
 "nbformat": 4,
 "nbformat_minor": 4
}
