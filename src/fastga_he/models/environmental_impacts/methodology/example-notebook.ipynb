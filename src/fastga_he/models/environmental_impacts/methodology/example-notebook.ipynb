{
 "cells": [
  {
   "cell_type": "markdown",
   "id": "43099c02967edd47",
   "metadata": {},
   "source": [
    "## Imports / init"
   ]
  },
  {
   "cell_type": "code",
   "execution_count": null,
   "id": "56a7fd5e",
   "metadata": {
    "ExecuteTime": {
     "end_time": "2024-04-16T14:25:49.792585Z",
     "start_time": "2024-04-16T14:25:47.021810Z"
    }
   },
   "outputs": [],
   "source": [
    "# Those two lines are for dev only : they watch imported libraries for changes\n",
    "# %load_ext autoreload\n",
    "# %autoreload 2\n",
    "\n",
    "import brightway2 as bw\n",
    "import os\n",
    "\n",
    "import lca_algebraic as agb\n",
    "\n",
    "from sympy import init_printing\n",
    "import bw2io\n",
    "from dotenv import load_dotenv\n",
    "\n",
    "# Pretty print for Sympy\n",
    "init_printing()"
   ]
  },
  {
   "cell_type": "markdown",
   "id": "9b3cb21d",
   "metadata": {},
   "source": [
    "# Init brightway2 and databases"
   ]
  },
  {
   "cell_type": "code",
   "execution_count": null,
   "id": "b1cd4f628163aa53",
   "metadata": {
    "ExecuteTime": {
     "end_time": "2024-04-16T14:25:49.829289Z",
     "start_time": "2024-04-16T14:25:49.794153Z"
    }
   },
   "outputs": [],
   "source": [
    "# Set the current project\n",
    "# Can be any name\n",
    "bw.projects.set_current(\"MyProject\")\n",
    "\n",
    "# It's better to not leave credential in the code.\n",
    "# Create a file named .env, that you will not share /commit, and contains the following :\n",
    "# ECOINVENT_LOGIN=<your_login>\n",
    "# ECOINVENT_PASSWORD=<your_password>\n",
    "\n",
    "# This load .env file into os.environ\n",
    "load_dotenv()\n",
    "\n",
    "# This downloads ecoinvent and installs biopshere + technosphere + LCIA methods\n",
    "if len(bw.databases) > 0:\n",
    "    print(\"Initial setup already done, skipping\")\n",
    "else:\n",
    "    # This is now the prefered method to init an Brightway2 with Ecoinvent\n",
    "    # It is not more tied to a specific version of bw2io\n",
    "    bw2io.import_ecoinvent_release(\n",
    "        version=\"3.9\",\n",
    "        system_model=\"cutoff\",\n",
    "        username=os.environ[\"ECOINVENT_LOGIN\"],  # Read for .env file\n",
    "        password=os.environ[\"ECOINVENT_PASSWORD\"],  # Read from .env file\n",
    "        use_mp=True,\n",
    "    )"
   ]
  },
  {
   "cell_type": "code",
   "execution_count": null,
   "id": "50ed7cab",
   "metadata": {
    "ExecuteTime": {
     "end_time": "2024-04-16T14:25:49.892329Z",
     "start_time": "2024-04-16T14:25:49.830700Z"
    }
   },
   "outputs": [],
   "source": [
    "# We use a separate DB for defining our foreground model / activities\n",
    "# Choose any name\n",
    "USER_DB = \"MyForeground\"\n",
    "\n",
    "# This is better to cleanup the whole foreground model each time, and redefine it in the notebook (or a python file)\n",
    "# instead of relying on a state or previous run.\n",
    "# Any persistent state is prone to errors.\n",
    "agb.resetDb(USER_DB)\n",
    "\n",
    "# Parameters are stored at project level :\n",
    "# Reset them also\n",
    "# You may remove this line if you import a project and parameters from an external source (see loadParam(..))\n",
    "agb.resetParams()\n",
    "\n",
    "# Overview of the databases\n",
    "agb.list_databases()"
   ]
  },
  {
   "cell_type": "markdown",
   "id": "774f5943",
   "metadata": {},
   "source": [
    "# Introduction to Numpy\n",
    "\n",
    "Numpy is a python libray for symbolic calculus. \n",
    "\n",
    "You write Sympy expression as you write **standard python expressions**, using **sympy symbols** in them. \n",
    "\n",
    "The result is then a **symbolic expression that can be manipulated**, instead of a **numeric value**."
   ]
  },
  {
   "cell_type": "code",
   "execution_count": null,
   "id": "f7ff05b4",
   "metadata": {
    "ExecuteTime": {
     "end_time": "2024-04-16T14:25:50.318536Z",
     "start_time": "2024-04-16T14:25:49.894786Z"
    }
   },
   "outputs": [],
   "source": [
    "from sympy import symbols\n",
    "\n",
    "# create sympy symbol\n",
    "x = symbols(\"x\")\n",
    "\n",
    "# Expressions are not directly evaluated\n",
    "f = x * 2 + 4\n",
    "f"
   ]
  },
  {
   "cell_type": "code",
   "execution_count": null,
   "id": "727f1ede",
   "metadata": {
    "ExecuteTime": {
     "end_time": "2024-04-16T14:25:50.332157Z",
     "start_time": "2024-04-16T14:25:50.319967Z"
    }
   },
   "outputs": [],
   "source": [
    "# symbols can be replaced by values afterwards\n",
    "f.subs(dict(x=3))"
   ]
  },
  {
   "cell_type": "markdown",
   "id": "4f7bc29d",
   "metadata": {},
   "source": [
    "In practice, you don't need to care about Sympy. Just remember that : \n",
    "* The parameters defined below are **instances of sympy symbols**\n",
    "* Any **valid python expression** containing a **sympy symbol** will create a **sympy symbolic expression**"
   ]
  },
  {
   "cell_type": "markdown",
   "id": "0cd069ad",
   "metadata": {},
   "source": [
    "# Define input parameters\n",
    "\n",
    "First, we define the input parameters of the model together with their distribution.\n",
    "\n",
    "The numeric parameters are **instances of sympy 'Symbol'**. \n",
    "\n",
    "Thus, any python arithmetic expression composed of parameters will result in a **symbolic expression** to be used later in the definition of the model, rather than a static numeric result."
   ]
  },
  {
   "cell_type": "code",
   "execution_count": null,
   "id": "139e432e",
   "metadata": {
    "ExecuteTime": {
     "end_time": "2024-04-16T14:25:50.417494Z",
     "start_time": "2024-04-16T14:25:50.333435Z"
    }
   },
   "outputs": [],
   "source": [
    "# Example of 'float' parameters\n",
    "a = agb.newFloatParam(\n",
    "    \"a\",\n",
    "    default=0.5,\n",
    "    min=0.2,\n",
    "    max=2,\n",
    "    distrib=agb.DistributionType.TRIANGLE,  # Distribution type, linear by default\n",
    "    description=\"hello world\",\n",
    "    label=\"extended label for a\",\n",
    ")\n",
    "\n",
    "b = agb.newFloatParam(\n",
    "    \"b\",\n",
    "    default=0.5,  # Fixed if no min /max provided\n",
    "    distrib=agb.DistributionType.FIXED,\n",
    "    description=\"foo bar\",\n",
    ")\n",
    "\n",
    "share_recycled_aluminium = agb.newFloatParam(\n",
    "    \"share_recycled_aluminium\",\n",
    "    default=0.6,\n",
    "    min=0,\n",
    "    max=1,\n",
    "    std=0.2,\n",
    "    distrib=agb.DistributionType.NORMAL,  # Normal distrib, with std dev\n",
    "    description=\"Share of reycled aluminium\",\n",
    ")\n",
    "\n",
    "c = agb.newFloatParam(\"c\", default=0.6, std=0.2, distrib=agb.DistributionType.LOGNORMAL)\n",
    "\n",
    "beta = agb.newFloatParam(\"beta\", default=0.6, std=0.2, a=2, b=5, distrib=agb.DistributionType.BETA)\n",
    "\n",
    "# You can define boolean parameters, taking only discrete values 0 or 1\n",
    "bool_param = agb.newBoolParam(\"bool_param\", default=1)\n",
    "\n",
    "# Example 'enum' parameter, acting like a switch between several possibilities\n",
    "# Enum parameters are not Symbol themselves\n",
    "# They are a facility to represent many boolean parameters at once '<paramName>_<enumValue>'\n",
    "# and should be used with the 'newSwitchAct' method\n",
    "elec_switch_param = agb.newEnumParam(\n",
    "    \"elec_switch_param\",\n",
    "    values=[\"us\", \"eu\"],  # If provided as list, all possibilities have te same probability\n",
    "    default=\"us\",\n",
    "    description=\"Switch on electricty mix\",\n",
    ")\n",
    "\n",
    "# Another example enum param\n",
    "techno_param = agb.newEnumParam(\n",
    "    \"techno_param\",\n",
    "    values={\n",
    "        \"technoA\": 0.4,\n",
    "        \"technoB\": 0.1,\n",
    "        \"technoC\": 0.5,\n",
    "    },  # You can provide a statistical weight for each value, by using a dict\n",
    "    default=\"technoA\",\n",
    "    description=\"Choice of technology\",\n",
    ")"
   ]
  },
  {
   "cell_type": "markdown",
   "id": "9a890ab5",
   "metadata": {},
   "source": [
    "## Persistance of parameters\n",
    "\n",
    "By default, new parameters are kept in memory but also persisted in the project (unless save=False).\n",
    "\n",
    "You can persist parameters afterwards with `persistParams()`.\n",
    "\n",
    "You can load also load parameters from an existing database with `loadParams()`.\n",
    "\n",
    "The persistance of parameters and the distribution is compatible with **Brightway2** and **Activity Browser**  [see documentation of stat_arrays](https://stats-arrays.readthedocs.io/en/latest/)"
   ]
  },
  {
   "cell_type": "code",
   "execution_count": null,
   "id": "a4604f03",
   "metadata": {
    "ExecuteTime": {
     "end_time": "2024-04-16T14:25:50.433378Z",
     "start_time": "2024-04-16T14:25:50.418985Z"
    }
   },
   "outputs": [],
   "source": [
    "# Load parameters previously  persisted in the dabatase.\n",
    "agb.loadParams()"
   ]
  },
  {
   "cell_type": "markdown",
   "id": "07063f99",
   "metadata": {},
   "source": [
    "# Manage several databases\n",
    "\n",
    "lca_algebraic supports several foreground / background datasets. Background datasets are considered static / non parametrized by the library : they use standard LCA method of **Brightway2**. \n",
    "\n",
    "Foreground databases are considered parametric and their activities are developped as functions of parameters and background activities.\n",
    "\n",
    "## Set status of a database\n",
    "\n",
    "The functions **setForeground(...)** and **setBackground(...)** change the status of a database."
   ]
  },
  {
   "cell_type": "code",
   "execution_count": null,
   "id": "58b8ffe4",
   "metadata": {
    "ExecuteTime": {
     "end_time": "2024-04-16T14:25:50.449695Z",
     "start_time": "2024-04-16T14:25:50.434767Z"
    }
   },
   "outputs": [],
   "source": [
    "agb.setForeground(USER_DB)\n",
    "agb.list_databases()"
   ]
  },
  {
   "cell_type": "markdown",
   "id": "27e76092",
   "metadata": {},
   "source": [
    "## Import / export\n",
    "\n",
    "`lca_algebraic` extends [BW2Package](https://2.docs.brightway.dev/technical/bw2io.html), adding persistence of parameters."
   ]
  },
  {
   "cell_type": "code",
   "execution_count": null,
   "id": "92c34396",
   "metadata": {
    "ExecuteTime": {
     "end_time": "2024-04-16T14:25:50.457125Z",
     "start_time": "2024-04-16T14:25:50.451276Z"
    }
   },
   "outputs": [],
   "source": [
    "# Save database and parameters as Bzipped JSON\n",
    "agb.export_db(USER_DB, \"tmp/db.bw2\")"
   ]
  },
  {
   "cell_type": "code",
   "execution_count": null,
   "id": "fd67ea18",
   "metadata": {
    "ExecuteTime": {
     "end_time": "2024-04-16T14:25:50.502212Z",
     "start_time": "2024-04-16T14:25:50.459613Z"
    }
   },
   "outputs": [],
   "source": [
    "# Reimport DB\n",
    "agb.import_db(\"tmp/db.bw2\")"
   ]
  },
  {
   "cell_type": "markdown",
   "id": "cca17704",
   "metadata": {},
   "source": [
    "## Freeze \n",
    "\n",
    "A foreground database can be \"frozen\" to be used as a background database for a specific scenario : the parametrized amounts in the exhanges are computed for a given configuration of the parameters, and replaced by their value. The formulas are still stored in the database and not lost : the database can still be used as a foreground database until its status is changed with `setBackground(...)`.\n",
    "\n",
    "This feature is useful for studies requiring several datasets to be used as background by other ones. It also enables to use standard Brightway2 tools, not aware of parametrization. \n"
   ]
  },
  {
   "cell_type": "code",
   "execution_count": null,
   "id": "4f69859b",
   "metadata": {},
   "outputs": [],
   "source": [
    "agb.freezeParams(\n",
    "    USER_DB,  # Name of database to freeze\n",
    "    a=1,\n",
    "    b=2,\n",
    ")  # custom parameter values"
   ]
  },
  {
   "cell_type": "markdown",
   "id": "a9da7045",
   "metadata": {},
   "source": [
    "# Get references to background activities\n",
    "\n",
    "We provide two functions for easy and fast (indexed) search of activities in reference databases : \n",
    "* **findBioAct** : Search activity in **biosphere3** db\n",
    "* **findTechAct** : Search activity in **ecoinvent** db\n",
    "\n",
    "Those methods are **faster** and **safer** than using traditionnal \"list-comprehension\" search : \n",
    "They will **fail with an error** if **more than one activity** matches, preventing the model to be based on a random selection of one activity.\n"
   ]
  },
  {
   "cell_type": "code",
   "execution_count": null,
   "id": "1f0a23c5",
   "metadata": {
    "ExecuteTime": {
     "end_time": "2024-04-16T14:25:52.066960Z",
     "start_time": "2024-04-16T14:25:50.506966Z"
    }
   },
   "outputs": [],
   "source": [
    "# Biosphere activities\n",
    "ground_occupuation = agb.findBioAct(\"Occupation, industrial area\")  # Search by name\n",
    "heat = agb.findBioAct(\"Heat, waste\", categories=[\"air\"])  # Add category selector\n",
    "\n",
    "# Technosphere activities\n",
    "\n",
    "# You can add an optionnal location selector\n",
    "alu = agb.findTechAct(\"aluminium alloy production, AlMg3\", loc=\"RER\")\n",
    "alu_scrap = agb.findTechAct(\"aluminium scrap, new, Recycled Content cut-off\")\n",
    "\n",
    "# Elec\n",
    "eu_elec = agb.findTechAct(\"market group for electricity, medium voltage\", \"ENTSO-E\")\n",
    "us_elec = agb.findTechAct(\"market group for electricity, medium voltage\", \"US\")\n",
    "\n",
    "chromium = agb.findTechAct(\"market for chromium oxide, flakes\")"
   ]
  },
  {
   "cell_type": "markdown",
   "id": "3c488aeb",
   "metadata": {},
   "source": [
    "# Define the model\n",
    "\n",
    "The model is defined as a nested combination of background activities with amounts.\n",
    "\n",
    "Amounts are defined either as constant float values or algebric formulas implying the parameters defined above."
   ]
  },
  {
   "cell_type": "markdown",
   "id": "9a378204",
   "metadata": {},
   "source": [
    "## Create new activities"
   ]
  },
  {
   "cell_type": "code",
   "execution_count": null,
   "id": "df05b063",
   "metadata": {
    "ExecuteTime": {
     "end_time": "2024-04-16T14:25:52.154921Z",
     "start_time": "2024-04-16T14:25:52.069589Z"
    }
   },
   "outputs": [],
   "source": [
    "# Create a new activity\n",
    "activity1 = agb.newActivity(\n",
    "    USER_DB,  # We define foreground activities in our own DB\n",
    "    \"first foreground activity\",  # Name of the activity\n",
    "    \"kg\",  # Unit\n",
    "    exchanges={  # We define exhanges as a dictionarry of 'activity : amount'\n",
    "        ground_occupuation: 3 * b,  # Amount can be a fixed value\n",
    "        heat: b + 0.2,  # Amount can be a Sympy expression (any arithmetic expression of Parameters)\n",
    "    },\n",
    ")\n",
    "\n",
    "# You can create a virtual \"switch\" activity combining several activities with an Enum parameter\n",
    "elec_mix = agb.newSwitchAct(\n",
    "    USER_DB,\n",
    "    \"elect mix\",  # Name\n",
    "    elec_switch_param,  # Sith parameter\n",
    "    {  # Dictionnary of enum values / activities\n",
    "        \"us\": us_elec,  # By default associated amount is 1\n",
    "        \"eu\": (eu_elec, 0.8),  # You can also provide custom amout or formula with a tuple\n",
    "    },\n",
    ")"
   ]
  },
  {
   "cell_type": "markdown",
   "id": "ec37d45c",
   "metadata": {},
   "source": [
    "## Copy and update existing activity\n",
    "\n",
    "You can copy and update an existing background activity.\n",
    "\n",
    "Several new helper methods have been added to the class **Activity** for easy update of exchanges."
   ]
  },
  {
   "cell_type": "code",
   "execution_count": null,
   "id": "41c81245",
   "metadata": {
    "ExecuteTime": {
     "end_time": "2024-04-16T14:25:52.285652Z",
     "start_time": "2024-04-16T14:25:52.156483Z"
    }
   },
   "outputs": [],
   "source": [
    "alu2 = agb.copyActivity(\n",
    "    USER_DB,  # The copy of a background activity is done in our own DB, so that we can safely update it\n",
    "    alu,  # Initial activity : won't be altered\n",
    "    \"Aluminium 2\",\n",
    ")  # New name\n",
    "\n",
    "# Update exchanges by their name\n",
    "alu2.updateExchanges(\n",
    "    {\n",
    "        # Update amount : the special symbol *old_amount* references the previous amount of this exchange\n",
    "        \"aluminium, cast alloy\": agb.old_amount * (1 - share_recycled_aluminium),\n",
    "        # Update input activity. Note also that you can use '*' wildcard in exchange name\n",
    "        \"electricity*\": elec_mix,\n",
    "        # Update both input activity and amount.\n",
    "        # Note that you can use '#' for specifying the location of exchange (useful for duplicate exchange names)\n",
    "        \"chromium#GLO\": dict(amount=4.0, input=chromium),\n",
    "    }\n",
    ")\n",
    "\n",
    "# Add exchanges\n",
    "alu2.addExchanges({alu_scrap: 12})"
   ]
  },
  {
   "cell_type": "markdown",
   "id": "3b4c0990",
   "metadata": {},
   "source": [
    "## Final model\n"
   ]
  },
  {
   "cell_type": "code",
   "execution_count": null,
   "id": "b31f672f",
   "metadata": {
    "ExecuteTime": {
     "end_time": "2024-04-16T14:25:52.329105Z",
     "start_time": "2024-04-16T14:25:52.286829Z"
    }
   },
   "outputs": [],
   "source": [
    "total_inventory = agb.newActivity(\n",
    "    USER_DB,\n",
    "    \"total_inventory\",\n",
    "    \"kg\",\n",
    "    {\n",
    "        activity1: b * 5 + a + 1,  # Reference the activity we just created\n",
    "        alu2: 3 * share_recycled_aluminium,\n",
    "        alu: 0.4 * a,\n",
    "    },\n",
    ")"
   ]
  },
  {
   "cell_type": "markdown",
   "id": "0b76c855",
   "metadata": {},
   "source": [
    "## Or load existing model /activities from database\n",
    "\n",
    "Alternatively, you may not define the model again, but load it from the USER DB."
   ]
  },
  {
   "cell_type": "code",
   "execution_count": null,
   "id": "f230219c",
   "metadata": {
    "ExecuteTime": {
     "end_time": "2024-04-16T14:25:52.352329Z",
     "start_time": "2024-04-16T14:25:52.330298Z"
    }
   },
   "outputs": [],
   "source": [
    "activity1 = agb.findActivity(\"first foreground activity\", db_name=USER_DB)\n",
    "total_inventory = agb.findActivity(\"total_inventory\", db_name=USER_DB)\n",
    "alu2 = agb.findActivity(\"Aluminium 2\", db_name=USER_DB)"
   ]
  },
  {
   "cell_type": "markdown",
   "id": "1759e93c",
   "metadata": {},
   "source": [
    "## Display activities\n",
    "\n",
    "**printAct** displays the list of all exchanges of an activity.\n",
    "\n",
    "Note that symbolic expressions have not been evaluated at this stage"
   ]
  },
  {
   "cell_type": "code",
   "execution_count": null,
   "id": "12ab41203d7978be",
   "metadata": {
    "ExecuteTime": {
     "end_time": "2024-04-16T14:25:52.371240Z",
     "start_time": "2024-04-16T14:25:52.353545Z"
    }
   },
   "outputs": [],
   "source": [
    "# Print_act displays activities as tables\n",
    "agb.printAct(activity1)"
   ]
  },
  {
   "cell_type": "code",
   "execution_count": null,
   "id": "46ae9abf",
   "metadata": {
    "ExecuteTime": {
     "end_time": "2024-04-16T14:25:52.392318Z",
     "start_time": "2024-04-16T14:25:52.372529Z"
    }
   },
   "outputs": [],
   "source": [
    "agb.printAct(total_inventory)"
   ]
  },
  {
   "cell_type": "code",
   "execution_count": null,
   "id": "c08a45dc",
   "metadata": {
    "ExecuteTime": {
     "end_time": "2024-04-16T14:25:52.408421Z",
     "start_time": "2024-04-16T14:25:52.393546Z"
    }
   },
   "outputs": [],
   "source": [
    "# You can also compute amounts by replacing parameters with a float value\n",
    "agb.printAct(activity1, b=1.5)"
   ]
  },
  {
   "cell_type": "code",
   "execution_count": null,
   "id": "960585e2",
   "metadata": {
    "ExecuteTime": {
     "end_time": "2024-04-16T14:25:52.498185Z",
     "start_time": "2024-04-16T14:25:52.409744Z"
    }
   },
   "outputs": [],
   "source": [
    "# You can print several activities at once to compare them\n",
    "agb.printAct(alu, alu2)"
   ]
  },
  {
   "cell_type": "markdown",
   "id": "3d6cb156",
   "metadata": {},
   "source": [
    "# Select the impacts to consider"
   ]
  },
  {
   "cell_type": "code",
   "execution_count": null,
   "id": "6007c86f",
   "metadata": {
    "ExecuteTime": {
     "end_time": "2024-04-16T14:25:52.504936Z",
     "start_time": "2024-04-16T14:25:52.499730Z"
    }
   },
   "outputs": [],
   "source": [
    "# List of impacts to consider\n",
    "impacts = agb.findMethods(\"climate change\", mainCat=\"EF v3.0\")\n",
    "impacts"
   ]
  },
  {
   "cell_type": "code",
   "execution_count": null,
   "id": "3b554d29",
   "metadata": {},
   "outputs": [],
   "source": [
    "import brightway2 as bw\n",
    "\n",
    "list(bw.methods)"
   ]
  },
  {
   "cell_type": "markdown",
   "id": "5096a57f",
   "metadata": {},
   "source": [
    "# Impacts\n",
    "\n",
    "## Define functional unit\n",
    "\n",
    "The functional unit is a quantity that can be parametrized\n"
   ]
  },
  {
   "cell_type": "code",
   "execution_count": null,
   "id": "fd1ec460",
   "metadata": {
    "ExecuteTime": {
     "end_time": "2024-04-16T14:25:52.509568Z",
     "start_time": "2024-04-16T14:25:52.506515Z"
    }
   },
   "outputs": [],
   "source": [
    "functional_value = a + 5"
   ]
  },
  {
   "cell_type": "markdown",
   "id": "ff55eb26",
   "metadata": {},
   "source": [
    "## Compute impacts"
   ]
  },
  {
   "cell_type": "code",
   "execution_count": null,
   "id": "a35f64d35ec07e1b",
   "metadata": {
    "ExecuteTime": {
     "end_time": "2024-04-16T14:25:54.261234Z",
     "start_time": "2024-04-16T14:25:52.511004Z"
    }
   },
   "outputs": [],
   "source": [
    "agb.compute_impacts(\n",
    "    # Root activity of our inventory\n",
    "    total_inventory,\n",
    "    # list of impacts to consider\n",
    "    impacts,\n",
    "    # The impaxts will be divided by the functional unit\n",
    "    functional_unit=functional_value,\n",
    "    # Parameters of the model\n",
    "    a=1.0,\n",
    "    elec_switch_param=\"us\",\n",
    "    share_recycled_aluminium=0.4,\n",
    ")"
   ]
  },
  {
   "cell_type": "code",
   "execution_count": null,
   "id": "a65d5217",
   "metadata": {
    "ExecuteTime": {
     "end_time": "2024-04-16T14:25:54.340847Z",
     "start_time": "2024-04-16T14:25:54.262937Z"
    }
   },
   "outputs": [],
   "source": [
    "# You can compute several LCAs at a time and compare them:\n",
    "agb.compute_impacts(\n",
    "    [alu, alu2],  # The models\n",
    "    impacts,  # Impacts\n",
    "    # Parameters of the model\n",
    "    share_recycled_aluminium=0.3,\n",
    "    elec_switch_param=\"us\",\n",
    ")"
   ]
  },
  {
   "cell_type": "markdown",
   "id": "261d2a3d",
   "metadata": {},
   "source": [
    "## Fast computation of many parameter values"
   ]
  },
  {
   "cell_type": "code",
   "execution_count": null,
   "id": "3fd8f2a8",
   "metadata": {
    "ExecuteTime": {
     "end_time": "2024-04-16T14:25:54.752125Z",
     "start_time": "2024-04-16T14:25:54.342701Z"
    }
   },
   "outputs": [],
   "source": [
    "# Fast computation for millions of separate samples\n",
    "agb.compute_impacts(\n",
    "    total_inventory,  # The model\n",
    "    impacts,  # Impacts\n",
    "    functional_unit=functional_value,\n",
    "    # Parameters of the model\n",
    "    a=list(range(1, 100000)),  # All lists should have the same size\n",
    "    share_recycled_aluminium=1,  # Those parameters are fixed\n",
    "    elec_switch_param=\"eu\",\n",
    ")"
   ]
  },
  {
   "cell_type": "markdown",
   "id": "56637741",
   "metadata": {},
   "source": [
    "## Split impacts along axis\n",
    "\n",
    "It is possible to **tag** activities and then ventilate the impacts according to the value of this \"tag\".\n",
    "This is useful to split impact by *phase* or *sub module*."
   ]
  },
  {
   "cell_type": "code",
   "execution_count": null,
   "id": "714dddc7",
   "metadata": {
    "ExecuteTime": {
     "end_time": "2024-04-16T14:25:54.784425Z",
     "start_time": "2024-04-16T14:25:54.753588Z"
    }
   },
   "outputs": [],
   "source": [
    "# Tag activities with a custom attribute : 'phase' in this case\n",
    "alu2.updateMeta(phase=\"phase a\")\n",
    "activity1.updateMeta(phase=\"phase b\")"
   ]
  },
  {
   "cell_type": "code",
   "execution_count": null,
   "id": "7ae836dd",
   "metadata": {
    "ExecuteTime": {
     "end_time": "2024-04-16T14:25:55.399810Z",
     "start_time": "2024-04-16T14:25:54.785802Z"
    }
   },
   "outputs": [],
   "source": [
    "# Provide the name of the custom attribute as 'axis'\n",
    "# The impacts are split between those\n",
    "agb.compute_impacts(\n",
    "    total_inventory,  # The model\n",
    "    impacts,  # Impacts\n",
    "    functional_unit=functional_value,\n",
    "    axis=\"phase\",\n",
    "    # Parameters\n",
    "    a=1.0,\n",
    "    elec_switch_param=\"us\",\n",
    "    share_recycled_aluminium=0.4,\n",
    ")"
   ]
  },
  {
   "cell_type": "markdown",
   "id": "acd51994",
   "metadata": {},
   "source": [
    " # Sensitivity analysis \n",
    " \n",
    " ## One at a time \n",
    " \n",
    " We provide several functions for computing **statistics** for **local variations** of parameters (one at a time).\n",
    " \n",
    " ### oat_matrix(model, impacts)\n",
    " \n",
    " Shows a **matrix of impacts x parameters** colored according to the variation of the impact in the bounds of the parameter.\n"
   ]
  },
  {
   "cell_type": "code",
   "execution_count": null,
   "id": "eb6d99af",
   "metadata": {
    "ExecuteTime": {
     "end_time": "2024-04-16T14:25:56.032285Z",
     "start_time": "2024-04-16T14:25:55.405125Z"
    }
   },
   "outputs": [],
   "source": [
    "agb.oat_matrix(total_inventory, impacts, functional_unit=functional_value)"
   ]
  },
  {
   "cell_type": "markdown",
   "id": "cba8d13d",
   "metadata": {},
   "source": [
    "### oat_dashboard_matrix\n",
    "\n",
    "This functions draws a dashboard showing :\n",
    "* A dropdown list, for choosing a parameter\n",
    "* Several graphs of evolution of impacts for this parameter\n",
    "* Full table of data\n",
    "* A graph of \"bars\" representing the variation of each impact for this parameter (similar to the information given in oat_matrix) "
   ]
  },
  {
   "cell_type": "code",
   "execution_count": null,
   "id": "53b48995",
   "metadata": {
    "ExecuteTime": {
     "end_time": "2024-04-16T14:25:57.111821Z",
     "start_time": "2024-04-16T14:25:56.034076Z"
    }
   },
   "outputs": [],
   "source": [
    "agb.oat_dashboard_interact(\n",
    "    total_inventory,\n",
    "    impacts,\n",
    "    functional_unit=functional_value,\n",
    "    # Optionnal layout parameters\n",
    "    figspace=(0.5, 0.5),\n",
    "    figsize=(15, 15),\n",
    "    sharex=True,\n",
    ")"
   ]
  },
  {
   "cell_type": "markdown",
   "id": "7ddbb95e",
   "metadata": {},
   "source": [
    "## Monte-carlo methods & Sobol indices\n",
    "\n",
    "Here we leverage fast computation of monte-carlo approches. \n",
    "\n",
    "We compute **global sensivity analysis** (GSA).\n",
    "Not only local ones.\n",
    "\n",
    "### Sobol Matrix \n",
    "\n",
    "Similar to OAT matrix, we compute Sobol indices. they represent the ratio between the variance due to a given parameter and the total variance.\n",
    "\n",
    "for easier comparison, we translate those relative sobol indices into \"deviation / mean\" importance :\n",
    "\n",
    "$$RelativeDeviation = \\frac{\\sqrt{sobol(param) \\times totalVariance(impact))}}{mean(impact)}$$\n",
    "\n",
    "\n"
   ]
  },
  {
   "cell_type": "code",
   "execution_count": null,
   "id": "0c190cc4",
   "metadata": {
    "ExecuteTime": {
     "end_time": "2024-04-16T14:25:57.914307Z",
     "start_time": "2024-04-16T14:25:57.113909Z"
    }
   },
   "outputs": [],
   "source": [
    "# Show sobol indices\n",
    "agb.incer_stochastic_matrix(total_inventory, impacts, functional_unit=functional_value)"
   ]
  },
  {
   "cell_type": "markdown",
   "id": "04040150",
   "metadata": {},
   "source": [
    "###  Graphs of impacts and their distribution\n",
    "\n",
    "We provide a dashboard showing **violin graphs** : the exact probabilistic distribution for each impact. Together with medians of the impacts."
   ]
  },
  {
   "cell_type": "code",
   "execution_count": null,
   "id": "5b3f1adb",
   "metadata": {
    "ExecuteTime": {
     "end_time": "2024-04-16T14:26:00.097058Z",
     "start_time": "2024-04-16T14:25:57.916470Z"
    }
   },
   "outputs": [],
   "source": [
    "agb.incer_stochastic_violin(\n",
    "    total_inventory,\n",
    "    impacts,\n",
    "    functional_unit=functional_value,\n",
    "    # Optionnal layout parameters\n",
    "    figspace=(0.5, 0.5),\n",
    "    figsize=(15, 15),\n",
    "    sharex=True,\n",
    "    nb_cols=3,\n",
    ")"
   ]
  },
  {
   "cell_type": "code",
   "execution_count": null,
   "id": "29d6b7af",
   "metadata": {
    "ExecuteTime": {
     "end_time": "2024-04-16T14:26:09.671803Z",
     "start_time": "2024-04-16T14:26:00.098292Z"
    }
   },
   "outputs": [],
   "source": [
    "##### Alternatively, graphs can be shown horizontally, together with a box of statistical outcomes\n",
    "agb.distrib(\n",
    "    total_inventory,\n",
    "    impacts,\n",
    "    functional_unit=functional_value,\n",
    "    # Optionnal layout parameters\n",
    "    height=7,\n",
    "    width=15,\n",
    "    nb_cols=2,\n",
    "    percentiles=[5, 95],\n",
    ")"
   ]
  },
  {
   "cell_type": "markdown",
   "id": "d967b6ef",
   "metadata": {},
   "source": [
    "### Full dashboard\n",
    "\n",
    "A dashboard groups all this information in a single interface with tabs.\n",
    "\n",
    "It also shows total variation of impacts. This last graph could be improved by showing stacked colored bars with the contribution of each parameter to this variation, according to Sobol indices. "
   ]
  },
  {
   "cell_type": "code",
   "execution_count": null,
   "id": "fd3cabcc",
   "metadata": {
    "ExecuteTime": {
     "end_time": "2024-04-16T14:26:12.936145Z",
     "start_time": "2024-04-16T14:26:09.673163Z"
    }
   },
   "outputs": [],
   "source": [
    "agb.incer_stochastic_dashboard(\n",
    "    model=total_inventory, methods=impacts, functional_unit=functional_value\n",
    ")"
   ]
  },
  {
   "cell_type": "markdown",
   "id": "db110219",
   "metadata": {},
   "source": [
    "# Producing simplified models \n",
    "\n",
    "One of te outcome of the statisticall analysis above would be to identify main input parameters and produce simplidied models, fixing the minor ones.\n",
    "\n",
    "We provide several functions for doing this.\n",
    "\n",
    "## Explore initial algrebraic model"
   ]
  },
  {
   "cell_type": "code",
   "execution_count": null,
   "id": "335a028b",
   "metadata": {
    "ExecuteTime": {
     "end_time": "2024-04-16T14:26:13.287915Z",
     "start_time": "2024-04-16T14:26:12.937662Z"
    }
   },
   "outputs": [],
   "source": [
    "# First, let's look at the full expression defining our model\n",
    "expr, _ = agb.actToExpression(total_inventory)\n",
    "expr"
   ]
  },
  {
   "cell_type": "markdown",
   "id": "6290903d",
   "metadata": {},
   "source": [
    "## Compute simplified models\n",
    "\n",
    "We provide some method to automatically select a subset of parameters, based on the **sobol indices**, and then compute simplified models for it.\n",
    "\n",
    "We also round numerical expression to 3 digits, and we remove terms in sums that are less than 1% of total."
   ]
  },
  {
   "cell_type": "code",
   "execution_count": null,
   "id": "a2cadc8f",
   "metadata": {
    "ExecuteTime": {
     "end_time": "2024-04-16T14:26:30.927539Z",
     "start_time": "2024-04-16T14:26:13.289354Z"
    }
   },
   "outputs": [],
   "source": [
    "simplified = agb.sobol_simplify_model(\n",
    "    total_inventory,  # The model\n",
    "    impacts,  # Impacts to consider\n",
    "    functional_unit=functional_value,\n",
    "    n=10000,  # For large model, you may test other value and ensure ST and sum(S1) are close to 1.0\n",
    "    fixed_mode=agb.FixedParamMode.MEDIAN,  # We replace minor parameters by median by default,\n",
    "    min_ratio=0.8,  # Min ratio of variability to explain\n",
    "    num_digits=3,\n",
    ")"
   ]
  },
  {
   "cell_type": "code",
   "execution_count": null,
   "id": "1993def5",
   "metadata": {
    "ExecuteTime": {
     "end_time": "2024-04-16T14:26:30.985715Z",
     "start_time": "2024-04-16T14:26:30.929307Z"
    }
   },
   "outputs": [],
   "source": [
    "# Let's look at the expression for first impact again\n",
    "# much simpler !\n",
    "simplified[0].expr"
   ]
  },
  {
   "cell_type": "markdown",
   "id": "7a757701",
   "metadata": {},
   "source": [
    "## Compare simplified model with full model\n",
    "\n",
    "Finally, we can compare the distribution of those simplified model against the full model. We provide a function for graphical display of it, and compuation of de R-Square score.\n"
   ]
  },
  {
   "cell_type": "code",
   "execution_count": null,
   "id": "b903c7e6",
   "metadata": {
    "ExecuteTime": {
     "end_time": "2024-04-16T14:26:34.576028Z",
     "start_time": "2024-04-16T14:26:30.987056Z"
    }
   },
   "outputs": [],
   "source": [
    "agb.compare_simplified(total_inventory, impacts, simplified, functional_unit=functional_value)"
   ]
  }
 ],
 "metadata": {
  "jupytext": {
   "cell_metadata_filter": "-all",
   "formats": "Rmd,ipynb",
   "notebook_metadata_filter": "-all"
  },
  "kernelspec": {
   "display_name": "Python 3 (ipykernel)",
   "language": "python",
   "name": "python3"
  },
  "language_info": {
   "codemirror_mode": {
    "name": "ipython",
    "version": 3
   },
   "file_extension": ".py",
   "mimetype": "text/x-python",
   "name": "python",
   "nbconvert_exporter": "python",
   "pygments_lexer": "ipython3",
   "version": "3.10.14"
  },
  "toc": {
   "base_numbering": 1,
   "nav_menu": {},
   "number_sections": true,
   "sideBar": true,
   "skip_h1_title": false,
   "title_cell": "Table of Contents",
   "title_sidebar": "Contents",
   "toc_cell": false,
   "toc_position": {},
   "toc_section_display": true,
   "toc_window_display": false
  },
  "varInspector": {
   "cols": {
    "lenName": 16,
    "lenType": 16,
    "lenVar": 40
   },
   "kernels_config": {
    "python": {
     "delete_cmd_postfix": "",
     "delete_cmd_prefix": "del ",
     "library": "var_list.py",
     "varRefreshCmd": "print(var_dic_list())"
    },
    "r": {
     "delete_cmd_postfix": ") ",
     "delete_cmd_prefix": "rm(",
     "library": "var_list.r",
     "varRefreshCmd": "cat(var_dic_list()) "
    }
   },
   "types_to_exclude": [
    "module",
    "function",
    "builtin_function_or_method",
    "instance",
    "_Feature"
   ],
   "window_display": false
  }
 },
 "nbformat": 4,
 "nbformat_minor": 5
}
