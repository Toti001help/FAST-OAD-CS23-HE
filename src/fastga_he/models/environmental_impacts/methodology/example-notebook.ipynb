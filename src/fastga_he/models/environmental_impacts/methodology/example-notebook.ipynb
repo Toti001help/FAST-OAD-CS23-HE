{
 "cells": [
  {
   "cell_type": "markdown",
   "id": "43099c02967edd47",
   "metadata": {},
   "source": [
    "## Imports / init"
   ]
  },
  {
   "cell_type": "code",
   "execution_count": null,
   "id": "56a7fd5e",
   "metadata": {
    "ExecuteTime": {
     "end_time": "2024-04-16T14:25:49.792585Z",
     "start_time": "2024-04-16T14:25:47.021810Z"
    },
    "tags": []
   },
   "outputs": [],
   "source": [
    "# Those two lines are for dev only : they watch imported libraries for changes\n",
    "# %load_ext autoreload\n",
    "# %autoreload 2\n",
    "\n",
    "import brightway2 as bw\n",
    "import os\n",
    "\n",
    "import lca_algebraic as agb\n",
    "\n",
    "from sympy import init_printing\n",
    "import bw2io\n",
    "from dotenv import load_dotenv\n",
    "\n",
    "# Pretty print for Sympy\n",
    "init_printing()"
   ]
  },
  {
   "cell_type": "markdown",
   "id": "9b3cb21d",
   "metadata": {},
   "source": [
    "# Init brightway2 and databases"
   ]
  },
  {
   "cell_type": "code",
   "execution_count": null,
   "id": "b1cd4f628163aa53",
   "metadata": {
    "ExecuteTime": {
     "end_time": "2024-04-16T14:25:49.829289Z",
     "start_time": "2024-04-16T14:25:49.794153Z"
    },
    "tags": []
   },
   "outputs": [],
   "source": [
    "# Set the current project\n",
    "# Can be any name\n",
    "bw.projects.set_current(\"MyProject\")\n",
    "\n",
    "# It's better to not leave credential in the code.\n",
    "# Create a file named .env, that you will not share /commit, and contains the following :\n",
    "# ECOINVENT_LOGIN=<your_login>\n",
    "# ECOINVENT_PASSWORD=<your_password>\n",
    "\n",
    "# This load .env file into os.environ\n",
    "load_dotenv()\n",
    "\n",
    "# This downloads ecoinvent and installs biopshere + technosphere + LCIA methods\n",
    "if len(bw.databases) > 0:\n",
    "    print(\"Initial setup already done, skipping\")\n",
    "else:\n",
    "    # This is now the prefered method to init an Brightway2 with Ecoinvent\n",
    "    # It is not more tied to a specific version of bw2io\n",
    "    bw2io.import_ecoinvent_release(\n",
    "        version=\"3.9\",\n",
    "        system_model=\"cutoff\",\n",
    "        username=os.environ[\"ECOINVENT_LOGIN\"],  # Read for .env file\n",
    "        password=os.environ[\"ECOINVENT_PASSWORD\"],  # Read from .env file\n",
    "        use_mp=True,\n",
    "    )"
   ]
  },
  {
   "cell_type": "code",
   "execution_count": null,
   "id": "50ed7cab",
   "metadata": {
    "ExecuteTime": {
     "end_time": "2024-04-16T14:25:49.892329Z",
     "start_time": "2024-04-16T14:25:49.830700Z"
    },
    "tags": []
   },
   "outputs": [],
   "source": [
    "# We use a separate DB for defining our foreground model / activities\n",
    "# Choose any name\n",
    "USER_DB = \"MyForeground\"\n",
    "\n",
    "# This is better to cleanup the whole foreground model each time, and redefine it in the notebook (or a python file)\n",
    "# instead of relying on a state or previous run.\n",
    "# Any persistent state is prone to errors.\n",
    "agb.resetDb(USER_DB)\n",
    "\n",
    "# Parameters are stored at project level :\n",
    "# Reset them also\n",
    "# You may remove this line if you import a project and parameters from an external source (see loadParam(..))\n",
    "agb.resetParams()\n",
    "\n",
    "# Overview of the databases\n",
    "agb.list_databases()"
   ]
  },
  {
   "cell_type": "markdown",
   "id": "774f5943",
   "metadata": {},
   "source": [
    "# Introduction to Numpy\n",
    "\n",
    "Numpy is a python libray for symbolic calculus. \n",
    "\n",
    "You write Sympy expression as you write **standard python expressions**, using **sympy symbols** in them. \n",
    "\n",
    "The result is then a **symbolic expression that can be manipulated**, instead of a **numeric value**."
   ]
  },
  {
   "cell_type": "code",
   "execution_count": null,
   "id": "f7ff05b4",
   "metadata": {
    "ExecuteTime": {
     "end_time": "2024-04-16T14:25:50.318536Z",
     "start_time": "2024-04-16T14:25:49.894786Z"
    },
    "tags": []
   },
   "outputs": [],
   "source": [
    "from sympy import symbols\n",
    "\n",
    "# create sympy symbol\n",
    "x = symbols(\"x\")\n",
    "\n",
    "# Expressions are not directly evaluated\n",
    "f = x * 2 + 4\n",
    "f"
   ]
  },
  {
   "cell_type": "code",
   "execution_count": null,
   "id": "727f1ede",
   "metadata": {
    "ExecuteTime": {
     "end_time": "2024-04-16T14:25:50.332157Z",
     "start_time": "2024-04-16T14:25:50.319967Z"
    },
    "tags": []
   },
   "outputs": [],
   "source": [
    "# symbols can be replaced by values afterwards\n",
    "f.subs(dict(x=3))"
   ]
  },
  {
   "cell_type": "markdown",
   "id": "4f7bc29d",
   "metadata": {},
   "source": [
    "In practice, you don't need to care about Sympy. Just remember that : \n",
    "* The parameters defined below are **instances of sympy symbols**\n",
    "* Any **valid python expression** containing a **sympy symbol** will create a **sympy symbolic expression**"
   ]
  },
  {
   "cell_type": "markdown",
   "id": "0cd069ad",
   "metadata": {},
   "source": [
    "# Define input parameters\n",
    "\n",
    "First, we define the input parameters of the model together with their distribution.\n",
    "\n",
    "The numeric parameters are **instances of sympy 'Symbol'**. \n",
    "\n",
    "Thus, any python arithmetic expression composed of parameters will result in a **symbolic expression** to be used later in the definition of the model, rather than a static numeric result."
   ]
  },
  {
   "cell_type": "code",
   "execution_count": null,
   "id": "139e432e",
   "metadata": {
    "ExecuteTime": {
     "end_time": "2024-04-16T14:25:50.417494Z",
     "start_time": "2024-04-16T14:25:50.333435Z"
    },
    "tags": []
   },
   "outputs": [],
   "source": [
    "# Example of 'float' parameters\n",
    "a = agb.newFloatParam(\n",
    "    \"a\",\n",
    "    default=0.5,\n",
    "    min=0.2,\n",
    "    max=2,\n",
    "    distrib=agb.DistributionType.TRIANGLE,  # Distribution type, linear by default\n",
    "    description=\"hello world\",\n",
    "    label=\"extended label for a\",\n",
    ")\n",
    "\n",
    "b = agb.newFloatParam(\n",
    "    \"b\",\n",
    "    default=0.5,  # Fixed if no min /max provided\n",
    "    distrib=agb.DistributionType.FIXED,\n",
    "    description=\"foo bar\",\n",
    ")\n",
    "\n",
    "share_recycled_aluminium = agb.newFloatParam(\n",
    "    \"share_recycled_aluminium\",\n",
    "    default=0.6,\n",
    "    min=0,\n",
    "    max=1,\n",
    "    std=0.2,\n",
    "    distrib=agb.DistributionType.NORMAL,  # Normal distrib, with std dev\n",
    "    description=\"Share of reycled aluminium\",\n",
    ")\n",
    "\n",
    "c = agb.newFloatParam(\"c\", default=0.6, std=0.2, distrib=agb.DistributionType.LOGNORMAL)\n",
    "\n",
    "beta = agb.newFloatParam(\"beta\", default=0.6, std=0.2, a=2, b=5, distrib=agb.DistributionType.BETA)\n",
    "\n",
    "# You can define boolean parameters, taking only discrete values 0 or 1\n",
    "bool_param = agb.newBoolParam(\"bool_param\", default=1)\n",
    "\n",
    "# Example 'enum' parameter, acting like a switch between several possibilities\n",
    "# Enum parameters are not Symbol themselves\n",
    "# They are a facility to represent many boolean parameters at once '<paramName>_<enumValue>'\n",
    "# and should be used with the 'newSwitchAct' method\n",
    "elec_switch_param = agb.newEnumParam(\n",
    "    \"elec_switch_param\",\n",
    "    values=[\"us\", \"eu\"],  # If provided as list, all possibilities have te same probability\n",
    "    default=\"us\",\n",
    "    description=\"Switch on electricty mix\",\n",
    ")\n",
    "\n",
    "# Another example enum param\n",
    "techno_param = agb.newEnumParam(\n",
    "    \"techno_param\",\n",
    "    values={\n",
    "        \"technoA\": 0.4,\n",
    "        \"technoB\": 0.1,\n",
    "        \"technoC\": 0.5,\n",
    "    },  # You can provide a statistical weight for each value, by using a dict\n",
    "    default=\"technoA\",\n",
    "    description=\"Choice of technology\",\n",
    ")"
   ]
  },
  {
   "cell_type": "markdown",
   "id": "9a890ab5",
   "metadata": {},
   "source": [
    "## Persistance of parameters\n",
    "\n",
    "By default, new parameters are kept in memory but also persisted in the project (unless save=False).\n",
    "\n",
    "You can persist parameters afterwards with `persistParams()`.\n",
    "\n",
    "You can load also load parameters from an existing database with `loadParams()`.\n",
    "\n",
    "The persistance of parameters and the distribution is compatible with **Brightway2** and **Activity Browser**  [see documentation of stat_arrays](https://stats-arrays.readthedocs.io/en/latest/)"
   ]
  },
  {
   "cell_type": "code",
   "execution_count": null,
   "id": "a4604f03",
   "metadata": {
    "ExecuteTime": {
     "end_time": "2024-04-16T14:25:50.433378Z",
     "start_time": "2024-04-16T14:25:50.418985Z"
    },
    "tags": []
   },
   "outputs": [],
   "source": [
    "# Load parameters previously  persisted in the dabatase.\n",
    "agb.loadParams()"
   ]
  },
  {
   "cell_type": "markdown",
   "id": "07063f99",
   "metadata": {},
   "source": [
    "# Manage several databases\n",
    "\n",
    "lca_algebraic supports several foreground / background datasets. Background datasets are considered static / non parametrized by the library : they use standard LCA method of **Brightway2**. \n",
    "\n",
    "Foreground databases are considered parametric and their activities are developped as functions of parameters and background activities.\n",
    "\n",
    "## Set status of a database\n",
    "\n",
    "The functions **setForeground(...)** and **setBackground(...)** change the status of a database."
   ]
  },
  {
   "cell_type": "code",
   "execution_count": null,
   "id": "58b8ffe4",
   "metadata": {
    "ExecuteTime": {
     "end_time": "2024-04-16T14:25:50.449695Z",
     "start_time": "2024-04-16T14:25:50.434767Z"
    },
    "tags": []
   },
   "outputs": [],
   "source": [
    "agb.setForeground(USER_DB)\n",
    "agb.list_databases()"
   ]
  },
  {
   "cell_type": "markdown",
   "id": "27e76092",
   "metadata": {},
   "source": [
    "## Import / export\n",
    "\n",
    "`lca_algebraic` extends [BW2Package](https://2.docs.brightway.dev/technical/bw2io.html), adding persistence of parameters."
   ]
  },
  {
   "cell_type": "code",
   "execution_count": null,
   "id": "14678976-b659-4ca3-ad02-ade192e7bb07",
   "metadata": {
    "tags": []
   },
   "outputs": [],
   "source": [
    "_ = agb.findBioAct(\"*lead\")\n",
    "# agb.findBioAct(name=\"*water*\")"
   ]
  }
 ],
 "metadata": {
  "jupytext": {
   "cell_metadata_filter": "-all",
   "formats": "Rmd,ipynb",
   "notebook_metadata_filter": "-all"
  },
  "kernelspec": {
   "display_name": "Python 3 (ipykernel)",
   "language": "python",
   "name": "python3"
  },
  "language_info": {
   "codemirror_mode": {
    "name": "ipython",
    "version": 3
   },
   "file_extension": ".py",
   "mimetype": "text/x-python",
   "name": "python",
   "nbconvert_exporter": "python",
   "pygments_lexer": "ipython3",
   "version": "3.10.14"
  },
  "toc": {
   "base_numbering": 1,
   "nav_menu": {},
   "number_sections": true,
   "sideBar": true,
   "skip_h1_title": false,
   "title_cell": "Table of Contents",
   "title_sidebar": "Contents",
   "toc_cell": false,
   "toc_position": {},
   "toc_section_display": true,
   "toc_window_display": false
  },
  "varInspector": {
   "cols": {
    "lenName": 16,
    "lenType": 16,
    "lenVar": 40
   },
   "kernels_config": {
    "python": {
     "delete_cmd_postfix": "",
     "delete_cmd_prefix": "del ",
     "library": "var_list.py",
     "varRefreshCmd": "print(var_dic_list())"
    },
    "r": {
     "delete_cmd_postfix": ") ",
     "delete_cmd_prefix": "rm(",
     "library": "var_list.r",
     "varRefreshCmd": "cat(var_dic_list()) "
    }
   },
   "types_to_exclude": [
    "module",
    "function",
    "builtin_function_or_method",
    "instance",
    "_Feature"
   ],
   "window_display": false
  }
 },
 "nbformat": 4,
 "nbformat_minor": 5
}
