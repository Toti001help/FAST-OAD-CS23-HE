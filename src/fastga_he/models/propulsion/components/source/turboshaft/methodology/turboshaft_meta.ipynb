{
 "cells": [
  {
   "cell_type": "markdown",
   "id": "bfd201b1",
   "metadata": {},
   "source": [
    "# Turboshaft metamodel\n",
    "\n",
    "In this notebook we will try to create a metamodel to estimate the performances of a turboshaft"
   ]
  },
  {
   "cell_type": "code",
   "execution_count": null,
   "id": "f8cc053c",
   "metadata": {},
   "outputs": [],
   "source": [
    "import warnings\n",
    "\n",
    "warnings.filterwarnings(action=\"ignore\")"
   ]
  },
  {
   "cell_type": "markdown",
   "id": "6d906b62-8d98-486d-9cea-141d7c521859",
   "metadata": {},
   "source": [
    "## Max power model"
   ]
  },
  {
   "cell_type": "code",
   "execution_count": null,
   "id": "c2ba3f18-68d4-4d27-b08b-a9fce19f40f4",
   "metadata": {
    "tags": []
   },
   "outputs": [],
   "source": [
    "import pandas as pd\n",
    "\n",
    "THERMODYNAMIC_POWER_COLUMN_NAME = \"Design Power (kW)\"\n",
    "\n",
    "\n",
    "def identify_design(df: pd.DataFrame):\n",
    "    \"\"\"\n",
    "    We'll assume that the chance of two designs in the data having the same design power is\n",
    "    minimal (though not theoretically impossible) so we'll identify designs by their power.\n",
    "    \"\"\"\n",
    "\n",
    "    design_powers = df[THERMODYNAMIC_POWER_COLUMN_NAME].to_list()\n",
    "    unique_design_powers = list(set(design_powers))\n",
    "\n",
    "    return unique_design_powers"
   ]
  },
  {
   "cell_type": "markdown",
   "id": "9d71c0c9-853d-4919-bbc0-5d27578478b5",
   "metadata": {},
   "source": [
    "The next cell plots the behavior of the max power according to the OPR and ITT limit for different altitude and Mach number for one design, the behaviour seems quite monotonous so we'll try to approximate that behaviour with a polynomial regression and then define laws to find how the coefficient for the polynomials vary from one design to the other."
   ]
  },
  {
   "cell_type": "code",
   "execution_count": null,
   "id": "b3a07cf2",
   "metadata": {},
   "outputs": [],
   "source": [
    "import pathlib\n",
    "\n",
    "import plotly.graph_objects as go\n",
    "\n",
    "path_to_current_file = pathlib.Path().cwd()\n",
    "data_folder_path = path_to_current_file / \"data\"\n",
    "result_file_path_max_power = data_folder_path / \"max_power.csv\"\n",
    "\n",
    "existing_data = pd.read_csv(result_file_path_max_power, index_col=0)\n",
    "\n",
    "designs = identify_design(existing_data)\n",
    "\n",
    "# Show the max power curves for the first design\n",
    "first_design_dataframe = existing_data.loc[\n",
    "    existing_data[THERMODYNAMIC_POWER_COLUMN_NAME] == designs[0]\n",
    "]\n",
    "\n",
    "altitude_list = list(set(first_design_dataframe[\"Altitude (ft)\"].to_list()))\n",
    "mach_list = list(set(first_design_dataframe[\"Mach (-)\"].to_list()))\n",
    "\n",
    "max_power_opr = first_design_dataframe[\"Max Power OPR Limit (kW)\"].to_list()\n",
    "max_power_itt = first_design_dataframe[\"Max Power ITT Limit (kW)\"].to_list()\n",
    "\n",
    "fig = go.Figure()\n",
    "\n",
    "altitude_list.sort()\n",
    "\n",
    "for idx, alt in enumerate(altitude_list):\n",
    "\n",
    "    dataframe_current_alt = first_design_dataframe.loc[\n",
    "        first_design_dataframe[\"Altitude (ft)\"] == alt\n",
    "    ]\n",
    "\n",
    "    scatter_current_alt_opr_limit = go.Scatter(\n",
    "        x=dataframe_current_alt[\"Mach (-)\"].to_list(),\n",
    "        y=dataframe_current_alt[\"Max Power OPR Limit (kW)\"].to_list(),\n",
    "        mode=\"lines+markers\",\n",
    "        name=\"Max power OPR limit\",\n",
    "        legendgroup=str(alt),\n",
    "        legendgrouptitle_text=str(alt),\n",
    "    )\n",
    "    fig.add_trace(scatter_current_alt_opr_limit)\n",
    "    scatter_current_alt_itt_limit = go.Scatter(\n",
    "        x=dataframe_current_alt[\"Mach (-)\"].to_list(),\n",
    "        y=dataframe_current_alt[\"Max Power ITT Limit (kW)\"].to_list(),\n",
    "        mode=\"lines+markers\",\n",
    "        name=\"Max power ITT limit\",\n",
    "        legendgroup=str(alt),\n",
    "    )\n",
    "    fig.add_trace(scatter_current_alt_itt_limit)\n",
    "\n",
    "fig.update_layout(height=1000)\n",
    "fig.show()"
   ]
  },
  {
   "cell_type": "markdown",
   "id": "d94115b3-f169-4bc3-a0c1-79e6ff410249",
   "metadata": {},
   "source": [
    "Let's first try on the first design"
   ]
  },
  {
   "cell_type": "code",
   "execution_count": null,
   "id": "540025fe-eb0e-4074-a368-cc07beb93c31",
   "metadata": {
    "tags": []
   },
   "outputs": [],
   "source": [
    "import numpy as np\n",
    "\n",
    "# Import pyVPLM modules/functions\n",
    "from pyvplm.addon.variablepowerlaw import regression_models, perform_regression\n",
    "\n",
    "from stdatm import Atmosphere\n",
    "\n",
    "altitudes = np.array(first_design_dataframe[\"Altitude (ft)\"].to_list())\n",
    "atm = Atmosphere(altitudes, altitude_in_feet=True)\n",
    "atm_0 = Atmosphere(0.0, altitude_in_feet=True)\n",
    "sigmas = atm.density / atm_0.density\n",
    "\n",
    "pi1 = list(sigmas)\n",
    "pi2 = first_design_dataframe[\"Mach (-)\"].to_list()\n",
    "pi3 = first_design_dataframe[\"Max Power OPR Limit (kW)\"].to_list()\n",
    "doe_opr_limit = np.c_[pi1, pi2, pi3]\n",
    "doe_opr_limit = pd.DataFrame(doe_opr_limit, columns=[\"pi1\", \"pi2\", \"pi3\"])\n",
    "\n",
    "# Fit with 3rd order power-law model the obtained Pi DOE\n",
    "models = regression_models(\n",
    "    doe_opr_limit.values,\n",
    "    elected_pi0=\"pi3\",\n",
    "    order=2,\n",
    "    log_space=False,\n",
    "    ymax_axis=10,\n",
    "    test_mode=True,\n",
    "    plots=False,\n",
    ")\n",
    "average_rel_error = models[\"ave. e\"][1][-1]\n",
    "standard_deviation = models[\"sigma e\"][1][-1]\n",
    "print(\"average_rel_error\", average_rel_error)\n",
    "print(\"standard_deviation\", standard_deviation)\n",
    "_ = perform_regression(doe_opr_limit.values, models, chosen_model=6, no_plots=False)"
   ]
  },
  {
   "cell_type": "markdown",
   "id": "fcf5f260-f454-4d63-b61b-d577b04949f0",
   "metadata": {},
   "source": [
    "Let's now do it for all designs for the OPR limit"
   ]
  },
  {
   "cell_type": "code",
   "execution_count": null,
   "id": "112174a2-0eda-48bb-b044-a759314dd4ca",
   "metadata": {
    "tags": []
   },
   "outputs": [],
   "source": [
    "atm_0 = Atmosphere(0.0, altitude_in_feet=True)\n",
    "\n",
    "for design in designs:\n",
    "\n",
    "    current_design = existing_data.loc[existing_data[THERMODYNAMIC_POWER_COLUMN_NAME] == design]\n",
    "\n",
    "    print(\"\\nDesign Power (kW): \" + str(current_design[\"Design Power (kW)\"].to_list()[0]))\n",
    "\n",
    "    altitudes = np.array(current_design[\"Altitude (ft)\"].to_list())\n",
    "    atm = Atmosphere(altitudes, altitude_in_feet=True)\n",
    "    sigmas = atm.density / atm_0.density\n",
    "\n",
    "    pi1 = list(sigmas)\n",
    "    pi2 = current_design[\"Mach (-)\"].to_list()\n",
    "    pi3 = current_design[\"Max Power OPR Limit (kW)\"].to_list()\n",
    "    doe_opr_limit = np.c_[pi1, pi2, pi3]\n",
    "    doe_opr_limit = pd.DataFrame(doe_opr_limit, columns=[\"pi1\", \"pi2\", \"pi3\"])\n",
    "\n",
    "    # Fit with 3rd order power-law model the obtained Pi DOE\n",
    "    models = regression_models(\n",
    "        doe_opr_limit.values,\n",
    "        elected_pi0=\"pi3\",\n",
    "        order=2,\n",
    "        log_space=False,\n",
    "        ymax_axis=10,\n",
    "        test_mode=True,\n",
    "        plots=False,\n",
    "    )\n",
    "    _ = perform_regression(doe_opr_limit.values, models, chosen_model=6, no_plots=False)"
   ]
  },
  {
   "cell_type": "markdown",
   "id": "d8106934-083a-407f-8bde-43e8fbb48e98",
   "metadata": {},
   "source": [
    "And now for the ITT limit"
   ]
  },
  {
   "cell_type": "code",
   "execution_count": null,
   "id": "4a6fdc92-9f65-4140-b633-6fcc3eac16b3",
   "metadata": {
    "tags": []
   },
   "outputs": [],
   "source": [
    "atm_0 = Atmosphere(0.0, altitude_in_feet=True)\n",
    "\n",
    "for design in designs:\n",
    "\n",
    "    current_design = existing_data.loc[existing_data[THERMODYNAMIC_POWER_COLUMN_NAME] == design]\n",
    "\n",
    "    print(\"\\nDesign Power (kW): \" + str(current_design[\"Design Power (kW)\"].to_list()[0]))\n",
    "\n",
    "    altitudes = np.array(current_design[\"Altitude (ft)\"].to_list())\n",
    "    atm = Atmosphere(altitudes, altitude_in_feet=True)\n",
    "    sigmas = atm.density / atm_0.density\n",
    "\n",
    "    pi1 = list(sigmas)\n",
    "    pi2 = current_design[\"Mach (-)\"].to_list()\n",
    "    pi3 = current_design[\"Max Power ITT Limit (kW)\"].to_list()\n",
    "    doe_opr_limit = np.c_[pi1, pi2, pi3]\n",
    "    doe_opr_limit = pd.DataFrame(doe_opr_limit, columns=[\"pi1\", \"pi2\", \"pi3\"])\n",
    "\n",
    "    # Fit with 3rd order power-law model the obtained Pi DOE\n",
    "    models = regression_models(\n",
    "        doe_opr_limit.values,\n",
    "        elected_pi0=\"pi3\",\n",
    "        order=2,\n",
    "        log_space=False,\n",
    "        ymax_axis=10,\n",
    "        test_mode=True,\n",
    "        plots=False,\n",
    "    )\n",
    "    _ = perform_regression(doe_opr_limit.values, models, chosen_model=6, no_plots=False)"
   ]
  },
  {
   "cell_type": "code",
   "execution_count": null,
   "id": "5ec010ed-24b1-47a6-ab95-f376af1e66e4",
   "metadata": {
    "tags": []
   },
   "outputs": [],
   "source": [
    "import plotly.express as px\n",
    "\n",
    "result_file_path_max_power_coeff = data_folder_path / \"max_power_coefficient.csv\"\n",
    "\n",
    "existing_data_coeff = pd.read_csv(result_file_path_max_power_coeff, index_col=None)\n",
    "\n",
    "power_des = existing_data_coeff[\"Design Power (kW)\"].tolist()\n",
    "t41t_des = existing_data_coeff[\"Design T41t (degK)\"].tolist()\n",
    "opr_des = existing_data_coeff[\"Design OPR (-)\"].tolist()\n",
    "t45t_lim = existing_data_coeff[\"Limit ITT (degK)\"].tolist()\n",
    "opr_lim = existing_data_coeff[\"Limit OPR (-)\"].tolist()\n",
    "\n",
    "cst_term_opr = existing_data_coeff[\"Cst term OPR\"].tolist()\n",
    "s_term_opr = existing_data_coeff[\"s OPR\"].tolist()\n",
    "s_m_term_opr = existing_data_coeff[\"s * M OPR\"].tolist()\n",
    "s2_term_opr = existing_data_coeff[\"s2 OPR\"].tolist()\n",
    "m2_term_opr = existing_data_coeff[\"M2 OPR\"].tolist()\n",
    "m_term_opr = existing_data_coeff[\"M OPR\"].tolist()\n",
    "\n",
    "cst_term_itt = existing_data_coeff[\"Cst term ITT\"].tolist()\n",
    "s_term_itt = existing_data_coeff[\"s ITT\"].tolist()\n",
    "s_m_term_itt = existing_data_coeff[\"s * M ITT\"].tolist()\n",
    "s2_term_itt = existing_data_coeff[\"s2 ITT\"].tolist()\n",
    "m2_term_itt = existing_data_coeff[\"M2 ITT\"].tolist()\n",
    "m_term_itt = existing_data_coeff[\"M ITT\"].tolist()\n",
    "\n",
    "doe_cst_term_opr = np.c_[power_des, t41t_des, opr_des, opr_lim, cst_term_opr]\n",
    "doe_cst_term_opr = pd.DataFrame(doe_cst_term_opr, columns=[\"pi1\", \"pi2\", \"pi3\", \"pi4\", \"pi5\"])\n",
    "\n",
    "fig = px.scatter_matrix(doe_cst_term_opr, width=1200, height=800)\n",
    "fig.show()"
   ]
  },
  {
   "cell_type": "code",
   "execution_count": null,
   "id": "57e615f0-ac00-488c-9982-8bd1e26dd981",
   "metadata": {
    "tags": []
   },
   "outputs": [],
   "source": [
    "atm_0 = Atmosphere(0.0, altitude_in_feet=True)\n",
    "t0 = atm_0.temperature\n",
    "print(t0)\n",
    "\n",
    "# doe_cst_term_opr = np.c_[np.array(power_des), np.array(t41t_des) / t0, opr_lim, np.array(s_term_opr)]\n",
    "# doe_cst_term_opr = pd.DataFrame(doe_cst_term_opr, columns=[\"pi1\", \"pi2\", \"pi3\", \"pi4\"])\n",
    "\n",
    "# models = regression_models(\n",
    "#     doe_cst_term_opr.values, elected_pi0=\"pi4\", order=2, log_space=False, ymax_axis=10, test_mode=True, plots=True\n",
    "# )\n",
    "# _ = perform_regression(doe_cst_term_opr.values, models, chosen_model=6, no_plots=False)"
   ]
  },
  {
   "cell_type": "code",
   "execution_count": null,
   "id": "d835bb53-1104-47b3-bc17-5112e0168f59",
   "metadata": {},
   "outputs": [],
   "source": [
    "B = np.log(np.array(s_term_opr))\n",
    "A = np.c_[\n",
    "    np.ones_like(power_des),\n",
    "    np.log(np.array(power_des)),\n",
    "    np.log(np.array(t41t_des)),\n",
    "    np.log(np.array(opr_lim)),\n",
    "]\n",
    "x = np.linalg.lstsq(A, B, rcond=None)\n",
    "k, a_exp, b_exp, c_exp = x[0]\n",
    "print(x[1])\n",
    "\n",
    "print(\n",
    "    list(\n",
    "        np.round(\n",
    "            np.exp(k)\n",
    "            * np.array(power_des) ** a_exp\n",
    "            * np.array(t41t_des) ** b_exp\n",
    "            * np.array(opr_lim) ** c_exp,\n",
    "            5,\n",
    "        )\n",
    "    )\n",
    ")\n",
    "print(s_term_opr)"
   ]
  },
  {
   "cell_type": "markdown",
   "id": "2c434974-3ce5-47f5-8056-5867e2ca0d44",
   "metadata": {},
   "source": [
    "# Brute Force"
   ]
  },
  {
   "cell_type": "markdown",
   "id": "fc49e41e-b85f-4ffe-ab5e-f5265cea2a60",
   "metadata": {},
   "source": [
    "For the OPR limit"
   ]
  },
  {
   "cell_type": "code",
   "execution_count": null,
   "id": "6321173b-e746-475b-8b36-8fe7c3ff1a58",
   "metadata": {
    "tags": []
   },
   "outputs": [],
   "source": [
    "path_to_current_file = pathlib.Path().cwd()\n",
    "data_folder_path = path_to_current_file / \"data\"\n",
    "result_file_path_max_power = data_folder_path / \"max_power.csv\"\n",
    "\n",
    "existing_data = pd.read_csv(result_file_path_max_power, index_col=0)\n",
    "\n",
    "altitudes = existing_data[\"Altitude (ft)\"].to_numpy()\n",
    "machs = existing_data[\"Mach (-)\"].to_numpy()\n",
    "atm = Atmosphere(altitudes, altitude_in_feet=True)\n",
    "atm_0 = Atmosphere(0.0, altitude_in_feet=True)\n",
    "sigmas = atm.density / atm_0.density\n",
    "\n",
    "pi1 = list(sigmas)\n",
    "pi2 = existing_data[\"Mach (-)\"].to_list()\n",
    "pi3 = existing_data[\"Design Power (kW)\"].to_list()\n",
    "pi4 = existing_data[\"Design T41t (degK)\"].to_list()\n",
    "pi5 = existing_data[\"Design OPR (-)\"].to_list()\n",
    "pi6 = existing_data[\"Limit OPR (-)\"].to_list()\n",
    "pi7 = existing_data[\"Max Power OPR Limit (kW)\"].to_list()\n",
    "doe_opr_limit = np.c_[pi1, pi2, pi3, pi4, pi5, pi6, pi7]\n",
    "doe_opr_limit = pd.DataFrame(\n",
    "    doe_opr_limit, columns=[\"pi1\", \"pi2\", \"pi3\", \"pi4\", \"pi5\", \"pi6\", \"pi7\"]\n",
    ")\n",
    "\n",
    "# Fit with 3rd order power-law model the obtained Pi DOE\n",
    "models = regression_models(\n",
    "    doe_opr_limit.values,\n",
    "    elected_pi0=\"pi7\",\n",
    "    order=3,\n",
    "    log_space=True,\n",
    "    ymax_axis=10,\n",
    "    test_mode=True,\n",
    "    plots=True,\n",
    ")"
   ]
  },
  {
   "cell_type": "code",
   "execution_count": null,
   "id": "108c2847-d77e-4fee-9b8a-26fe9e6a761d",
   "metadata": {
    "tags": []
   },
   "outputs": [],
   "source": [
    "_ = perform_regression(doe_opr_limit.values, models, chosen_model=15, no_plots=False)"
   ]
  },
  {
   "cell_type": "markdown",
   "id": "f160d56e-1ed1-43e8-9cb3-92e715780a29",
   "metadata": {},
   "source": [
    "For the ITT limit"
   ]
  },
  {
   "cell_type": "code",
   "execution_count": null,
   "id": "2a843210-f3bb-4d4e-b7e1-06c12a2d40e3",
   "metadata": {
    "tags": []
   },
   "outputs": [],
   "source": [
    "path_to_current_file = pathlib.Path().cwd()\n",
    "data_folder_path = path_to_current_file / \"data\"\n",
    "result_file_path_max_power = data_folder_path / \"max_power.csv\"\n",
    "\n",
    "existing_data = pd.read_csv(result_file_path_max_power, index_col=0)\n",
    "\n",
    "altitudes = existing_data[\"Altitude (ft)\"].to_numpy()\n",
    "machs = existing_data[\"Mach (-)\"].to_numpy()\n",
    "atm = Atmosphere(altitudes, altitude_in_feet=True)\n",
    "atm_0 = Atmosphere(0.0, altitude_in_feet=True)\n",
    "sigmas = atm.density / atm_0.density\n",
    "\n",
    "pi1 = list(sigmas)\n",
    "pi2 = existing_data[\"Mach (-)\"].to_list()\n",
    "pi3 = existing_data[\"Design Power (kW)\"].to_list()\n",
    "pi4 = existing_data[\"Design T41t (degK)\"].to_list()\n",
    "pi5 = existing_data[\"Design OPR (-)\"].to_list()\n",
    "pi6 = existing_data[\"Limit ITT (degK)\"].to_list()\n",
    "pi7 = existing_data[\"Max Power ITT Limit (kW)\"].to_list()\n",
    "doe_itt_limit = np.c_[pi1, pi2, pi3, pi4, pi5, pi6, pi7]\n",
    "doe_itt_limit = pd.DataFrame(\n",
    "    doe_itt_limit, columns=[\"pi1\", \"pi2\", \"pi3\", \"pi4\", \"pi5\", \"pi6\", \"pi7\"]\n",
    ")\n",
    "\n",
    "# Fit with 3rd order power-law model the obtained Pi DOE\n",
    "models = regression_models(\n",
    "    doe_itt_limit.values,\n",
    "    elected_pi0=\"pi7\",\n",
    "    order=3,\n",
    "    log_space=True,\n",
    "    ymax_axis=10,\n",
    "    test_mode=True,\n",
    "    plots=True,\n",
    ")"
   ]
  },
  {
   "cell_type": "code",
   "execution_count": null,
   "id": "414d021a-0a12-483b-921c-267cfe453e0e",
   "metadata": {
    "tags": []
   },
   "outputs": [],
   "source": [
    "_ = perform_regression(doe_itt_limit.values, models, chosen_model=15, no_plots=False)"
   ]
  },
  {
   "cell_type": "markdown",
   "id": "96ae46a6-1f27-4051-a770-732dbc4ddd5e",
   "metadata": {},
   "source": [
    "# Now for the fuel consumed"
   ]
  },
  {
   "cell_type": "code",
   "execution_count": null,
   "id": "b6a6b630-64c3-4da4-b8c1-dbdedda52f6c",
   "metadata": {
    "tags": []
   },
   "outputs": [],
   "source": [
    "path_to_current_file = pathlib.Path().cwd()\n",
    "data_folder_path = path_to_current_file / \"data\"\n",
    "result_file_path_max_power = data_folder_path / \"fuel_consumed.csv\"\n",
    "\n",
    "existing_data = pd.read_csv(result_file_path_max_power, index_col=0)\n",
    "\n",
    "altitudes = existing_data[\"Altitude (ft)\"].to_numpy()\n",
    "machs = existing_data[\"Mach (-)\"].to_numpy()\n",
    "atm = Atmosphere(altitudes, altitude_in_feet=True)\n",
    "atm_0 = Atmosphere(0.0, altitude_in_feet=True)\n",
    "sigmas = atm.density / atm_0.density\n",
    "\n",
    "index_to_retain = np.random.randint(0, len(altitudes), size=750)\n",
    "\n",
    "pi1 = sigmas[index_to_retain]\n",
    "pi2 = existing_data[\"Mach (-)\"].to_numpy()[index_to_retain]\n",
    "pi3 = existing_data[\"Design Power (kW)\"].to_numpy()[index_to_retain]\n",
    "pi4 = existing_data[\"Design T41t (degK)\"].to_numpy()[index_to_retain]\n",
    "pi5 = existing_data[\"Design OPR (-)\"].to_numpy()[index_to_retain]\n",
    "pi6 = existing_data[\"Shaft Power (kW)\"].to_numpy()[index_to_retain]\n",
    "pi7 = existing_data[\"Fuel mass flow (kg/h)\"].to_numpy()[index_to_retain]\n",
    "doe_fuel_consumed_limit = np.c_[pi1, pi2, pi3, pi4, pi5, pi6, pi7]\n",
    "doe_fuel_consumed_limit = pd.DataFrame(\n",
    "    doe_fuel_consumed_limit, columns=[\"pi1\", \"pi2\", \"pi3\", \"pi4\", \"pi5\", \"pi6\", \"pi7\"]\n",
    ")\n",
    "\n",
    "# Fit with 3rd order power-law model the obtained Pi DOE\n",
    "models = regression_models(\n",
    "    doe_fuel_consumed_limit.values,\n",
    "    elected_pi0=\"pi7\",\n",
    "    order=3,\n",
    "    log_space=True,\n",
    "    ymax_axis=10,\n",
    "    test_mode=True,\n",
    "    plots=True,\n",
    ")"
   ]
  },
  {
   "cell_type": "code",
   "execution_count": null,
   "id": "0833fba6-0930-4fe2-b673-1bb79ec03424",
   "metadata": {
    "tags": []
   },
   "outputs": [],
   "source": [
    "_ = perform_regression(doe_fuel_consumed_limit.values, models, chosen_model=18, no_plots=False)"
   ]
  },
  {
   "cell_type": "code",
   "execution_count": null,
   "id": "1f8fbf55-15ea-4e76-a71e-390b1eb92484",
   "metadata": {
    "tags": []
   },
   "outputs": [],
   "source": [
    "print(min(existing_data[\"Fuel mass flow (kg/h)\"].to_numpy()))\n",
    "print(max(existing_data[\"Fuel mass flow (kg/h)\"].to_numpy()))"
   ]
  },
  {
   "cell_type": "markdown",
   "id": "3c45a1ad-f25a-4218-a3de-e8f7dc223d4f",
   "metadata": {},
   "source": [
    "Now for the exhaust thrust"
   ]
  },
  {
   "cell_type": "code",
   "execution_count": null,
   "id": "0ace0cc0-7dc4-477a-9f03-1e0b0a4c2c3e",
   "metadata": {
    "tags": []
   },
   "outputs": [],
   "source": [
    "import pathlib\n",
    "import numpy as np\n",
    "import pandas as pd\n",
    "from stdatm import Atmosphere\n",
    "\n",
    "path_to_current_file = pathlib.Path().cwd()\n",
    "data_folder_path = path_to_current_file / \"data\"\n",
    "result_file_path_max_power = data_folder_path / \"fuel_consumed.csv\"\n",
    "\n",
    "existing_data = pd.read_csv(result_file_path_max_power, index_col=0)\n",
    "\n",
    "altitudes = existing_data[\"Altitude (ft)\"].to_numpy()\n",
    "machs = existing_data[\"Mach (-)\"].to_numpy()\n",
    "atm = Atmosphere(altitudes, altitude_in_feet=True)\n",
    "atm_0 = Atmosphere(0.0, altitude_in_feet=True)\n",
    "sigmas = atm.density / atm_0.density\n",
    "\n",
    "index_to_retain = np.random.randint(0, len(altitudes), size=750)\n",
    "exhaust_thrust = existing_data[\"Exhaust Thrust (N)\"].to_numpy()[index_to_retain]\n",
    "# only taking positive value of exhaust thrust\n",
    "new_index = np.where(exhaust_thrust > 0)\n",
    "\n",
    "pi1 = sigmas[index_to_retain][new_index]\n",
    "pi2 = existing_data[\"Mach (-)\"].to_numpy()[index_to_retain][new_index]\n",
    "pi3 = existing_data[\"Design Power (kW)\"].to_numpy()[index_to_retain][new_index]\n",
    "pi4 = existing_data[\"Design T41t (degK)\"].to_numpy()[index_to_retain][new_index]\n",
    "pi5 = existing_data[\"Design OPR (-)\"].to_numpy()[index_to_retain][new_index]\n",
    "pi6 = existing_data[\"Shaft Power (kW)\"].to_numpy()[index_to_retain][new_index]\n",
    "pi7 = existing_data[\"Exhaust Thrust (N)\"].to_numpy()[index_to_retain][new_index]\n",
    "doe_exhaust_thrust = np.c_[pi1, pi2, pi3, pi4, pi5, pi6, pi7]\n",
    "doe_exhaust_thrust = pd.DataFrame(\n",
    "    doe_exhaust_thrust, columns=[\"pi1\", \"pi2\", \"pi3\", \"pi4\", \"pi5\", \"pi6\", \"pi7\"]\n",
    ")\n",
    "\n",
    "# Fit with 3rd order power-law model the obtained Pi DOE\n",
    "# models = regression_models(\n",
    "#     doe_exhaust_thrust.values, elected_pi0=\"pi7\", order=4, log_space=True, ymax_axis=10, test_mode=True, plots=True\n",
    "# )"
   ]
  },
  {
   "cell_type": "code",
   "execution_count": null,
   "id": "004c2d7c-603a-46f3-89f0-f679a147d76b",
   "metadata": {
    "tags": []
   },
   "outputs": [],
   "source": [
    "# _ = perform_regression(doe_exhaust_thrust.values, models, chosen_model=30, no_plots=False)"
   ]
  },
  {
   "cell_type": "code",
   "execution_count": null,
   "id": "ba72cf53-229c-42a5-a14f-b69c03c79568",
   "metadata": {
    "tags": []
   },
   "outputs": [],
   "source": [
    "import plotly.express as px\n",
    "\n",
    "fig = px.scatter_matrix(doe_exhaust_thrust, width=1200, height=800)\n",
    "fig.show()"
   ]
  },
  {
   "cell_type": "markdown",
   "id": "b5c7cdd6-512f-4082-8efa-58007913c80c",
   "metadata": {},
   "source": [
    "# Exhaust thrust but differently"
   ]
  },
  {
   "cell_type": "code",
   "execution_count": null,
   "id": "deb4a73a-8cd8-4af7-ac92-3d56e701a528",
   "metadata": {
    "tags": []
   },
   "outputs": [],
   "source": [
    "import pathlib\n",
    "import numpy as np\n",
    "import pandas as pd\n",
    "from stdatm import Atmosphere\n",
    "\n",
    "# Import pyVPLM modules/functions\n",
    "from pyvplm.addon.variablepowerlaw import regression_models, perform_regression\n",
    "\n",
    "path_to_current_file = pathlib.Path().cwd()\n",
    "data_folder_path = path_to_current_file / \"data\"\n",
    "result_file_path_max_power = data_folder_path / \"fuel_consumed_complemented.csv\"\n",
    "\n",
    "existing_data = pd.read_csv(result_file_path_max_power, index_col=0)\n",
    "\n",
    "altitudes = existing_data[\"Altitude (ft)\"].to_numpy()\n",
    "machs = existing_data[\"Mach (-)\"].to_numpy()\n",
    "atm = Atmosphere(altitudes, altitude_in_feet=True)\n",
    "atm_0 = Atmosphere(0.0, altitude_in_feet=True)\n",
    "sigmas = atm.density / atm_0.density\n",
    "\n",
    "index_to_retain = np.random.randint(0, len(altitudes), size=750)\n",
    "\n",
    "pi1 = sigmas[index_to_retain]\n",
    "pi2 = existing_data[\"Mach (-)\"].to_numpy()[index_to_retain]\n",
    "pi3 = existing_data[\"Design Power (kW)\"].to_numpy()[index_to_retain]\n",
    "pi4 = existing_data[\"Design T41t (degK)\"].to_numpy()[index_to_retain]\n",
    "pi5 = existing_data[\"Design OPR (-)\"].to_numpy()[index_to_retain]\n",
    "pi6 = existing_data[\"Shaft Power (kW)\"].to_numpy()[index_to_retain]\n",
    "pi7 = existing_data[\"Exhaust velocity (m/s)\"].to_numpy()[index_to_retain]\n",
    "\n",
    "doe_exhaust_velocity = np.c_[pi1, pi2, pi3, pi4, pi5, pi6, pi7]\n",
    "doe_exhaust_velocity = pd.DataFrame(\n",
    "    doe_exhaust_velocity, columns=[\"pi1\", \"pi2\", \"pi3\", \"pi4\", \"pi5\", \"pi6\", \"pi7\"]\n",
    ")\n",
    "\n",
    "# Fit with 3rd order power-law model the obtained Pi DOE\n",
    "models = regression_models(\n",
    "    doe_exhaust_velocity.values,\n",
    "    elected_pi0=\"pi7\",\n",
    "    order=3,\n",
    "    log_space=True,\n",
    "    ymax_axis=10,\n",
    "    test_mode=True,\n",
    "    plots=True,\n",
    ")"
   ]
  },
  {
   "cell_type": "code",
   "execution_count": null,
   "id": "46a7b443-4d39-4bb8-a99c-ba05ffec358d",
   "metadata": {
    "tags": []
   },
   "outputs": [],
   "source": [
    "_ = perform_regression(doe_exhaust_velocity.values, models, chosen_model=15, no_plots=False)"
   ]
  },
  {
   "cell_type": "code",
   "execution_count": null,
   "id": "382a358e-0d9a-4dc3-a83c-93a588319d9e",
   "metadata": {
    "tags": []
   },
   "outputs": [],
   "source": [
    "import pathlib\n",
    "import numpy as np\n",
    "import pandas as pd\n",
    "from stdatm import Atmosphere\n",
    "\n",
    "# Import pyVPLM modules/functions\n",
    "from pyvplm.addon.variablepowerlaw import regression_models, perform_regression\n",
    "\n",
    "path_to_current_file = pathlib.Path().cwd()\n",
    "data_folder_path = path_to_current_file / \"data\"\n",
    "result_file_path_max_power = data_folder_path / \"fuel_consumed_complemented.csv\"\n",
    "\n",
    "existing_data = pd.read_csv(result_file_path_max_power, index_col=0)\n",
    "\n",
    "altitudes = existing_data[\"Altitude (ft)\"].to_numpy()\n",
    "machs = existing_data[\"Mach (-)\"].to_numpy()\n",
    "atm = Atmosphere(altitudes, altitude_in_feet=True)\n",
    "atm_0 = Atmosphere(0.0, altitude_in_feet=True)\n",
    "sigmas = atm.density / atm_0.density\n",
    "\n",
    "index_to_retain = np.random.randint(0, len(altitudes), size=750)\n",
    "\n",
    "pi1 = sigmas[index_to_retain]\n",
    "pi2 = existing_data[\"Mach (-)\"].to_numpy()[index_to_retain]\n",
    "pi3 = existing_data[\"Design Power (kW)\"].to_numpy()[index_to_retain]\n",
    "pi4 = existing_data[\"Design T41t (degK)\"].to_numpy()[index_to_retain]\n",
    "pi5 = existing_data[\"Design OPR (-)\"].to_numpy()[index_to_retain]\n",
    "pi6 = existing_data[\"Shaft Power (kW)\"].to_numpy()[index_to_retain]\n",
    "pi7 = existing_data[\"Exhaust mass flow (kg/s)\"].to_numpy()[index_to_retain]\n",
    "\n",
    "doe_exhaust_mass_flow = np.c_[pi1, pi2, pi3, pi4, pi5, pi6, pi7]\n",
    "doe_exhaust_mass_flow = pd.DataFrame(\n",
    "    doe_exhaust_mass_flow, columns=[\"pi1\", \"pi2\", \"pi3\", \"pi4\", \"pi5\", \"pi6\", \"pi7\"]\n",
    ")\n",
    "\n",
    "# Fit with 3rd order power-law model the obtained Pi DOE\n",
    "models = regression_models(\n",
    "    doe_exhaust_mass_flow.values,\n",
    "    elected_pi0=\"pi7\",\n",
    "    order=2,\n",
    "    log_space=True,\n",
    "    ymax_axis=10,\n",
    "    test_mode=True,\n",
    "    plots=True,\n",
    ")"
   ]
  },
  {
   "cell_type": "code",
   "execution_count": null,
   "id": "405a5802-0a48-41e5-9c6f-38ae9df5e0ef",
   "metadata": {
    "tags": []
   },
   "outputs": [],
   "source": [
    "_ = perform_regression(doe_exhaust_mass_flow.values, models, chosen_model=10, no_plots=False)"
   ]
  },
  {
   "cell_type": "markdown",
   "id": "6ffd9c68-cb8f-4ce6-8aad-7948c794fff1",
   "metadata": {},
   "source": [
    "# Max power OPT and ITT reversed\n",
    "\n",
    "I turns out, the original orientation of the model wasn't what we needed. What we need is a way to derive, from the power seen during the mission, what the minimum thermodynamic design power would be that allow to reach that power, hence why we'll reverse the model."
   ]
  },
  {
   "cell_type": "code",
   "execution_count": null,
   "id": "2dcf702a-f924-4fc3-bec6-07a250c472cd",
   "metadata": {
    "tags": []
   },
   "outputs": [],
   "source": [
    "import pathlib\n",
    "import numpy as np\n",
    "import pandas as pd\n",
    "from stdatm import Atmosphere\n",
    "\n",
    "# Import pyVPLM modules/functions\n",
    "from pyvplm.addon.variablepowerlaw import regression_models, perform_regression\n",
    "\n",
    "path_to_current_file = pathlib.Path().cwd()\n",
    "data_folder_path = path_to_current_file / \"data\"\n",
    "result_file_path_max_power = data_folder_path / \"max_power_v2.csv\"\n",
    "\n",
    "existing_data = pd.read_csv(result_file_path_max_power, index_col=0)\n",
    "\n",
    "altitudes = existing_data[\"Altitude (ft)\"].to_numpy()\n",
    "machs = existing_data[\"Mach (-)\"].to_numpy()\n",
    "atm = Atmosphere(altitudes, altitude_in_feet=True)\n",
    "atm_0 = Atmosphere(0.0, altitude_in_feet=True)\n",
    "sigmas = atm.density / atm_0.density\n",
    "\n",
    "pi1 = list(sigmas)\n",
    "pi2 = existing_data[\"Mach (-)\"].to_list()\n",
    "pi3 = existing_data[\"Max Power OPR Limit (kW)\"].to_numpy() / 1000.0\n",
    "pi4 = existing_data[\"Design T41t (degK)\"].to_numpy() / atm_0.temperature\n",
    "pi5 = existing_data[\"Design OPR (-)\"].to_list()\n",
    "pi6 = existing_data[\"Limit OPR (-)\"].to_list()\n",
    "pi7 = existing_data[\"Design Power (kW)\"].to_numpy() / 1000.0\n",
    "doe_opr_limit = np.c_[pi1, pi2, pi3, pi4, pi5, pi6, pi7]\n",
    "doe_opr_limit = pd.DataFrame(\n",
    "    doe_opr_limit, columns=[\"pi1\", \"pi2\", \"pi3\", \"pi4\", \"pi5\", \"pi6\", \"pi7\"]\n",
    ")\n",
    "\n",
    "# Fit with 3rd order power-law model the obtained Pi DOE\n",
    "models = regression_models(\n",
    "    doe_opr_limit.values,\n",
    "    elected_pi0=\"pi7\",\n",
    "    order=3,\n",
    "    log_space=True,\n",
    "    ymax_axis=10,\n",
    "    test_mode=True,\n",
    "    plots=True,\n",
    ")"
   ]
  },
  {
   "cell_type": "code",
   "execution_count": null,
   "id": "7f3adfea-930c-4ccb-89e4-7e0d7687af91",
   "metadata": {
    "tags": []
   },
   "outputs": [],
   "source": [
    "surrogate = perform_regression(doe_opr_limit.values, models, chosen_model=21, no_plots=False)"
   ]
  },
  {
   "cell_type": "code",
   "execution_count": null,
   "id": "42101b65-82f4-4cc6-a2e0-f17472d37f84",
   "metadata": {
    "tags": []
   },
   "outputs": [],
   "source": [
    "import pathlib\n",
    "import numpy as np\n",
    "import pandas as pd\n",
    "from stdatm import Atmosphere\n",
    "import plotly.express as px\n",
    "\n",
    "# Import pyVPLM modules/functions\n",
    "from pyvplm.addon.variablepowerlaw import regression_models, perform_regression\n",
    "\n",
    "path_to_current_file = pathlib.Path().cwd()\n",
    "data_folder_path = path_to_current_file / \"data\"\n",
    "result_file_path_max_power = data_folder_path / \"max_power_v2.csv\"\n",
    "\n",
    "existing_data = pd.read_csv(result_file_path_max_power, index_col=0)\n",
    "\n",
    "altitudes = existing_data[\"Altitude (ft)\"].to_numpy()\n",
    "machs = existing_data[\"Mach (-)\"].to_numpy()\n",
    "atm = Atmosphere(altitudes, altitude_in_feet=True)\n",
    "atm_0 = Atmosphere(0.0, altitude_in_feet=True)\n",
    "sigmas = atm.density / atm_0.density\n",
    "\n",
    "pi1 = list(sigmas)\n",
    "pi2 = existing_data[\"Mach (-)\"].to_list()\n",
    "pi3 = existing_data[\"Max Power ITT Limit (kW)\"].to_numpy() / 1000.0\n",
    "pi4 = existing_data[\"Design T41t (degK)\"].to_numpy() / atm_0.temperature\n",
    "pi5 = existing_data[\"Design OPR (-)\"].to_list()\n",
    "pi6 = existing_data[\"Limit ITT (degK)\"].to_numpy() / atm_0.temperature\n",
    "pi7 = existing_data[\"Design Power (kW)\"].to_numpy() / 1000.0\n",
    "doe_itt_limit = np.c_[pi1, pi2, pi3, pi4, pi5, pi6, pi7]\n",
    "doe_itt_limit = pd.DataFrame(\n",
    "    doe_itt_limit, columns=[\"pi1\", \"pi2\", \"pi3\", \"pi4\", \"pi5\", \"pi6\", \"pi7\"]\n",
    ")\n",
    "\n",
    "fig = px.scatter_matrix(doe_itt_limit, width=1200, height=800)\n",
    "fig.show()"
   ]
  },
  {
   "cell_type": "code",
   "execution_count": null,
   "id": "77d90c98-8c8f-4bc3-aeb3-f7859bc8a335",
   "metadata": {},
   "outputs": [],
   "source": [
    "# Fit with 3rd order power-law model the obtained Pi DOE\n",
    "models = regression_models(\n",
    "    doe_itt_limit.values,\n",
    "    elected_pi0=\"pi7\",\n",
    "    order=3,\n",
    "    log_space=True,\n",
    "    ymax_axis=10,\n",
    "    test_mode=True,\n",
    "    plots=True,\n",
    ")"
   ]
  },
  {
   "cell_type": "code",
   "execution_count": null,
   "id": "30593daa-9804-4218-8eb0-669127a1646f",
   "metadata": {
    "tags": []
   },
   "outputs": [],
   "source": [
    "surrogate = perform_regression(doe_itt_limit.values, models, chosen_model=21, no_plots=False)"
   ]
  },
  {
   "cell_type": "code",
   "execution_count": null,
   "id": "cf4981dd-a98a-479f-b3b6-74bfe7ba2695",
   "metadata": {},
   "outputs": [],
   "source": []
  }
 ],
 "metadata": {
  "kernelspec": {
   "display_name": "Python 3 (ipykernel)",
   "language": "python",
   "name": "python3"
  },
  "language_info": {
   "codemirror_mode": {
    "name": "ipython",
    "version": 3
   },
   "file_extension": ".py",
   "mimetype": "text/x-python",
   "name": "python",
   "nbconvert_exporter": "python",
   "pygments_lexer": "ipython3",
   "version": "3.8.16"
  }
 },
 "nbformat": 4,
 "nbformat_minor": 5
}
