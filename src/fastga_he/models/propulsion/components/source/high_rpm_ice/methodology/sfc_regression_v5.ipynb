{
 "cells": [
  {
   "cell_type": "code",
   "execution_count": null,
   "id": "53cd5247-1c0e-456a-97b1-d7ee321f1541",
   "metadata": {},
   "outputs": [],
   "source": [
    "import warnings\n",
    "\n",
    "warnings.filterwarnings(action=\"ignore\")"
   ]
  },
  {
   "cell_type": "markdown",
   "id": "48cfdbf1-a07f-491b-b8c9-af51a68897b8",
   "metadata": {},
   "source": [
    "# Data from POH of Tecnam P2006T"
   ]
  },
  {
   "cell_type": "code",
   "execution_count": null,
   "id": "b3be8cb7-340e-4bfb-a490-daef37290b78",
   "metadata": {},
   "outputs": [],
   "source": [
    "import pandas as pd\n",
    "import numpy as np\n",
    "\n",
    "from stdatm import Atmosphere\n",
    "\n",
    "results_p2006t = pd.read_csv(\"data/p2006t_data.csv\")\n",
    "\n",
    "altitude_training_points = results_p2006t[\"altitude [ft]\"].to_numpy()\n",
    "engine_rpm_training_points = results_p2006t[\"propeller rpm [1/min]\"].to_numpy() * 2.43\n",
    "map_training_points = results_p2006t[\"MAP [inHg]\"].to_numpy()\n",
    "power_rate_training_points = results_p2006t[\"power rate [-]\"].to_numpy()\n",
    "ff_training_points = results_p2006t[\"fuel flow [l/h]\"].to_numpy()\n",
    "\n",
    "sigma_training_points = (\n",
    "    Atmosphere(altitude_training_points, altitude_in_feet=True).density / Atmosphere(0).density\n",
    ")\n",
    "rpm_ratio_training_points = engine_rpm_training_points / 5500.0\n",
    "\n",
    "power_training_points = power_rate_training_points * 69.0  # In kW\n",
    "fc_training_points = ff_training_points * 0.72  # in kg/h\n",
    "sfc_training_points = fc_training_points / power_training_points * 1000.0  # in g/kWh\n",
    "k_sfc_training_points = sfc_training_points / 285.0  # SFC at SL, MCP\n",
    "\n",
    "displacement_volume = 1352.0  # In cm**3\n",
    "displacement_volume /= 1e6"
   ]
  },
  {
   "cell_type": "code",
   "execution_count": null,
   "id": "b58ed34e-deb6-4dc5-a755-66aa104e0cdb",
   "metadata": {},
   "outputs": [],
   "source": [
    "print(sfc_training_points)\n",
    "print(ff_training_points)\n",
    "print(power_training_points)"
   ]
  },
  {
   "cell_type": "markdown",
   "id": "800bb239-ee76-4b06-a5ec-e043d848fc11",
   "metadata": {},
   "source": [
    "For some reasons the SFC seems to be more or less constant at all point, which contradicts what was found in litterature and what is observed on the Pipistrel SW121."
   ]
  },
  {
   "cell_type": "code",
   "execution_count": null,
   "id": "e788e5d9-a42f-4a1a-a9b6-fa4e378d4375",
   "metadata": {},
   "outputs": [],
   "source": [
    "import plotly.express as px\n",
    "\n",
    "pi1 = sigma_training_points\n",
    "pi2 = map_training_points / 29.92\n",
    "pi3 = rpm_ratio_training_points\n",
    "pi4 = k_sfc_training_points\n",
    "\n",
    "doe_k_sfc = np.c_[pi1, pi2, pi3, pi4]\n",
    "doe_k_sfc = pd.DataFrame(doe_k_sfc, columns=[\"sigma\", \"MAP ratio\", \"RPM ratio\", \"SFC ratio\"])\n",
    "\n",
    "df = px.data.iris()\n",
    "fig = px.scatter_matrix(doe_k_sfc, width=1200, height=800)\n",
    "fig.show()"
   ]
  },
  {
   "cell_type": "code",
   "execution_count": null,
   "id": "c2e8ea89-5fae-448e-9acd-7e95044d9f03",
   "metadata": {},
   "outputs": [],
   "source": [
    "# Import pyVPLM modules/functions\n",
    "from pyvplm.addon.variablepowerlaw import regression_models, perform_regression\n",
    "\n",
    "# Fit with 3rd order power-law model the obtained Pi DOE\n",
    "model = regression_models(\n",
    "    doe_k_sfc.values, elected_pi0=\"pi4\", order=3, log_space=False, test_mode=True\n",
    ")\n",
    "perform_regression(doe_k_sfc.values, model, chosen_model=2)"
   ]
  },
  {
   "cell_type": "code",
   "execution_count": null,
   "id": "6e79d2e6-4cb5-478d-802b-07578df33d9c",
   "metadata": {},
   "outputs": [],
   "source": []
  }
 ],
 "metadata": {
  "kernelspec": {
   "display_name": "Python 3 (ipykernel)",
   "language": "python",
   "name": "python3"
  },
  "language_info": {
   "codemirror_mode": {
    "name": "ipython",
    "version": 3
   },
   "file_extension": ".py",
   "mimetype": "text/x-python",
   "name": "python",
   "nbconvert_exporter": "python",
   "pygments_lexer": "ipython3",
   "version": "3.10.14"
  }
 },
 "nbformat": 4,
 "nbformat_minor": 5
}
