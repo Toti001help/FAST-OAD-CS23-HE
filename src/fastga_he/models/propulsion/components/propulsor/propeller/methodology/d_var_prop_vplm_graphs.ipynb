{
 "cells": [
  {
   "cell_type": "markdown",
   "id": "bfd201b1",
   "metadata": {},
   "source": [
    "# Varying diameter\n",
    "\n",
    "In this notebook we will try to create a scaling law to account for a varying propeller diameter as well as a varying number of blade and a varying altitude. Twist law should also vary but for now it will be left as is."
   ]
  },
  {
   "cell_type": "code",
   "execution_count": null,
   "id": "f8cc053c",
   "metadata": {},
   "outputs": [],
   "source": [
    "import warnings\n",
    "\n",
    "warnings.filterwarnings(action=\"ignore\")"
   ]
  },
  {
   "cell_type": "markdown",
   "id": "ccdd34f1",
   "metadata": {},
   "source": [
    "We'll adjust slightly the defined set here to take something similar to the previous notebook, that is $\\pi_2 = \\frac{picth}{PITCH_{REF}}$ and $\\pi_3 = n_{blade}$"
   ]
  },
  {
   "cell_type": "code",
   "execution_count": null,
   "id": "b3a07cf2",
   "metadata": {},
   "outputs": [],
   "source": [
    "import pandas as pd\n",
    "import numpy as np\n",
    "\n",
    "results_fixed_pitch = pd.read_csv(\"data/doe_fixed_pitch.csv\")\n",
    "results_ICE = pd.read_csv(\"data/doe_ICE.csv\")\n",
    "results_TP = pd.read_csv(\"data/doe_TP.csv\")\n",
    "\n",
    "results = pd.concat([results_fixed_pitch, results_ICE, results_TP])\n",
    "\n",
    "number_of_element = len(results[\"Thrust\"].to_numpy())\n",
    "\n",
    "print(\"Number of element pre screening: \", number_of_element)\n",
    "\n",
    "sampling = 1\n",
    "\n",
    "thrust_array = results[\"Thrust\"].to_numpy()[0::sampling]\n",
    "power_array = results[\"Power\"].to_numpy()[0::sampling]\n",
    "eta_array = results[\"Efficiency\"].to_numpy()[0::sampling]\n",
    "sigma_array = results[\"Solidity\"].to_numpy()[0::sampling]\n",
    "AF_array = results[\"Activity Factor\"].to_numpy()[0::sampling]\n",
    "lambda_array = results[\"Aspect ratio\"].to_numpy()[0::sampling]\n",
    "n_rot_val = results[\"Rotational speed\"].to_numpy()[0::sampling]\n",
    "D_val = results[\"Diameter\"].to_numpy()[0::sampling]\n",
    "n_blade_val = results[\"Number of blades\"].to_numpy()[0::sampling]\n",
    "RHO_val = results[\"Density\"].to_numpy()[0::sampling]\n",
    "pitch_val = results[\"Pitch at 0.75R\"].to_numpy()[0::sampling]\n",
    "PITCH_REF_val = results[\"Ref Pitch at 0.75R\"].to_numpy()[0::sampling]\n",
    "v_val = results[\"Flight speed\"].to_numpy()[0::sampling]\n",
    "altitude = results[\"Altitude\"].to_numpy()[0::sampling]\n",
    "twist_blade = results[\"Blade twist between root and tip\"].to_numpy()[0::sampling]\n",
    "\n",
    "print(np.min(n_rot_val), np.max(n_rot_val))\n",
    "print(np.min(D_val), np.max(D_val))\n",
    "print(np.min(RHO_val), np.max(RHO_val))\n",
    "print(np.min(v_val), np.max(v_val))\n",
    "print(np.min(n_blade_val), np.max(n_blade_val))\n",
    "\n",
    "print(\"Number of element post screening: \", len(n_rot_val))\n",
    "\n",
    "ct_array = thrust_array / (RHO_val * n_rot_val**2 * D_val**4)\n",
    "cp_array = power_array / (RHO_val * n_rot_val**3 * D_val**5)"
   ]
  },
  {
   "cell_type": "code",
   "execution_count": null,
   "id": "59557004",
   "metadata": {},
   "outputs": [],
   "source": [
    "from stdatm import Atmosphere\n",
    "\n",
    "atm = Atmosphere(altitude, altitude_in_feet=False)\n",
    "\n",
    "pi1 = ct_array\n",
    "pi2 = v_val / (n_rot_val * D_val)\n",
    "pi3 = (\n",
    "    v_val**2.0 + (n_rot_val * 2.0 * np.pi) ** 2.0 * (D_val / 2.0) ** 2.0\n",
    ") / atm.speed_of_sound**2.0\n",
    "pi4 = v_val * D_val / atm.kinematic_viscosity\n",
    "pi5 = sigma_array\n",
    "pi6 = cp_array\n",
    "pi7 = AF_array\n",
    "pi8 = lambda_array\n",
    "pi9 = twist_blade\n",
    "doe_ct = np.c_[pi1, pi2, pi3, pi4, pi5, pi6, pi7, pi8, pi9]\n",
    "doe_ct = pd.DataFrame(\n",
    "    doe_ct, columns=[\"Ct\", \"J\", \"M_tip\", \"Re_D\", \"sigma\", \"Cp\", \"AF\", \"lambda\", \"Theta_b\"]\n",
    ")"
   ]
  },
  {
   "cell_type": "code",
   "execution_count": null,
   "id": "60b14f39-3f6d-4672-9901-4ad736596214",
   "metadata": {},
   "outputs": [],
   "source": [
    "import plotly.express as px\n",
    "\n",
    "df = px.data.iris()\n",
    "fig = px.scatter_matrix(doe_ct, width=1200, height=800)\n",
    "fig.show()"
   ]
  },
  {
   "cell_type": "code",
   "execution_count": null,
   "id": "807672eb-a4d4-493f-8c1a-74dbf6c31a98",
   "metadata": {},
   "outputs": [],
   "source": [
    "import plotly.graph_objects as go\n",
    "\n",
    "fig = go.Figure()\n",
    "scatter = go.Scatter(x=AF_array, y=lambda_array, mode=\"markers\", name=\"AF as a function of lamda\")\n",
    "# fig.add_trace(scatter)\n",
    "# scatter = go.Scatter(\n",
    "#         x=lambda_array, y=10000*3/39/lambda_array, mode=\"markers\", name=\"AF as a function of lamda\"\n",
    "# )\n",
    "fig.add_trace(scatter)\n",
    "fig.update_layout(width=1200, height=800)\n",
    "fig.show()"
   ]
  },
  {
   "cell_type": "markdown",
   "id": "7a6cf079-97e9-4601-8edc-5ef6389f6914",
   "metadata": {},
   "source": [
    "# Cruise conditions ($\\eta$ from 0.75 to 0.95 and J > 1.0)"
   ]
  },
  {
   "cell_type": "code",
   "execution_count": null,
   "id": "5c62cf98-9259-4e6e-96a2-5fd4b513ed76",
   "metadata": {},
   "outputs": [],
   "source": [
    "import plotly.express as px\n",
    "from functools import reduce\n",
    "\n",
    "cruise_idx_1 = np.where(eta_array >= 0.75)\n",
    "cruise_idx_2 = np.where(pi2 > 1.0)\n",
    "\n",
    "cruise_idx = reduce(\n",
    "    np.intersect1d,\n",
    "    (\n",
    "        cruise_idx_1,\n",
    "        cruise_idx_2,\n",
    "    ),\n",
    ")\n",
    "\n",
    "print(len(cruise_idx_1[0]))\n",
    "print(len(cruise_idx))\n",
    "\n",
    "pi1_cruise = pi1[cruise_idx]\n",
    "pi2_cruise = pi2[cruise_idx]\n",
    "pi3_cruise = pi3[cruise_idx]\n",
    "pi4_cruise = pi4[cruise_idx]\n",
    "pi5_cruise = pi5[cruise_idx]\n",
    "pi6_cruise = pi6[cruise_idx]\n",
    "pi7_cruise = pi7[cruise_idx]\n",
    "pi8_cruise = pi8[cruise_idx]\n",
    "pi9_cruise = pi9[cruise_idx]\n",
    "doe_ct_cruise = np.c_[\n",
    "    pi1_cruise,\n",
    "    pi2_cruise,\n",
    "    pi3_cruise,\n",
    "    pi4_cruise,\n",
    "    pi5_cruise,\n",
    "    pi6_cruise,\n",
    "    pi7_cruise,\n",
    "    pi8_cruise,\n",
    "    pi9_cruise,\n",
    "]\n",
    "doe_ct_cruise = pd.DataFrame(\n",
    "    doe_ct_cruise, columns=[\"Ct\", \"J\", \"M_tip\", \"Re_D\", \"sigma\", \"Cp\", \"AF\", \"lambda\", \"Theta_b\"]\n",
    ")\n",
    "\n",
    "df = px.data.iris()\n",
    "fig = px.scatter_matrix(doe_ct_cruise, width=1200, height=800)\n",
    "fig.show()"
   ]
  },
  {
   "cell_type": "markdown",
   "id": "89288d2f-3c5f-488a-b98d-2480c3d10e71",
   "metadata": {},
   "source": [
    "# Low speed conditions ($\\eta$ from 0.5 to 0.7 and J < 1.0)"
   ]
  },
  {
   "cell_type": "code",
   "execution_count": null,
   "id": "f21d3d37-adb6-4334-8a45-addea2826e8f",
   "metadata": {},
   "outputs": [],
   "source": [
    "import plotly.express as px\n",
    "from functools import reduce\n",
    "\n",
    "ls_idx_1 = np.where(eta_array >= 0.5)\n",
    "ls_idx_2 = np.where(eta_array < 0.75)\n",
    "ls_idx_3 = np.where(pi2 < 1.0)\n",
    "\n",
    "ls_idx = reduce(\n",
    "    np.intersect1d,\n",
    "    (\n",
    "        ls_idx_1,\n",
    "        ls_idx_2,\n",
    "        ls_idx_3,\n",
    "    ),\n",
    ")\n",
    "\n",
    "pi1_ls = pi1[ls_idx]\n",
    "pi2_ls = pi2[ls_idx]\n",
    "pi3_ls = pi3[ls_idx]\n",
    "pi4_ls = pi4[ls_idx]\n",
    "pi5_ls = pi5[ls_idx]\n",
    "pi6_ls = pi6[ls_idx]\n",
    "pi7_ls = pi7[ls_idx]\n",
    "pi8_ls = pi8[ls_idx]\n",
    "pi9_ls = pi9[ls_idx]\n",
    "doe_ct_ls = np.c_[pi1_ls, pi2_ls, pi3_ls, pi4_ls, pi5_ls, pi6_ls, pi7_ls, pi8_ls, pi9_ls]\n",
    "doe_ct_ls = pd.DataFrame(\n",
    "    doe_ct_ls, columns=[\"Ct\", \"J\", \"M_tip\", \"Re_D\", \"sigma\", \"Cp\", \"AF\", \"lambda\", \"Theta_b\"]\n",
    ")\n",
    "\n",
    "df = px.data.iris()\n",
    "fig = px.scatter_matrix(doe_ct_ls, width=1200, height=800)\n",
    "fig.show()"
   ]
  },
  {
   "cell_type": "markdown",
   "id": "80b9301d-9465-4919-8532-63fde7d7396a",
   "metadata": {},
   "source": [
    "# Low efficiency conditions ($\\eta$ less than 0.5)"
   ]
  },
  {
   "cell_type": "code",
   "execution_count": null,
   "id": "0e8c995f-35a8-4572-9c81-f28e8731dcf7",
   "metadata": {},
   "outputs": [],
   "source": [
    "import plotly.express as px\n",
    "from functools import reduce\n",
    "\n",
    "le_idx = np.where(eta_array < 0.5)\n",
    "\n",
    "pi1_le = pi1[le_idx]\n",
    "pi2_le = pi2[le_idx]\n",
    "pi3_le = pi3[le_idx]\n",
    "pi4_le = pi4[le_idx]\n",
    "pi5_le = pi5[le_idx]\n",
    "pi6_le = pi6[le_idx]\n",
    "pi7_le = pi7[le_idx]\n",
    "pi8_le = pi8[le_idx]\n",
    "pi9_le = pi9[le_idx]\n",
    "doe_ct_le = np.c_[pi1_le, pi2_le, pi3_le, pi4_le, pi5_le, pi6_le, pi7_le, pi8_le, pi9_le]\n",
    "doe_ct_le = pd.DataFrame(\n",
    "    doe_ct_le, columns=[\"Ct\", \"J\", \"M_tip\", \"Re_D\", \"sigma\", \"Cp\", \"AF\", \"lambda\", \"Theta_b\"]\n",
    ")\n",
    "\n",
    "df = px.data.iris()\n",
    "fig = px.scatter_matrix(doe_ct_le, width=1200, height=800)\n",
    "fig.show()"
   ]
  },
  {
   "cell_type": "markdown",
   "id": "09faa09a-0e27-4457-8ef5-a2bffebe1f93",
   "metadata": {},
   "source": [
    "# Including the efficiency"
   ]
  },
  {
   "cell_type": "code",
   "execution_count": null,
   "id": "f7c98d52-1185-453c-b547-70107001ec93",
   "metadata": {},
   "outputs": [],
   "source": [
    "from stdatm import Atmosphere\n",
    "import plotly.express as px\n",
    "\n",
    "atm = Atmosphere(altitude, altitude_in_feet=False)\n",
    "\n",
    "pi0 = eta_array\n",
    "pi1 = ct_array\n",
    "pi2 = v_val / (n_rot_val * D_val)\n",
    "pi3 = (\n",
    "    v_val**2.0 + (n_rot_val * 2.0 * np.pi) ** 2.0 * (D_val / 2.0) ** 2.0\n",
    ") / atm.speed_of_sound**2.0\n",
    "pi4 = v_val * D_val / atm.kinematic_viscosity\n",
    "pi5 = sigma_array\n",
    "pi6 = cp_array\n",
    "pi7 = AF_array\n",
    "pi8 = lambda_array\n",
    "pi9 = twist_blade\n",
    "doe_ct = np.c_[pi0, pi1, pi2, pi3, pi4, pi5, pi6, pi7, pi8, pi9]\n",
    "doe_ct = pd.DataFrame(\n",
    "    doe_ct, columns=[\"eta\", \"Ct\", \"J\", \"M_tip\", \"Re_D\", \"sigma\", \"Cp\", \"AF\", \"lambda\", \"Theta_b\"]\n",
    ")\n",
    "\n",
    "df = px.data.iris()\n",
    "fig = px.scatter_matrix(doe_ct, width=1200, height=800)\n",
    "fig.show()"
   ]
  },
  {
   "cell_type": "markdown",
   "id": "4aab97f5-2cec-49a3-b5ce-fa7ade120d1f",
   "metadata": {},
   "source": [
    "# New DOE"
   ]
  },
  {
   "cell_type": "code",
   "execution_count": null,
   "id": "4dfbda2f-e69e-4543-a988-ef19971d3774",
   "metadata": {},
   "outputs": [],
   "source": [
    "from stdatm import Atmosphere\n",
    "import plotly.express as px\n",
    "\n",
    "atm = Atmosphere(altitude, altitude_in_feet=False)\n",
    "\n",
    "pi1 = ct_array\n",
    "pi2 = v_val / (n_rot_val * D_val)\n",
    "pi3 = (\n",
    "    v_val**2.0 + (n_rot_val * 2.0 * np.pi) ** 2.0 * (D_val / 2.0) ** 2.0\n",
    ") / atm.speed_of_sound**2.0\n",
    "pi4 = (\n",
    "    np.sqrt(v_val**2.0 + (n_rot_val * 2.0 * np.pi) ** 2.0 * (D_val / 2.0) ** 2.0)\n",
    "    * D_val\n",
    "    / atm.kinematic_viscosity\n",
    ")\n",
    "pi5 = sigma_array\n",
    "pi6 = cp_array\n",
    "pi7 = AF_array\n",
    "pi8 = lambda_array\n",
    "pi9 = twist_blade\n",
    "doe_ct = np.c_[pi1, pi2, pi3, pi4, pi5, pi6, pi7, pi8, pi9]\n",
    "doe_ct = pd.DataFrame(\n",
    "    doe_ct, columns=[\"Ct\", \"J\", \"M_tip\", \"Re_D\", \"sigma\", \"Cp\", \"AF\", \"lambda\", \"Theta_b\"]\n",
    ")\n",
    "\n",
    "df = px.data.iris()\n",
    "fig = px.scatter_matrix(doe_ct, width=1200, height=800)\n",
    "fig.show()"
   ]
  }
 ],
 "metadata": {
  "kernelspec": {
   "display_name": "Python 3 (ipykernel)",
   "language": "python",
   "name": "python3"
  },
  "language_info": {
   "codemirror_mode": {
    "name": "ipython",
    "version": 3
   },
   "file_extension": ".py",
   "mimetype": "text/x-python",
   "name": "python",
   "nbconvert_exporter": "python",
   "pygments_lexer": "ipython3",
   "version": "3.8.16"
  }
 },
 "nbformat": 4,
 "nbformat_minor": 5
}
