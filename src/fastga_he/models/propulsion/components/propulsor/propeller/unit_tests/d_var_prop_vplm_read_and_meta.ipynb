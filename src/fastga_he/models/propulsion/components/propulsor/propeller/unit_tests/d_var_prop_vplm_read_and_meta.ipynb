{
 "cells": [
  {
   "cell_type": "markdown",
   "id": "bfd201b1",
   "metadata": {},
   "source": [
    "# Varying diameter\n",
    "\n",
    "In this notebook we will try to create a scaling law to account for a varying propeller diameter as well as a varying number of blade and a varying altitude. Twist law should also vary but for now it will be left as is."
   ]
  },
  {
   "cell_type": "code",
   "execution_count": 1,
   "id": "f8cc053c",
   "metadata": {},
   "outputs": [],
   "source": [
    "import warnings\n",
    "\n",
    "warnings.filterwarnings(action=\"ignore\")"
   ]
  },
  {
   "cell_type": "markdown",
   "id": "ccdd34f1",
   "metadata": {},
   "source": [
    "We'll adjust slightly the defined set here to take something similar to the previous notebook, that is $\\pi_2 = \\frac{picth}{PITCH_{REF}}$ and $\\pi_3 = n_{blade}$"
   ]
  },
  {
   "cell_type": "code",
   "execution_count": 2,
   "id": "b3a07cf2",
   "metadata": {},
   "outputs": [
    {
     "name": "stdout",
     "output_type": "stream",
     "text": [
      "Number of element pre screening:  7964\n",
      "10.477966873996948 103.85402645656714\n",
      "0.4801683148599402 3.253347260308085\n",
      "0.4413260041804466 1.286044732406289\n",
      "4.865980691188072 186.39649616681643\n",
      "2.0 6.0\n",
      "Number of element post screening:  797\n"
     ]
    }
   ],
   "source": [
    "import pandas as pd\n",
    "import numpy as np\n",
    "\n",
    "results_fixed_pitch = pd.read_csv('data/doe_fixed_pitch.csv')\n",
    "results_ICE = pd.read_csv('data/doe_ICE.csv')\n",
    "results_TP = pd.read_csv('data/doe_TP.csv') \n",
    "\n",
    "results = pd.concat([results_fixed_pitch, results_ICE, results_TP])\n",
    "\n",
    "number_of_element = len(results['Thrust'].to_numpy())\n",
    "\n",
    "print(\"Number of element pre screening: \", number_of_element)\n",
    "\n",
    "thrust_array = results['Thrust'].to_numpy()[0::10]\n",
    "power_array = results['Power'].to_numpy()[0::10] \n",
    "eta_array = results['Efficiency'].to_numpy()[0::10]\n",
    "sigma_array = results['Solidity'].to_numpy()[0::10]\n",
    "AF_array = results['Activity Factor'].to_numpy()[0::10] \n",
    "lambda_array = results['Aspect ratio'].to_numpy()[0::10]\n",
    "n_rot_val = results['Rotational speed'].to_numpy()[0::10]\n",
    "D_val  = results['Diameter'].to_numpy()[0::10]\n",
    "n_blade_val = results['Number of blades'].to_numpy()[0::10]\n",
    "RHO_val = results['Density'].to_numpy()[0::10]\n",
    "pitch_val = results[ 'Pitch at 0.75R'].to_numpy()[0::10]\n",
    "PITCH_REF_val = results['Ref Pitch at 0.75R'].to_numpy()[0::10]\n",
    "v_val = results['Flight speed'].to_numpy()[0::10]\n",
    "altitude = results['Altitude'].to_numpy()[0::10]\n",
    "\n",
    "print(np.min(n_rot_val), np.max(n_rot_val))\n",
    "print(np.min(D_val), np.max(D_val))\n",
    "print(np.min(RHO_val), np.max(RHO_val))\n",
    "print(np.min(v_val), np.max(v_val))\n",
    "print(np.min(n_blade_val), np.max(n_blade_val))\n",
    "\n",
    "print(\"Number of element post screening: \", len(n_rot_val))\n",
    "\n",
    "ct_array = thrust_array / (RHO_val * n_rot_val ** 2 * D_val ** 4)\n",
    "cp_array = power_array / (RHO_val * n_rot_val ** 3 * D_val ** 5)"
   ]
  },
  {
   "cell_type": "markdown",
   "id": "cb1c102a",
   "metadata": {},
   "source": [
    "# Trying $\\eta$ as a function of Ct and J"
   ]
  },
  {
   "cell_type": "code",
   "execution_count": 3,
   "id": "b8082198",
   "metadata": {},
   "outputs": [
    {
     "name": "stdout",
     "output_type": "stream",
     "text": [
      "\n",
      "Elected model for regression is n°20:\n"
     ]
    },
    {
     "data": {
      "text/latex": [
       "$\\pi_{1}=10^{-2.89486} \\cdot \\pi_{2}^{-0.20395 \\cdot log(\\pi_{2})+0.01671 \\cdot log(\\pi_{5})+0.34050 \\cdot log(\\pi_{3})+0.32718 \\cdot log(\\pi_{6})+0.12726 \\cdot log(\\pi_{4})-1.60450+0.58685 \\cdot log(\\pi_{8})+0.41786 \\cdot log(\\pi_{7})} \\cdot \\pi_{3}^{+0.05026 \\cdot log(\\pi_{7})-0.28506 \\cdot log(\\pi_{3})+0.32814-0.07433 \\cdot log(\\pi_{6})} \\cdot \\pi_{4}^{-0.16305 \\cdot log(\\pi_{6})-0.08632 \\cdot log(\\pi_{8})} \\cdot \\pi_{5}^{+0.64604-0.04088 \\cdot log(\\pi_{5})} \\cdot \\pi_{6}^{-0.16368 \\cdot log(\\pi_{6})-0.08660 \\cdot log(\\pi_{8})} \\cdot \\pi_{7}^{+0.06365 \\cdot log(\\pi_{8})}$"
      ],
      "text/plain": [
       "<IPython.core.display.Latex object>"
      ]
     },
     "metadata": {},
     "output_type": "display_data"
    },
    {
     "data": {
      "text/plain": [
       "<Figure size 432x288 with 0 Axes>"
      ]
     },
     "metadata": {},
     "output_type": "display_data"
    },
    {
     "data": {
      "image/png": "[encoded data removed]",
      "text/plain": [
       "<Figure size 432x288 with 2 Axes>"
      ]
     },
     "metadata": {
      "needs_background": "light"
     },
     "output_type": "display_data"
    }
   ],
   "source": [
    "# Import pyVPLM modules/functions\n",
    "from pyvplm.addon.variablepowerlaw import regression_models, perform_regression\n",
    "\n",
    "import pandas as pd\n",
    "\n",
    "from stdatm import Atmosphere\n",
    "\n",
    "atm = Atmosphere(altitude, altitude_in_feet=False)\n",
    "\n",
    "pi1 = eta_array\n",
    "pi2 = ct_array\n",
    "pi3 = v_val / (n_rot_val * D_val)\n",
    "pi4 = (v_val ** 2.0 + (n_rot_val * 2.0 * np.pi) ** 2.0 * (D_val / 2.0) ** 2.0) / atm.speed_of_sound ** 2.0\n",
    "pi5 = v_val * D_val / atm.kinematic_viscosity\n",
    "pi6 = sigma_array\n",
    "pi7 = AF_array\n",
    "pi8 = lambda_array\n",
    "doe_eta = np.c_[pi1, pi2, pi3, pi4, pi5, pi6, pi7, pi8]\n",
    "doe_eta = pd.DataFrame(doe_eta, columns=[\"pi1\", \"pi2\", \"pi3\", \"pi4\", \"pi5\", \"pi6\", \"pi7\", \"pi8\"])\n",
    "\n",
    "# Fit with 3rd order power-law model the obtained Pi DOE\n",
    "model = regression_models(\n",
    "    doe_eta.values, elected_pi0=\"pi1\", order=2, log_space=True, ymax_axis=10, test_mode=True\n",
    ")\n",
    "perform_regression(doe_eta.values, model, choosen_model=20)"
   ]
  },
  {
   "cell_type": "markdown",
   "id": "9b788acc",
   "metadata": {},
   "source": [
    "# Trying Ct as a function of J, twist and other parameters"
   ]
  },
  {
   "cell_type": "code",
   "execution_count": null,
   "id": "a0e942a4",
   "metadata": {},
   "outputs": [],
   "source": [
    "atm = Atmosphere(altitude, altitude_in_feet=False)\n",
    "\n",
    "pi1 = ct_array\n",
    "pi2 = v_val / (n_rot_val * D_val)\n",
    "pi3 = (\n",
    "    v_val ** 2.0 + (n_rot_val * 2.0 * np.pi) ** 2.0 * (D_val / 2.0) ** 2.0\n",
    ") / atm.speed_of_sound ** 2.0\n",
    "pi4 = v_val * D_val / atm.kinematic_viscosity\n",
    "pi5 = sigma_array\n",
    "pi6 = pitch_val / PITCH_REF_val\n",
    "pi7 = AF_array\n",
    "pi8 = lambda_array\n",
    "doe_ct = np.c_[pi1, pi2, pi3, pi4, pi5, pi6, pi7, pi8]\n",
    "doe_ct = pd.DataFrame(doe_ct, columns=[\"pi1\", \"pi2\", \"pi3\", \"pi4\", \"pi5\", \"pi6\", \"pi7\", \"pi8\"])\n",
    "\n",
    "# Fit with 3rd order power-law model the obtained Pi DOE\n",
    "model = regression_models(\n",
    "    doe_ct.values, elected_pi0=\"pi1\", order=3, log_space=True, ymax_axis=10, test_mode=True\n",
    ")\n",
    "perform_regression(doe_ct.values, model, choosen_model=40)"
   ]
  },
  {
   "cell_type": "code",
   "execution_count": null,
   "id": "e56a0867",
   "metadata": {},
   "outputs": [],
   "source": [
    "print(np.round(ct_array[:5],3))"
   ]
  },
  {
   "cell_type": "code",
   "execution_count": null,
   "id": "ac13cd8c",
   "metadata": {},
   "outputs": [],
   "source": [
    "print(np.min(pi2), np.max(pi2))\n",
    "print(np.min(pi3), np.max(pi3))\n",
    "print(np.min(pi4/1e6), np.max(pi4/1e6))\n",
    "print(np.min(pi5), np.max(pi5))\n",
    "print(np.min(pitch_val / PITCH_REF_val), np.max(pitch_val / PITCH_REF_val))\n",
    "print(np.min(pi7), np.max(pi7))\n",
    "print(np.min(pi8), np.max(pi8))"
   ]
  },
  {
   "cell_type": "markdown",
   "id": "3ed32826",
   "metadata": {},
   "source": [
    "# Trying Ct as a function of J, Cp and other parameters"
   ]
  },
  {
   "cell_type": "code",
   "execution_count": 7,
   "id": "59557004",
   "metadata": {},
   "outputs": [
    {
     "ename": "KeyboardInterrupt",
     "evalue": "",
     "output_type": "error",
     "traceback": [
      "\u001b[1;31m---------------------------------------------------------------------------\u001b[0m",
      "\u001b[1;31mKeyboardInterrupt\u001b[0m                         Traceback (most recent call last)",
      "Input \u001b[1;32mIn [7]\u001b[0m, in \u001b[0;36m<cell line: 15>\u001b[1;34m()\u001b[0m\n\u001b[0;32m     12\u001b[0m doe_ct \u001b[38;5;241m=\u001b[39m pd\u001b[38;5;241m.\u001b[39mDataFrame(doe_ct, columns\u001b[38;5;241m=\u001b[39m[\u001b[38;5;124m\"\u001b[39m\u001b[38;5;124mpi1\u001b[39m\u001b[38;5;124m\"\u001b[39m, \u001b[38;5;124m\"\u001b[39m\u001b[38;5;124mpi2\u001b[39m\u001b[38;5;124m\"\u001b[39m, \u001b[38;5;124m\"\u001b[39m\u001b[38;5;124mpi3\u001b[39m\u001b[38;5;124m\"\u001b[39m, \u001b[38;5;124m\"\u001b[39m\u001b[38;5;124mpi4\u001b[39m\u001b[38;5;124m\"\u001b[39m, \u001b[38;5;124m\"\u001b[39m\u001b[38;5;124mpi5\u001b[39m\u001b[38;5;124m\"\u001b[39m, \u001b[38;5;124m\"\u001b[39m\u001b[38;5;124mpi6\u001b[39m\u001b[38;5;124m\"\u001b[39m, \u001b[38;5;124m\"\u001b[39m\u001b[38;5;124mpi7\u001b[39m\u001b[38;5;124m\"\u001b[39m, \u001b[38;5;124m\"\u001b[39m\u001b[38;5;124mpi8\u001b[39m\u001b[38;5;124m\"\u001b[39m])\n\u001b[0;32m     14\u001b[0m \u001b[38;5;66;03m# Fit with 3rd order power-law model the obtained Pi DOE\u001b[39;00m\n\u001b[1;32m---> 15\u001b[0m model \u001b[38;5;241m=\u001b[39m \u001b[43mregression_models\u001b[49m\u001b[43m(\u001b[49m\n\u001b[0;32m     16\u001b[0m \u001b[43m    \u001b[49m\u001b[43mdoe_ct\u001b[49m\u001b[38;5;241;43m.\u001b[39;49m\u001b[43mvalues\u001b[49m\u001b[43m,\u001b[49m\u001b[43m \u001b[49m\u001b[43melected_pi0\u001b[49m\u001b[38;5;241;43m=\u001b[39;49m\u001b[38;5;124;43m\"\u001b[39;49m\u001b[38;5;124;43mpi1\u001b[39;49m\u001b[38;5;124;43m\"\u001b[39;49m\u001b[43m,\u001b[49m\u001b[43m \u001b[49m\u001b[43morder\u001b[49m\u001b[38;5;241;43m=\u001b[39;49m\u001b[38;5;241;43m4\u001b[39;49m\u001b[43m,\u001b[49m\u001b[43m \u001b[49m\u001b[43mlog_space\u001b[49m\u001b[38;5;241;43m=\u001b[39;49m\u001b[38;5;28;43;01mTrue\u001b[39;49;00m\u001b[43m,\u001b[49m\u001b[43m \u001b[49m\u001b[43mymax_axis\u001b[49m\u001b[38;5;241;43m=\u001b[39;49m\u001b[38;5;241;43m10\u001b[39;49m\u001b[43m,\u001b[49m\u001b[43m \u001b[49m\u001b[43mtest_mode\u001b[49m\u001b[38;5;241;43m=\u001b[39;49m\u001b[38;5;28;43;01mTrue\u001b[39;49;00m\n\u001b[0;32m     17\u001b[0m \u001b[43m)\u001b[49m\n\u001b[0;32m     18\u001b[0m perform_regression(doe_ct\u001b[38;5;241m.\u001b[39mvalues, model, choosen_model\u001b[38;5;241m=\u001b[39m\u001b[38;5;241m50\u001b[39m)\n",
      "File \u001b[1;32m~\\Anaconda3\\envs\\FAST-OAD-CS23-HE-v2\\lib\\site-packages\\pyvplm\\addon\\variablepowerlaw.py:1219\u001b[0m, in \u001b[0;36mregression_models\u001b[1;34m(doe, elected_pi0, order, **kwargs)\u001b[0m\n\u001b[0;32m   1217\u001b[0m values \u001b[38;5;241m=\u001b[39m X\u001b[38;5;241m.\u001b[39mvalues[:, \u001b[38;5;241m0\u001b[39m : idx \u001b[38;5;241m+\u001b[39m \u001b[38;5;241m1\u001b[39m]\n\u001b[0;32m   1218\u001b[0m \u001b[38;5;28;01mfor\u001b[39;00m test_idx \u001b[38;5;129;01min\u001b[39;00m \u001b[38;5;28mrange\u001b[39m(numpy\u001b[38;5;241m.\u001b[39mshape(values)[\u001b[38;5;241m0\u001b[39m]):\n\u001b[1;32m-> 1219\u001b[0m     coeff, _, _, _ \u001b[38;5;241m=\u001b[39m \u001b[43mscipy\u001b[49m\u001b[38;5;241;43m.\u001b[39;49m\u001b[43mlinalg\u001b[49m\u001b[38;5;241;43m.\u001b[39;49m\u001b[43mlstsq\u001b[49m\u001b[43m(\u001b[49m\n\u001b[0;32m   1220\u001b[0m \u001b[43m        \u001b[49m\u001b[43mnumpy\u001b[49m\u001b[38;5;241;43m.\u001b[39;49m\u001b[43mdelete\u001b[49m\u001b[43m(\u001b[49m\u001b[43mvalues\u001b[49m\u001b[43m,\u001b[49m\u001b[43m \u001b[49m\u001b[43mtest_idx\u001b[49m\u001b[43m,\u001b[49m\u001b[43m \u001b[49m\u001b[38;5;241;43m0\u001b[39;49m\u001b[43m)\u001b[49m\u001b[43m,\u001b[49m\u001b[43m \u001b[49m\u001b[43mnumpy\u001b[49m\u001b[38;5;241;43m.\u001b[39;49m\u001b[43mdelete\u001b[49m\u001b[43m(\u001b[49m\u001b[43mY\u001b[49m\u001b[43m,\u001b[49m\u001b[43m \u001b[49m\u001b[43mtest_idx\u001b[49m\u001b[43m,\u001b[49m\u001b[43m \u001b[49m\u001b[38;5;241;43m0\u001b[39;49m\u001b[43m)\u001b[49m\n\u001b[0;32m   1221\u001b[0m \u001b[43m    \u001b[49m\u001b[43m)\u001b[49m\n\u001b[0;32m   1222\u001b[0m     \u001b[38;5;66;03m# Calculate error on trained set when selecting last point for cross validation (saved model expression)\u001b[39;00m\n\u001b[0;32m   1223\u001b[0m     \u001b[38;5;28;01mif\u001b[39;00m test_idx \u001b[38;5;241m==\u001b[39m (numpy\u001b[38;5;241m.\u001b[39mshape(values)[\u001b[38;5;241m0\u001b[39m] \u001b[38;5;241m-\u001b[39m \u001b[38;5;241m1\u001b[39m):\n",
      "File \u001b[1;32m~\\Anaconda3\\envs\\FAST-OAD-CS23-HE-v2\\lib\\site-packages\\scipy\\linalg\\_basic.py:1192\u001b[0m, in \u001b[0;36mlstsq\u001b[1;34m(a, b, cond, overwrite_a, overwrite_b, check_finite, lapack_driver)\u001b[0m\n\u001b[0;32m   1190\u001b[0m \u001b[38;5;28;01mif\u001b[39;00m real_data:\n\u001b[0;32m   1191\u001b[0m     lwork, iwork \u001b[38;5;241m=\u001b[39m _compute_lwork(lapack_lwork, m, n, nrhs, cond)\n\u001b[1;32m-> 1192\u001b[0m     x, s, rank, info \u001b[38;5;241m=\u001b[39m lapack_func(a1, b1, lwork,\n\u001b[0;32m   1193\u001b[0m                                    iwork, cond, \u001b[38;5;28;01mFalse\u001b[39;00m, \u001b[38;5;28;01mFalse\u001b[39;00m)\n\u001b[0;32m   1194\u001b[0m \u001b[38;5;28;01melse\u001b[39;00m:  \u001b[38;5;66;03m# complex data\u001b[39;00m\n\u001b[0;32m   1195\u001b[0m     lwork, rwork, iwork \u001b[38;5;241m=\u001b[39m _compute_lwork(lapack_lwork, m, n,\n\u001b[0;32m   1196\u001b[0m                                          nrhs, cond)\n",
      "\u001b[1;31mKeyboardInterrupt\u001b[0m: "
     ]
    }
   ],
   "source": [
    "atm = Atmosphere(altitude, altitude_in_feet=False)\n",
    "\n",
    "pi1 = ct_array\n",
    "pi2 = v_val / (n_rot_val * D_val)\n",
    "pi3 = (v_val ** 2.0 + (n_rot_val * 2.0 * np.pi) ** 2.0 * (D_val / 2.0) ** 2.0) / atm.speed_of_sound ** 2.0\n",
    "pi4 = v_val * D_val / atm.kinematic_viscosity\n",
    "pi5 = sigma_array\n",
    "pi6 = cp_array\n",
    "pi7 = AF_array\n",
    "pi8 = lambda_array\n",
    "doe_ct = np.c_[pi1, pi2, pi3, pi4, pi5, pi6, pi7, pi8]\n",
    "doe_ct = pd.DataFrame(doe_ct, columns=[\"pi1\", \"pi2\", \"pi3\", \"pi4\", \"pi5\", \"pi6\", \"pi7\", \"pi8\"])\n",
    "\n",
    "# Fit with 3rd order power-law model the obtained Pi DOE\n",
    "model = regression_models(\n",
    "    doe_ct.values, elected_pi0=\"pi1\", order=4, log_space=True, ymax_axis=10, test_mode=True\n",
    ")\n",
    "perform_regression(doe_ct.values, model, choosen_model=50)"
   ]
  },
  {
   "cell_type": "code",
   "execution_count": null,
   "id": "4a39d0e5",
   "metadata": {},
   "outputs": [],
   "source": [
    "idx = np.where(altitude==0.0)[0]\n",
    "print(np.unique(D_val))"
   ]
  },
  {
   "cell_type": "markdown",
   "id": "f6c1e43a",
   "metadata": {},
   "source": [
    "# Trying Cp as a function of J, Ct and other parameters"
   ]
  },
  {
   "cell_type": "code",
   "execution_count": 4,
   "id": "522ab285",
   "metadata": {},
   "outputs": [
    {
     "name": "stdout",
     "output_type": "stream",
     "text": [
      "\n",
      "Elected model for regression is n°40:\n"
     ]
    },
    {
     "data": {
      "text/latex": [
       "$\\pi_{1}=10^{0.91202} \\cdot \\pi_{2}^{-0.05831 \\cdot log(\\pi_{4}) \\cdot log(\\pi_{6})-0.03839 \\cdot log(\\pi_{4})^2+0.16329 \\cdot log(\\pi_{2})+0.61371 \\cdot log(\\pi_{4})+0.08990 \\cdot log(\\pi_{2}) \\cdot log(\\pi_{3})-0.36310 \\cdot log(\\pi_{5}) \\cdot log(\\pi_{7})-2.64511+0.17732 \\cdot log(\\pi_{4}) \\cdot log(\\pi_{5})-0.48567 \\cdot log(\\pi_{5}) \\cdot log(\\pi_{8})-0.15692 \\cdot log(\\pi_{2}) \\cdot log(\\pi_{5})+0.16157 \\cdot log(\\pi_{6}) \\cdot log(\\pi_{8})+0.03057 \\cdot log(\\pi_{3})^2+0.30703 \\cdot log(\\pi_{7}) \\cdot log(\\pi_{8})+0.08397 \\cdot log(\\pi_{7})^2} \\cdot \\pi_{3}^{+0.13037 \\cdot log(\\pi_{6})^2+0.02184 \\cdot log(\\pi_{7})^2+0.05922 \\cdot log(\\pi_{6}) \\cdot log(\\pi_{7})-0.08255 \\cdot log(\\pi_{5}) \\cdot log(\\pi_{6})+0.01411 \\cdot log(\\pi_{5}) \\cdot log(\\pi_{7})-0.08674 \\cdot log(\\pi_{3}) \\cdot log(\\pi_{6})+0.10718 \\cdot log(\\pi_{3}) \\cdot log(\\pi_{5})} \\cdot \\pi_{4}^{+0.02134 \\cdot log(\\pi_{4})^2-0.08052 \\cdot log(\\pi_{6})^2-0.33138 \\cdot log(\\pi_{4})-0.93130 \\cdot log(\\pi_{6})-0.04308 \\cdot log(\\pi_{5}) \\cdot log(\\pi_{6})+0.04528 \\cdot log(\\pi_{4}) \\cdot log(\\pi_{6})+0.01031 \\cdot log(\\pi_{7})^2-0.08840 \\cdot log(\\pi_{8})^2+0.21141 \\cdot log(\\pi_{8})+1.12924+0.00338 \\cdot log(\\pi_{5})^2} \\cdot \\pi_{5}^{+0.03744 \\cdot log(\\pi_{6})^2+0.06902 \\cdot log(\\pi_{5}) \\cdot log(\\pi_{7})} \\cdot \\pi_{6}^{+5.75508+0.31945 \\cdot log(\\pi_{6}) \\cdot log(\\pi_{7})+0.35294 \\cdot log(\\pi_{6}) \\cdot log(\\pi_{8})+0.01597 \\cdot log(\\pi_{6})^2} \\cdot \\pi_{7}^{-0.19051 \\cdot log(\\pi_{7}) \\cdot log(\\pi_{8})}$"
      ],
      "text/plain": [
       "<IPython.core.display.Latex object>"
      ]
     },
     "metadata": {},
     "output_type": "display_data"
    },
    {
     "data": {
      "text/plain": [
       "<Figure size 432x288 with 0 Axes>"
      ]
     },
     "metadata": {},
     "output_type": "display_data"
    },
    {
     "data": {
      "image/png": "[encoded data removed]",
      "text/plain": [
       "<Figure size 432x288 with 2 Axes>"
      ]
     },
     "metadata": {
      "needs_background": "light"
     },
     "output_type": "display_data"
    }
   ],
   "source": [
    "atm = Atmosphere(altitude, altitude_in_feet=False)\n",
    "\n",
    "pi1 = cp_array\n",
    "pi2 = v_val / (n_rot_val * D_val)\n",
    "pi3 = (v_val ** 2.0 + (n_rot_val * 2.0 * np.pi) ** 2.0 * (D_val / 2.0) ** 2.0) / atm.speed_of_sound ** 2.0\n",
    "pi4 = v_val * D_val / atm.kinematic_viscosity  # Somehow reduced the deviation :O\n",
    "pi5 = sigma_array\n",
    "pi6 = ct_array\n",
    "pi7 = AF_array\n",
    "pi8 = lambda_array\n",
    "doe_cp = np.c_[pi1, pi2, pi3, pi4, pi5, pi6, pi7, pi8]\n",
    "doe_cp = pd.DataFrame(doe_cp, columns=[\"pi1\", \"pi2\", \"pi3\", \"pi4\", \"pi5\", \"pi6\", \"pi7\", \"pi8\"])\n",
    "\n",
    "# Fit with 3rd order power-law model the obtained Pi DOE\n",
    "model = regression_models(\n",
    "    doe_cp.values, elected_pi0=\"pi1\", order=3, log_space=True, ymax_axis=10, test_mode=True\n",
    ")\n",
    "perform_regression(doe_cp.values, model, choosen_model=40)"
   ]
  },
  {
   "cell_type": "code",
   "execution_count": 5,
   "id": "df62cb82",
   "metadata": {},
   "outputs": [
    {
     "name": "stdout",
     "output_type": "stream",
     "text": [
      "0.06633910643287382 3.1657157289617888\n",
      "0.06538711605974705 1.051657788396106\n",
      "0.1778044304346985 33.36174949618214\n",
      "0.0432026164563657 0.4380272848789879\n",
      "1.0780798388902704e-05 0.7548688969935875\n",
      "63.70950554580333 238.67893858162705\n",
      "3.230777219427432 12.122293820449654\n"
     ]
    }
   ],
   "source": [
    "print(np.min(pi2), np.max(pi2))\n",
    "print(np.min(pi3), np.max(pi3))\n",
    "print(np.min(pi4/1e6), np.max(pi4/1e6))\n",
    "print(np.min(pi5), np.max(pi5))\n",
    "print(np.min(pi6), np.max(pi6))\n",
    "print(np.min(pi7), np.max(pi7))\n",
    "print(np.min(pi8), np.max(pi8))"
   ]
  },
  {
   "cell_type": "code",
   "execution_count": null,
   "id": "a6f7f89d",
   "metadata": {},
   "outputs": [],
   "source": []
  }
 ],
 "metadata": {
  "kernelspec": {
   "display_name": "Python 3 (ipykernel)",
   "language": "python",
   "name": "python3"
  },
  "language_info": {
   "codemirror_mode": {
    "name": "ipython",
    "version": 3
   },
   "file_extension": ".py",
   "mimetype": "text/x-python",
   "name": "python",
   "nbconvert_exporter": "python",
   "pygments_lexer": "ipython3",
   "version": "3.8.0"
  }
 },
 "nbformat": 4,
 "nbformat_minor": 5
}
