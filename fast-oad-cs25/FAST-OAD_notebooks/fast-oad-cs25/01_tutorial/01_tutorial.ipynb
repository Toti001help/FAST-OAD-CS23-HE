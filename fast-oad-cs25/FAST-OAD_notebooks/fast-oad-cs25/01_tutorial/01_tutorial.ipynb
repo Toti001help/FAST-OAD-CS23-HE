{
 "cells": [
  {
   "cell_type": "markdown",
   "metadata": {},
   "source": [
    "<div class=\"row\">\n",
    "  <div class=\"column\">\n",
    "    <img src=\"./img/logo-onera.png\" width=\"200\">\n",
    "  </div>\n",
    "  <div class=\"column\">\n",
    "    <img src=\"./img/logo-ISAE_SUPAERO.png\" width=\"200\">\n",
    "  </div>\n",
    "</div>"
   ]
  },
  {
   "cell_type": "markdown",
   "metadata": {},
   "source": [
    "# FAST-OAD Tutorial"
   ]
  },
  {
   "cell_type": "markdown",
   "metadata": {},
   "source": [
    "FAST-OAD is a framework for performing rapid Overall Aircraft Design. The computational core of FAST-OAD is based on the  [OpenMDAO framework](https://openmdao.org/)."
   ]
  },
  {
   "cell_type": "markdown",
   "metadata": {},
   "source": [
    "## 1. Setting up and analyzing the initial problem"
   ]
  },
  {
   "cell_type": "markdown",
   "metadata": {},
   "source": [
    "To organize our work, we propose to use two user folders `data/` and `workdir/`. For instance, in `data/` we store a XML file which describes the [CeRAS reference case](http://ceras.ilr.rwth-aachen.de/trac/wiki/CeRAS/AircraftDesigns/CSR01). In `workdir/`, we store files generated or modified by FAST-OAD."
   ]
  },
  {
   "cell_type": "code",
   "execution_count": 1,
   "metadata": {
    "tags": []
   },
   "outputs": [],
   "source": [
    "import os.path as pth\n",
    "import logging\n",
    "import shutil\n",
    "import fastoad.api as oad\n",
    "\n",
    "\n",
    "DATA_FOLDER_PATH = \"data\"\n",
    "\n",
    "WORK_FOLDER_PATH = \"workdir\"\n",
    "\n",
    "CONFIGURATION_FILE = pth.join(WORK_FOLDER_PATH, \"oad_process.yml\")\n",
    "SOURCE_FILE = pth.join(DATA_FOLDER_PATH, \"CeRAS01_baseline.xml\")\n",
    "\n",
    "# For having log messages on screen\n",
    "logging.basicConfig(level=logging.INFO, format=\"%(levelname)-8s: %(message)s\")"
   ]
  },
  {
   "cell_type": "markdown",
   "metadata": {},
   "source": [
    "After defining a configuration file name, we can ask FAST-OAD to generate a default configuration file based on the default OAD model implemented in the framework:"
   ]
  },
  {
   "cell_type": "code",
   "execution_count": 2,
   "metadata": {
    "tags": []
   },
   "outputs": [
    {
     "name": "stderr",
     "output_type": "stream",
     "text": [
      "INFO    : Loading FAST-OAD plugin bundled\n",
      "INFO    : Loading bundles from fastoad.models\n",
      "INFO    : Installed bundle fastoad.models.performances.mission.segments.registered.start (ID 41 )\n",
      "INFO    : Installed bundle fastoad.models.performances.mission.mission_definition.mission_builder.input_definition (ID 15 )\n",
      "INFO    : Installed bundle fastoad.models.performances.mission.routes (ID 32 )\n",
      "INFO    : Installed bundle fastoad.models.performances.mission.mission_definition.mission_builder.mission_builder (ID 16 )\n",
      "INFO    : Installed bundle fastoad.models.performances.mission.openmdao.mission_run (ID 25 )\n",
      "INFO    : Installed bundle fastoad.models.performances.mission.segments.registered.takeoff.end_of_takeoff (ID 42 )\n",
      "INFO    : Installed bundle fastoad.models.performances.mission.mission_definition.mission_builder.structure_builders (ID 17 )\n",
      "INFO    : Installed bundle fastoad.models.performances.mission.mission_definition.exceptions (ID 13 )\n",
      "INFO    : Installed bundle fastoad.models.performances.mission.openmdao.payload_range (ID 27 )\n",
      "INFO    : Installed bundle fastoad.models.performances.mission.segments.registered.takeoff.rotation (ID 43 )\n",
      "INFO    : Installed bundle fastoad.models.performances.mission.polar_modifier (ID 31 )\n",
      "INFO    : Installed bundle fastoad.models.performances.mission.mission_definition.mission_builder.__init__ (ID 18 )\n",
      "INFO    : Installed bundle fastoad.models.performances.mission.openmdao.mission_wrapper (ID 26 )\n",
      "INFO    : Installed bundle fastoad.models.performances.mission.segments.registered.takeoff.takeoff (ID 44 )\n",
      "INFO    : Installed bundle fastoad.models.performances.mission.openmdao.base (ID 22 )\n",
      "INFO    : Installed bundle fastoad.models.performances.mission.mission_definition.resources.__init__ (ID 19 )\n",
      "INFO    : Installed bundle fastoad.models.performances.mission.segments.registered.takeoff.__init__ (ID 45 )\n",
      "INFO    : Installed bundle fastoad.models.performances.mission.segments.base (ID 33 )\n",
      "INFO    : Installed bundle fastoad.models.performances.mission.mission_definition.schema (ID 20 )\n",
      "INFO    : Installed bundle fastoad.models.performances.mission.segments.registered.transition (ID 47 )\n",
      "INFO    : Installed bundle fastoad.models.performances.mission.segments.registered.altitude_change (ID 35 )\n",
      "INFO    : Installed bundle fastoad.models.performances.mission.mission_definition.mission_builder.constants (ID 14 )\n",
      "INFO    : Installed bundle fastoad.models.performances.mission.segments.registered.taxi (ID 46 )\n",
      "INFO    : Installed bundle fastoad.models.performances.mission.segments.macro_segments (ID 34 )\n",
      "INFO    : Installed bundle fastoad.models.performances.mission.mission_definition.__init__ (ID 21 )\n",
      "INFO    : Installed bundle fastoad.models.performances.mission.mission (ID 12 )\n",
      "INFO    : Installed bundle fastoad.models.performances.mission.segments.registered.__init__ (ID 48 )\n",
      "INFO    : Installed bundle fastoad.models.performances.mission.openmdao.link_mtow (ID 23 )\n",
      "INFO    : Installed bundle fastoad.models.performances.mission.segments.registered.cruise (ID 36 )\n",
      "INFO    : Installed bundle fastoad.models.performances.mission.segments.time_step_base (ID 49 )\n",
      "INFO    : Installed bundle fastoad.models.performances.mission.segments.registered.ground_speed_change (ID 37 )\n",
      "INFO    : Installed bundle fastoad.models.performances.mission.util (ID 51 )\n",
      "INFO    : Installed bundle fastoad.models.performances.mission.segments.registered.mass_input (ID 39 )\n",
      "INFO    : Installed bundle fastoad.models.performances.mission.segments.__init__ (ID 50 )\n",
      "INFO    : Installed bundle fastoad.models.performances.mission.openmdao.resources.__init__ (ID 28 )\n",
      "INFO    : Installed bundle fastoad.models.performances.mission.base (ID 10 )\n",
      "INFO    : Installed bundle fastoad.models.performances.mission.segments.registered.hold (ID 38 )\n",
      "INFO    : Installed bundle fastoad.models.performances.mission.__init__ (ID 52 )\n",
      "INFO    : Installed bundle fastoad.models.performances.mission.segments.registered.speed_change (ID 40 )\n",
      "INFO    : Installed bundle fastoad.models.performances.mission.polar (ID 30 )\n",
      "INFO    : Installed bundle fastoad.models.performances.mission.exceptions (ID 11 )\n",
      "INFO    : Installed bundle fastoad.models.performances.__init__ (ID 53 )\n",
      "INFO    : Installed bundle fastoad.models.performances.mission.openmdao.__init__ (ID 29 )\n",
      "INFO    : Installed bundle fastoad.models.performances.mission.openmdao.mission (ID 24 )\n",
      "INFO    : Installed bundle fastoad.models.__init__ (ID 54 )\n",
      "INFO    : Loaded variable descriptions in fastoad.models\n",
      "INFO    : Loading FAST-OAD plugin cs23\n",
      "INFO    : Loading bundles from fastga.models\n",
      "INFO    : Loaded variable descriptions in fastga.models.aerodynamics\n",
      "INFO    : Loaded variable descriptions in fastga.models.aerodynamics\n",
      "INFO    : Loaded variable descriptions in fastga.models.aerodynamics\n",
      "INFO    : Loaded variable descriptions in fastga.models.aerodynamics\n",
      "INFO    : Loaded variable descriptions in fastga.models.aerodynamics\n",
      "INFO    : Loaded variable descriptions in fastga.models.aerodynamics\n",
      "INFO    : Loaded variable descriptions in fastga.models.geometry\n",
      "INFO    : Loaded variable descriptions in fastga.models.geometry\n",
      "INFO    : Loaded variable descriptions in fastga.models.handling_qualities\n",
      "INFO    : Loaded variable descriptions in fastga.models.handling_qualities\n",
      "INFO    : Loaded variable descriptions in fastga.models.loops\n",
      "INFO    : Loaded variable descriptions in fastga.models.loops\n",
      "INFO    : Loaded variable descriptions in fastga.models.weight.cg\n",
      "INFO    : Loaded variable descriptions in fastga.models.weight.mass_breakdown\n",
      "INFO    : Loaded variable descriptions in fastga.models.weight.mass_breakdown\n",
      "INFO    : Loaded variable descriptions in fastga.models.weight.mass_breakdown\n",
      "INFO    : Loaded variable descriptions in fastga.models.weight.mass_breakdown\n",
      "INFO    : Installed bundle fastga.models.aerodynamics.components.high_lift_aero (ID 104 )\n",
      "INFO    : Installed bundle fastga.models.aerodynamics.components.resources.__init__ (ID 113 )\n",
      "INFO    : Installed bundle fastga.models.geometry.geom_components.wing.components.compute_wing_l1_l4 (ID 199 )\n",
      "INFO    : Installed bundle fastga.models.performances.mission.mission_components.climb (ID 264 )\n",
      "INFO    : Installed bundle fastga.models.weight.cg.cg_components.loadcase (ID 373 )\n",
      "INFO    : Installed bundle fastga.models.aerodynamics.components.hinge_moments_elevator (ID 105 )\n",
      "INFO    : Installed bundle fastga.models.geometry.geom_components.wing.components.compute_wing_l2_l3 (ID 200 )\n",
      "INFO    : Installed bundle fastga.models.aerodynamics.external.xfoil.xfoil_group (ID 150 )\n",
      "INFO    : Installed bundle fastga.models.geometry.geom_components.wing.components.compute_wing_mac (ID 201 )\n",
      "INFO    : Installed bundle fastga.models.performances.mission.mission_components.cruise (ID 265 )\n",
      "INFO    : Installed bundle fastga.models.weight.cg.cg_components.max_cg_ratio (ID 374 )\n",
      "INFO    : Installed bundle fastga.models.geometry.geom_components.wing.components.compute_wing_sweep (ID 202 )\n",
      "INFO    : Installed bundle fastga.models.performances.mission.mission_components.descent (ID 266 )\n",
      "INFO    : Installed bundle fastga.models.aerodynamics.external.xfoil.xfoil_polar (ID 151 )\n",
      "INFO    : Installed bundle fastga.models.geometry.geom_components.wing.components.compute_wing_toc (ID 203 )\n",
      "INFO    : Installed bundle fastga.models.performances.payload_range.payload_range (ID 300 )\n",
      "INFO    : Installed bundle fastga.models.weight.cg.cg_components.payload (ID 375 )\n",
      "INFO    : Installed bundle fastga.models.weight.mass_breakdown.c_systems.c1_power_systems_weight (ID 424 )\n",
      "INFO    : Installed bundle fastga.models.aerodynamics.external.__init__ (ID 153 )\n",
      "INFO    : Installed bundle fastga.models.geometry.geom_components.wing.components.compute_wing_wet_area (ID 204 )\n",
      "INFO    : Installed bundle fastga.models.performances.mission.mission_components.reserve (ID 267 )\n",
      "INFO    : Installed bundle fastga.models.performances.__init__ (ID 302 )\n",
      "INFO    : Installed bundle fastga.models.weight.cg.cg_components.__init__ (ID 377 )\n",
      "INFO    : Installed bundle fastga.models.weight.mass_breakdown.c_systems.c2_life_support_systems_weight (ID 425 )\n",
      "INFO    : Installed bundle fastga.models.aerodynamics.external.xfoil.__init__ (ID 152 )\n",
      "INFO    : Installed bundle fastga.models.geometry.geom_components.wing.components.compute_wing_x (ID 205 )\n",
      "INFO    : Installed bundle fastga.models.load_analysis.wing.aerodynamic_loads (ID 242 )\n",
      "INFO    : Installed bundle fastga.models.performances.payload_range.__init__ (ID 301 )\n",
      "INFO    : Installed bundle fastga.models.weight.mass_breakdown.c_systems.c3_avionics_systems_weight (ID 426 )\n",
      "INFO    : Installed bundle fastga.models.geometry.geom_components.wing.components.compute_wing_x_absolute (ID 206 )\n",
      "INFO    : Installed bundle fastga.models.load_analysis.wing.constants (ID 244 )\n",
      "INFO    : Installed bundle fastga.models.propulsion.fuel_propulsion.basicTurbo_prop.resources.read_resources (ID 313 )\n",
      "INFO    : Installed bundle fastga.models.weight.mass_breakdown.c_systems.c4_recording_systems_weight (ID 427 )\n",
      "INFO    : Installed bundle fastga.models.aerodynamics.aerodynamics_stability_derivatives (ID 58 )\n",
      "INFO    : Installed bundle fastga.models.geometry.geom_components.fuselage.components.__init__ (ID 163 )\n",
      "INFO    : Installed bundle fastga.models.geometry.geom_components.wing.components.compute_wing_y (ID 207 )\n",
      "INFO    : Installed bundle fastga.models.load_analysis.wing.aerostructural_loads (ID 243 )\n",
      "INFO    : Installed bundle fastga.models.performances.mission.mission_components.taxi (ID 268 )\n",
      "INFO    : Installed bundle fastga.models.propulsion.fuel_propulsion.basicTurbo_prop.resources.__init__ (ID 314 )\n",
      "INFO    : Installed bundle fastga.models.propulsion.fuel_propulsion.basicTurbo_prop_map.__init__ (ID 348 )\n",
      "INFO    : Installed bundle fastga.models.geometry.geom_components.wing.components.compute_wing_z (ID 208 )\n",
      "INFO    : Installed bundle fastga.models.performances.mission.mission_components.__init__ (ID 269 )\n",
      "INFO    : Installed bundle fastga.models.propulsion.fuel_propulsion.basicTurbo_prop.turboprop_components.air_coefficient (ID 315 )\n",
      "INFO    : Installed bundle fastga.models.load_analysis.wing.__init__ (ID 247 )\n",
      "INFO    : Installed bundle fastga.models.propulsion.fuel_propulsion.basicTurbo_prop.turboprop_components.alpha (ID 316 )\n",
      "INFO    : Installed bundle fastga.models.propulsion.propulsion (ID 350 )\n",
      "INFO    : Installed bundle fastga.models.weight.mass_breakdown.c_systems.constants (ID 428 )\n",
      "INFO    : Installed bundle fastga.models.geometry.geom_components.wing.components.__init__ (ID 209 )\n",
      "INFO    : Installed bundle fastga.models.load_analysis.wing.loads (ID 245 )\n",
      "INFO    : Installed bundle fastga.models.propulsion.fuel_propulsion.basicTurbo_prop.turboprop_components.area_combustion_chamber (ID 317 )\n",
      "INFO    : Installed bundle fastga.models.aerodynamics.compute_polar (ID 133 )\n",
      "INFO    : Installed bundle fastga.models.performances.mission.resources.__init__ (ID 270 )\n",
      "INFO    : Installed bundle fastga.models.propulsion.fuel_propulsion.basicTurbo_prop.turboprop_components.area_exhaust (ID 318 )\n",
      "INFO    : Installed bundle fastga.models.propulsion.fuel_propulsion.__init__ (ID 349 )\n",
      "INFO    : Installed bundle fastga.models.aerodynamics.aerodynamics (ID 55 )\n",
      "INFO    : Installed bundle fastga.models.propulsion.dict (ID 303 )\n",
      "INFO    : Installed bundle fastga.models.propulsion.fuel_propulsion.basicTurbo_prop.turboprop_components.area_inter_turbine (ID 319 )\n",
      "INFO    : Installed bundle fastga.models.performances.mission.__init__ (ID 272 )\n",
      "INFO    : Installed bundle fastga.models.propulsion.fuel_propulsion.base (ID 304 )\n",
      "INFO    : Installed bundle fastga.models.propulsion.fuel_propulsion.basicTurbo_prop.turboprop_components.balance_power (ID 320 )\n",
      "INFO    : Installed bundle fastga.models.propulsion.__init__ (ID 351 )\n",
      "INFO    : Installed bundle fastga.models.geometry.geom_components.wing.compute_wing (ID 210 )\n",
      "INFO    : Installed bundle fastga.models.propulsion.fuel_propulsion.basicIC_engine.basicIC_engine (ID 305 )\n",
      "INFO    : Installed bundle fastga.models.propulsion.fuel_propulsion.basicTurbo_prop.turboprop_components.exhaust_equilibrium (ID 321 )\n",
      "INFO    : Installed bundle fastga.models.propulsion.fuel_propulsion.basicTurbo_prop.turboprop_components.exhaust_thrust (ID 322 )\n",
      "INFO    : Installed bundle fastga.models.geometry.geom_components.wing.constants (ID 211 )\n",
      "INFO    : Installed bundle fastga.models.performances.mission_vector.constants (ID 273 )\n",
      "INFO    : Installed bundle fastga.models.propulsion.fuel_propulsion.basicTurbo_prop.turboprop_components.mass_flow (ID 323 )\n",
      "INFO    : Installed bundle fastga.models.geometry.geom_components.__init__ (ID 227 )\n",
      "INFO    : Installed bundle fastga.models.performances.mission_vector.initialization.initialize (ID 275 )\n",
      "INFO    : Installed bundle fastga.models.propulsion.fuel_propulsion.basicTurbo_prop.turboprop_components.opr (ID 324 )\n",
      "INFO    : Installed bundle fastga.models.weight.cg.cg_components.ratio_aft (ID 376 )\n",
      "INFO    : Installed bundle fastga.models.geometry.geom_components.wing.__init__ (ID 212 )\n",
      "INFO    : Installed bundle fastga.models.propulsion.fuel_propulsion.basicTurbo_prop.exceptions (ID 311 )\n",
      "INFO    : Installed bundle fastga.models.propulsion.fuel_propulsion.basicTurbo_prop.turboprop_components.pressurization_air_flow (ID 325 )\n",
      "INFO    : Installed bundle fastga.models.weight.cg.cg_variation (ID 378 )\n",
      "INFO    : Installed bundle fastga.models.weight.mass_breakdown.c_systems.sum (ID 429 )\n",
      "INFO    : Installed bundle fastga.models.load_analysis.__init__ (ID 248 )\n",
      "INFO    : Installed bundle fastga.models.propulsion.fuel_propulsion.basicTurbo_prop.openmdao (ID 312 )\n",
      "INFO    : Installed bundle fastga.models.propulsion.fuel_propulsion.basicTurbo_prop.turboprop_components.propeller_thrust (ID 326 )\n",
      "INFO    : Installed bundle fastga.models.weight.cg.cg (ID 352 )\n",
      "INFO    : Installed bundle fastga.models.geometry.geom_components.wing_tank.compute_mfw_advanced (ID 213 )\n",
      "INFO    : Installed bundle fastga.models.load_analysis.wing.structural_loads (ID 246 )\n",
      "INFO    : Installed bundle fastga.models.propulsion.fuel_propulsion.basicTurbo_prop.turboprop_components.shaft_power (ID 327 )\n",
      "INFO    : Installed bundle fastga.models.weight.cg.__init__ (ID 379 )\n",
      "INFO    : Installed bundle fastga.models.weight.mass_breakdown.c_systems.__init__ (ID 430 )\n",
      "INFO    : Installed bundle fastga.models.geometry.geom_components.wing_tank.compute_mfw_simple (ID 214 )\n",
      "INFO    : Installed bundle fastga.models.loops.constants (ID 249 )\n",
      "INFO    : Installed bundle fastga.models.propulsion.fuel_propulsion.basicTurbo_prop.turboprop_components.station_0 (ID 328 )\n",
      "INFO    : Installed bundle fastga.models.weight.constants (ID 380 )\n",
      "INFO    : Installed bundle fastga.models.aerodynamics.load_factor (ID 154 )\n",
      "INFO    : Installed bundle fastga.models.geometry.geom_components.wing_tank.wing_tank_components.compute_mfw_from_wing_tanks_capacity (ID 215 )\n",
      "INFO    : Installed bundle fastga.models.propulsion.fuel_propulsion.basicTurbo_prop.turboprop_components.station_02 (ID 329 )\n",
      "INFO    : Installed bundle fastga.models.aerodynamics.aerodynamics_high_speed (ID 56 )\n",
      "INFO    : Installed bundle fastga.models.aerodynamics.__init__ (ID 155 )\n",
      "INFO    : Installed bundle fastga.models.geometry.geom_components.wing_tank.wing_tank_components.compute_wing_tanks_capacity (ID 216 )\n",
      "INFO    : Installed bundle fastga.models.propulsion.fuel_propulsion.basicTurbo_prop.turboprop_components.station_225 (ID 330 )\n",
      "INFO    : Installed bundle fastga.models.geometry.constants (ID 156 )\n",
      "INFO    : Installed bundle fastga.models.geometry.geom_components.wing_tank.wing_tank_components.compute_wing_tank_chord_array (ID 217 )\n",
      "INFO    : Installed bundle fastga.models.propulsion.fuel_propulsion.basicTurbo_prop.turboprop_components.station_253 (ID 331 )\n",
      "INFO    : Installed bundle fastga.models.geometry.geom_components.wing_tank.wing_tank_components.compute_wing_tank_cross_section (ID 218 )\n",
      "INFO    : Installed bundle fastga.models.propulsion.fuel_propulsion.basicTurbo_prop.turboprop_components.station_341 (ID 332 )\n",
      "INFO    : Installed bundle fastga.models.geometry.geom_components.wing_tank.wing_tank_components.compute_wing_tank_reduced_width_array (ID 219 )\n",
      "INFO    : Installed bundle fastga.models.propulsion.fuel_propulsion.basicIC_engine.exceptions (ID 306 )\n",
      "INFO    : Installed bundle fastga.models.propulsion.fuel_propulsion.basicTurbo_prop.turboprop_components.station_4145 (ID 333 )\n",
      "INFO    : Installed bundle fastga.models.geometry.geom_components.wing_tank.wing_tank_components.compute_wing_tank_span (ID 220 )\n",
      "INFO    : Installed bundle fastga.models.propulsion.fuel_propulsion.basicTurbo_prop.turboprop_components.station_441 (ID 334 )\n",
      "INFO    : Installed bundle fastga.models.weight.mass_breakdown.d_furniture.d2_passenger_seats_weight (ID 432 )\n",
      "INFO    : Installed bundle fastga.models.aerodynamics.aerodynamics_low_speed (ID 57 )\n",
      "INFO    : Installed bundle fastga.models.geometry.geom_components.wing_tank.wing_tank_components.compute_wing_tank_thickness_array (ID 221 )\n",
      "INFO    : Installed bundle fastga.models.propulsion.fuel_propulsion.basicTurbo_prop.turboprop_components.station_58 (ID 335 )\n",
      "INFO    : Installed bundle fastga.models.aerodynamics.components.airfoil_lift_curve_slope (ID 61 )\n",
      "INFO    : Installed bundle fastga.models.geometry.geom_components.fuselage.components.compute_fuselage_dimensions (ID 160 )\n",
      "INFO    : Installed bundle fastga.models.geometry.geom_components.wing_tank.wing_tank_components.compute_wing_tank_t_c_array (ID 222 )\n",
      "INFO    : Installed bundle fastga.models.propulsion.fuel_propulsion.basicTurbo_prop.turboprop_components.station_8 (ID 336 )\n",
      "INFO    : Installed bundle fastga.models.weight.mass_breakdown.d_furniture.constants (ID 431 )\n",
      "INFO    : Installed bundle fastga.models.geometry.geom_components.wing_tank.wing_tank_components.compute_wing_tank_width_array (ID 223 )\n",
      "INFO    : Installed bundle fastga.models.propulsion.fuel_propulsion.basicIC_engine.openmdao (ID 307 )\n",
      "INFO    : Installed bundle fastga.models.propulsion.fuel_propulsion.basicTurbo_prop.turboprop_components.thermodynamic_equilibrium (ID 337 )\n",
      "INFO    : Installed bundle fastga.models.geometry.geometry (ID 157 )\n",
      "INFO    : Installed bundle fastga.models.geometry.geom_components.wing_tank.wing_tank_components.compute_wing_tank_y_array (ID 224 )\n",
      "INFO    : Installed bundle fastga.models.propulsion.fuel_propulsion.basicTurbo_prop.turboprop_components.thermodynamic_equilibrium_design (ID 338 )\n",
      "INFO    : Installed bundle fastga.models.geometry.geom_components.wing_tank.wing_tank_components.__init__ (ID 225 )\n",
      "INFO    : Installed bundle fastga.models.loops.wing_area_component.wing_area_cl_equilibrium (ID 253 )\n",
      "INFO    : Installed bundle fastga.models.propulsion.fuel_propulsion.basicTurbo_prop.turboprop_components.turboshaft_geometry_computation (ID 339 )\n",
      "INFO    : Installed bundle fastga.models.weight.mass_breakdown.d_furniture.sum (ID 433 )\n",
      "INFO    : Installed bundle fastga.models.propulsion.fuel_propulsion.basicTurbo_prop.turboprop_components.turboshaft_off_design_fuel (ID 340 )\n",
      "INFO    : Installed bundle fastga.models.weight.mass_breakdown.a_airframe.a1_wing_weight (ID 381 )\n",
      "INFO    : Installed bundle fastga.models.geometry.geom_components.fuselage.components.compute_fuselage_depth (ID 159 )\n",
      "INFO    : Installed bundle fastga.models.propulsion.fuel_propulsion.basicTurbo_prop.turboprop_components.turboshaft_off_design_max_power (ID 341 )\n",
      "INFO    : Installed bundle fastga.models.weight.mass_breakdown.a_airframe.a1_wing_weight_analytical (ID 382 )\n",
      "INFO    : Installed bundle fastga.models.weight.mass_breakdown.d_furniture.__init__ (ID 434 )\n",
      "INFO    : Installed bundle fastga.models.geometry.profiles.profile (ID 229 )\n",
      "INFO    : Installed bundle fastga.models.loops.update_wing_position (ID 251 )\n",
      "INFO    : Installed bundle fastga.models.propulsion.fuel_propulsion.basicTurbo_prop.turboprop_components.__init__ (ID 342 )\n",
      "INFO    : Installed bundle fastga.models.weight.mass_breakdown.a_airframe.a2_fuselage_weight (ID 383 )\n",
      "INFO    : Installed bundle fastga.models.aerodynamics.components.cd0_fuselage (ID 63 )\n",
      "INFO    : Installed bundle fastga.models.weight.mass_breakdown.a_airframe.a2_fuselage_weight_analytical (ID 384 )\n",
      "INFO    : Installed bundle fastga.models.geometry.geom_components.fuselage.compute_fuselage (ID 164 )\n",
      "INFO    : Installed bundle fastga.models.geometry.geom_components.wing_tank.__init__ (ID 226 )\n",
      "INFO    : Installed bundle fastga.models.aerodynamics.components.vt.compute_cl_alpha_vt (ID 114 )\n",
      "INFO    : Installed bundle fastga.models.geometry.geom_components.compute_total_area (ID 158 )\n",
      "INFO    : Installed bundle fastga.models.propulsion.fuel_propulsion.basicTurbo_prop.__init__ (ID 343 )\n",
      "INFO    : Installed bundle fastga.models.weight.mass_breakdown.a_airframe.a3_tail_weight (ID 385 )\n",
      "INFO    : Installed bundle fastga.models.aerodynamics.components.vt.compute_cl_roll_rate_vt (ID 116 )\n",
      "INFO    : Installed bundle fastga.models.geometry.geom_components.fuselage.components.compute_fuselage_wet_area (ID 162 )\n",
      "INFO    : Installed bundle fastga.models.geometry.profiles.get_profile (ID 228 )\n",
      "INFO    : Installed bundle fastga.models.loops.wing_area_component.update_wing_area (ID 252 )\n",
      "INFO    : Installed bundle fastga.models.propulsion.fuel_propulsion.basicTurbo_prop_map.basicTP_engine_constructor (ID 344 )\n",
      "INFO    : Installed bundle fastga.models.weight.mass_breakdown.a_airframe.a4_flight_control_weight (ID 386 )\n",
      "INFO    : Installed bundle fastga.models.aerodynamics.components.vt.compute_cl_beta_vt (ID 115 )\n",
      "INFO    : Installed bundle fastga.models.geometry.geom_components.fuselage.components.compute_fuselage_volume (ID 161 )\n",
      "INFO    : Installed bundle fastga.models.geometry.profiles.__init__ (ID 230 )\n",
      "INFO    : Installed bundle fastga.models.weight.mass_breakdown.a_airframe.a5_landing_gear_weight (ID 387 )\n",
      "INFO    : Installed bundle fastga.models.geometry.__init__ (ID 231 )\n",
      "INFO    : Installed bundle fastga.models.aerodynamics.components.vt.compute_cl_yaw_rate_vt (ID 117 )\n",
      "INFO    : Installed bundle fastga.models.weight.mass_breakdown.a_airframe.a7_paint_weight (ID 388 )\n",
      "INFO    : Installed bundle fastga.models.aerodynamics.aero_center (ID 59 )\n",
      "INFO    : Installed bundle fastga.models.aerodynamics.components.vt.compute_cn_roll_rate_vt (ID 119 )\n",
      "INFO    : Installed bundle fastga.models.geometry.geom_components.ht.compute_horizontal_tail (ID 175 )\n",
      "INFO    : Installed bundle fastga.models.weight.mass_breakdown.a_airframe.fuselage_components.compute_additional_bending_material_mass_h (ID 390 )\n",
      "INFO    : Installed bundle fastga.models.geometry.geom_components.fuselage.constants (ID 165 )\n",
      "INFO    : Installed bundle fastga.models.aerodynamics.components.vt.compute_cn_beta_vt (ID 118 )\n",
      "INFO    : Installed bundle fastga.models.geometry.geom_components.fuselage.__init__ (ID 166 )\n",
      "INFO    : Installed bundle fastga.models.weight.mass_breakdown.a_airframe.constants (ID 389 )\n",
      "INFO    : Installed bundle fastga.models.weight.weight (ID 440 )\n",
      "INFO    : Installed bundle fastga.models.aerodynamics.airfoil_folder.__init__ (ID 60 )\n",
      "INFO    : Installed bundle fastga.models.weight.mass_breakdown.a_airframe.fuselage_components.compute_additional_bending_material_mass_v (ID 391 )\n",
      "INFO    : Installed bundle fastga.models.aerodynamics.components.vt.compute_cn_yaw_rate_vt (ID 120 )\n",
      "INFO    : Installed bundle fastga.models.geometry.geom_components.ht.components.compute_ht_chords (ID 167 )\n",
      "INFO    : Installed bundle fastga.models.weight.mass_breakdown.a_airframe.fuselage_components.compute_bulkhead_mass (ID 392 )\n",
      "INFO    : Installed bundle fastga.models.aerodynamics.components.cd0 (ID 62 )\n",
      "INFO    : Installed bundle fastga.models.geometry.geom_components.ht.components.compute_ht_distance (ID 168 )\n",
      "INFO    : Installed bundle fastga.models.weight.mass_breakdown.a_airframe.fuselage_components.compute_cone_mass (ID 393 )\n",
      "INFO    : Installed bundle fastga.models.geometry.geom_components.ht.components.compute_ht_efficiency (ID 169 )\n",
      "INFO    : Installed bundle fastga.models.weight.mass_breakdown.a_airframe.fuselage_components.compute_doors_mass (ID 394 )\n",
      "INFO    : Installed bundle fastga.models.aerodynamics.components.vt.compute_cy_beta_vt (ID 121 )\n",
      "INFO    : Installed bundle fastga.models.geometry.geom_components.ht.components.compute_ht_mac (ID 170 )\n",
      "INFO    : Installed bundle fastga.models.weight.cg.cg_components.a_airframe.a1_wing_cg (ID 353 )\n",
      "INFO    : Installed bundle fastga.models.weight.mass_breakdown.a_airframe.fuselage_components.compute_engine_support_mass (ID 395 )\n",
      "INFO    : Installed bundle fastga.models.weight.mass_breakdown.mass_breakdown (ID 435 )\n",
      "INFO    : Installed bundle fastga.models.aerodynamics.components.cd0_ht (ID 64 )\n",
      "INFO    : Installed bundle fastga.models.geometry.geom_components.ht.components.compute_ht_sweep (ID 171 )\n",
      "INFO    : Installed bundle fastga.models.weight.cg.cg_components.a_airframe.a2_fuselage_cg (ID 354 )\n",
      "INFO    : Installed bundle fastga.models.weight.mass_breakdown.a_airframe.fuselage_components.compute_floor_mass (ID 396 )\n",
      "INFO    : Installed bundle fastga.models.aerodynamics.components.vt.__init__ (ID 122 )\n",
      "INFO    : Installed bundle fastga.models.geometry.geom_components.ht.components.compute_ht_volume_coefficient (ID 172 )\n",
      "INFO    : Installed bundle fastga.models.weight.cg.cg_components.a_airframe.a4_flight_control_cg (ID 356 )\n",
      "INFO    : Installed bundle fastga.models.weight.mass_breakdown.a_airframe.fuselage_components.compute_insulation_mass (ID 397 )\n",
      "INFO    : Installed bundle fastga.models.aerodynamics.components.cd0_lg (ID 65 )\n",
      "INFO    : Installed bundle fastga.models.geometry.geom_components.ht.components.compute_ht_wet_area (ID 173 )\n",
      "INFO    : Installed bundle fastga.models.weight.mass_breakdown.a_airframe.fuselage_components.compute_nlg_hatch_mass (ID 398 )\n",
      "INFO    : Installed bundle fastga.models.weight.cg.cg_components.a_airframe.a3_tail_cg (ID 355 )\n",
      "INFO    : Installed bundle fastga.models.weight.mass_breakdown.a_airframe.fuselage_components.compute_shell_mass (ID 399 )\n",
      "INFO    : Installed bundle fastga.models.weight.mass_breakdown.payload (ID 436 )\n",
      "INFO    : Installed bundle fastga.models.geometry.geom_components.ht.components.__init__ (ID 174 )\n",
      "INFO    : Installed bundle fastga.models.weight.cg.cg_components.a_airframe.a5_landing_gear_cg (ID 357 )\n",
      "INFO    : Installed bundle fastga.models.weight.mass_breakdown.a_airframe.fuselage_components.compute_windows_mass (ID 400 )\n",
      "INFO    : Installed bundle fastga.models.handling_qualities.compute_static_margin (ID 232 )\n",
      "INFO    : Installed bundle fastga.models.weight.mass_breakdown.a_airframe.fuselage_components.compute_wing_fuselage_connection_mass (ID 401 )\n",
      "INFO    : Installed bundle fastga.models.aerodynamics.components.mach_interpolation (ID 112 )\n",
      "INFO    : Installed bundle fastga.models.handling_qualities.tail_sizing.compute_to_rotation_limit (ID 235 )\n",
      "INFO    : Installed bundle fastga.models.weight.mass_breakdown.a_airframe.fuselage_components.update_fuselage_mass (ID 402 )\n",
      "INFO    : Installed bundle fastga.models.weight.mass_breakdown.update_mlw_and_mzfw (ID 437 )\n",
      "INFO    : Installed bundle fastga.models.aerodynamics.components.ht.compute_cl_roll_rate_ht (ID 108 )\n",
      "INFO    : Installed bundle fastga.models.weight.cg.cg_components.a_airframe.__init__ (ID 358 )\n",
      "INFO    : Installed bundle fastga.models.weight.mass_breakdown.a_airframe.fuselage_components.__init__ (ID 403 )\n",
      "INFO    : Installed bundle fastga.models.weight.mass_breakdown.__init__ (ID 439 )\n",
      "INFO    : Installed bundle fastga.models.aerodynamics.components.ht.compute_cm_pitch_rate_ht (ID 109 )\n",
      "INFO    : Installed bundle fastga.models.handling_qualities.handling_qualities (ID 233 )\n",
      "INFO    : Installed bundle fastga.models.weight.mass_breakdown.update_mtow (ID 438 )\n",
      "INFO    : Installed bundle fastga.models.geometry.geom_components.ht.constants (ID 176 )\n",
      "INFO    : Installed bundle fastga.models.weight.mass_breakdown.a_airframe.sum (ID 404 )\n",
      "INFO    : Installed bundle fastga.models.aerodynamics.components.cd0_wing (ID 70 )\n",
      "INFO    : Installed bundle fastga.models.aerodynamics.components.ht.downwash_gradient (ID 110 )\n",
      "INFO    : Installed bundle fastga.models.geometry.geom_components.nacelle.compute_nacelle_dimension (ID 180 )\n",
      "INFO    : Installed bundle fastga.models.weight.mass_breakdown.a_airframe.wing_components.compute_lower_flange (ID 405 )\n",
      "INFO    : Installed bundle fastga.models.weight.__init__ (ID 441 )\n",
      "INFO    : Installed bundle fastga.models.aerodynamics.components.compute_cl_extreme (ID 74 )\n",
      "INFO    : Installed bundle fastga.models.aerodynamics.components.ht.__init__ (ID 111 )\n",
      "INFO    : Installed bundle fastga.models.aerodynamics.components.cd0_nacelle (ID 66 )\n",
      "INFO    : Installed bundle fastga.models.geometry.geom_components.ht.__init__ (ID 177 )\n",
      "INFO    : Installed bundle fastga.models.__init__ (ID 442 )\n",
      "INFO    : Installed bundle fastga.models.aerodynamics.components.ht.compute_cl_beta_ht (ID 106 )\n",
      "INFO    : Installed bundle fastga.models.weight.mass_breakdown.a_airframe.wing_components.compute_misc_mass (ID 406 )\n",
      "INFO    : Installed bundle fastga.models.aerodynamics.components.cd0_other (ID 67 )\n",
      "INFO    : Installed bundle fastga.models.geometry.geom_components.landing_gears.compute_lg (ID 178 )\n",
      "INFO    : Installed bundle fastga.models.weight.mass_breakdown.a_airframe.wing_components.compute_primary_mass (ID 407 )\n",
      "INFO    : Installed bundle fastga.models.aerodynamics.components.compute_cl_aileron (ID 71 )\n",
      "INFO    : Installed bundle fastga.models.weight.mass_breakdown.a_airframe.wing_components.compute_ribs_mass (ID 408 )\n",
      "INFO    : Installed bundle fastga.models.geometry.geom_components.landing_gears.__init__ (ID 179 )\n",
      "INFO    : Installed bundle fastga.models.weight.mass_breakdown.a_airframe.wing_components.compute_secondary_mass (ID 409 )\n",
      "INFO    : Installed bundle fastga.models.aerodynamics.components.cd0_total (ID 68 )\n",
      "INFO    : Installed bundle fastga.models.propulsion.fuel_propulsion.basicTurbo_prop_map.basicTP_engine_mapped (ID 345 )\n",
      "INFO    : Installed bundle fastga.models.weight.mass_breakdown.a_airframe.wing_components.compute_skin_mass (ID 410 )\n",
      "INFO    : Installed bundle fastga.models.geometry.geom_components.nacelle.compute_nacelle_position (ID 181 )\n",
      "INFO    : Installed bundle fastga.models.aerodynamics.components.cd0_vt (ID 69 )\n",
      "INFO    : Installed bundle fastga.models.weight.mass_breakdown.a_airframe.wing_components.compute_upper_flange (ID 411 )\n",
      "INFO    : Installed bundle fastga.models.aerodynamics.components.compute_cl_rudder (ID 79 )\n",
      "INFO    : Installed bundle fastga.models.weight.mass_breakdown.a_airframe.wing_components.compute_web_mass (ID 412 )\n",
      "INFO    : Installed bundle fastga.models.weight.mass_breakdown.a_airframe.wing_components.update_wing_mass (ID 413 )\n",
      "INFO    : Installed bundle fastga.models.geometry.geom_components.nacelle.__init__ (ID 182 )\n",
      "INFO    : Installed bundle fastga.models.weight.mass_breakdown.a_airframe.wing_components.__init__ (ID 414 )\n",
      "INFO    : Installed bundle fastga.models.aerodynamics.components.compute_cl_alpha_dot (ID 72 )\n",
      "INFO    : Installed bundle fastga.models.weight.mass_breakdown.a_airframe.__init__ (ID 415 )\n",
      "INFO    : Installed bundle fastga.models.weight.cg.cg_components.b_propulsion.b1_engine_cg (ID 359 )\n",
      "INFO    : Installed bundle fastga.models.aerodynamics.components.compute_cl_beta (ID 73 )\n",
      "INFO    : Installed bundle fastga.models.handling_qualities.tail_sizing.compute_balked_landing_limit (ID 234 )\n",
      "INFO    : Installed bundle fastga.models.weight.cg.cg_components.b_propulsion.b2_fuel_lines_cg (ID 360 )\n",
      "INFO    : Installed bundle fastga.models.weight.mass_breakdown.b_propulsion.b1_2_oil_weight (ID 416 )\n",
      "INFO    : Installed bundle fastga.models.aerodynamics.components.compute_cl_extreme_wing (ID 76 )\n",
      "INFO    : Installed bundle fastga.models.weight.cg.cg_components.b_propulsion.b3_tank_cg (ID 361 )\n",
      "INFO    : Installed bundle fastga.models.aerodynamics.components.wing.compute_cl_beta_wing (ID 123 )\n",
      "INFO    : Installed bundle fastga.models.geometry.geom_components.propeller.components.compute_propeller_installation_effect (ID 183 )\n",
      "INFO    : Installed bundle fastga.models.handling_qualities.tail_sizing.constants (ID 236 )\n",
      "INFO    : Installed bundle fastga.models.aerodynamics.components.compute_cl_extreme_htp (ID 75 )\n",
      "INFO    : Installed bundle fastga.models.aerodynamics.components.ht.compute_cl_pitch_rate_ht (ID 107 )\n",
      "INFO    : Installed bundle fastga.models.aerodynamics.components.wing.compute_cl_pitch_rate_wing (ID 124 )\n",
      "INFO    : Installed bundle fastga.models.aerodynamics.components.compute_cl_pitch_rate (ID 77 )\n",
      "INFO    : Installed bundle fastga.models.aerodynamics.components.wing.compute_cl_roll_rate_wing (ID 125 )\n",
      "INFO    : Installed bundle fastga.models.weight.cg.cg_components.b_propulsion.b_cg (ID 362 )\n",
      "INFO    : Installed bundle fastga.models.aerodynamics.components.wing.compute_cl_yaw_rate_wing (ID 126 )\n",
      "INFO    : Installed bundle fastga.models.geometry.geom_components.propeller.components.compute_propeller_position (ID 184 )\n",
      "INFO    : Installed bundle fastga.models.aerodynamics.components.compute_cm_pitch_rate (ID 82 )\n",
      "INFO    : Installed bundle fastga.models.aerodynamics.components.wing.compute_cm_pitch_rate_wing (ID 127 )\n",
      "INFO    : Installed bundle fastga.models.aerodynamics.external.openvsp.compute_aero (ID 135 )\n",
      "INFO    : Installed bundle fastga.models.weight.cg.cg_components.b_propulsion.__init__ (ID 363 )\n",
      "INFO    : Installed bundle fastga.models.aerodynamics.components.wing.compute_cn_roll_rate_wing (ID 128 )\n",
      "INFO    : Installed bundle fastga.models.propulsion.fuel_propulsion.basicTurbo_prop_map.exceptions (ID 346 )\n",
      "INFO    : Installed bundle fastga.models.aerodynamics.components.wing.compute_cn_yaw_rate_wing (ID 129 )\n",
      "INFO    : Installed bundle fastga.models.aerodynamics.external.propeller_code.compute_propeller_aero (ID 141 )\n",
      "INFO    : Installed bundle fastga.models.aerodynamics.external.openvsp.openvsp3201.__init__ (ID 138 )\n",
      "INFO    : Installed bundle fastga.models.weight.cg.cg_components.constants (ID 364 )\n",
      "INFO    : Installed bundle fastga.models.aerodynamics.components.compute_cl_roll_rate (ID 78 )\n",
      "INFO    : Installed bundle fastga.models.aerodynamics.components.wing.compute_cy_beta_wing (ID 130 )\n",
      "INFO    : Installed bundle fastga.models.propulsion.fuel_propulsion.basicTurbo_prop_map.openmdao (ID 347 )\n",
      "INFO    : Installed bundle fastga.models.aerodynamics.components.compute_cl_yaw_rate (ID 80 )\n",
      "INFO    : Installed bundle fastga.models.aerodynamics.components.wing.__init__ (ID 131 )\n",
      "INFO    : Installed bundle fastga.models.aerodynamics.external.openvsp.openvsp (ID 137 )\n",
      "INFO    : Installed bundle fastga.models.geometry.geom_components.propeller.components.__init__ (ID 185 )\n",
      "INFO    : Installed bundle fastga.models.aerodynamics.components.compute_cn_roll_rate (ID 85 )\n",
      "INFO    : Installed bundle fastga.models.aerodynamics.components.__init__ (ID 132 )\n",
      "INFO    : Installed bundle fastga.models.performances.mission_vector.mission.compute_time_step (ID 284 )\n",
      "INFO    : Installed bundle fastga.models.aerodynamics.components.compute_cm_alpha_dot (ID 81 )\n",
      "INFO    : Installed bundle fastga.models.aerodynamics.external.openvsp.resources.__init__ (ID 139 )\n",
      "INFO    : Installed bundle fastga.models.performances.mission_vector.full_mission (ID 274 )\n",
      "INFO    : Installed bundle fastga.models.aerodynamics.external.openvsp.__init__ (ID 140 )\n",
      "INFO    : Installed bundle fastga.models.geometry.geom_components.propeller.constants (ID 187 )\n",
      "INFO    : Installed bundle fastga.models.performances.mission_vector.initialization.initialize_airspeed (ID 276 )\n",
      "INFO    : Installed bundle fastga.models.aerodynamics.components.compute_cn_aileron (ID 83 )\n",
      "INFO    : Installed bundle fastga.models.geometry.geom_components.propeller.compute_propeller (ID 186 )\n",
      "INFO    : Installed bundle fastga.models.loops.update_wing_area_group (ID 250 )\n",
      "INFO    : Installed bundle fastga.models.performances.mission_vector.initialization.initialize_airspeed_derivatives (ID 277 )\n",
      "INFO    : Installed bundle fastga.models.performances.mission_vector.initialization.initialize_altitude (ID 278 )\n",
      "INFO    : Installed bundle fastga.models.aerodynamics.components.compute_cn_beta (ID 84 )\n",
      "INFO    : Installed bundle fastga.models.geometry.geom_components.propeller.__init__ (ID 188 )\n",
      "INFO    : Installed bundle fastga.models.handling_qualities.tail_sizing.update_ht_area (ID 237 )\n",
      "INFO    : Installed bundle fastga.models.performances.mission_vector.initialization.initialize_cg (ID 279 )\n",
      "INFO    : Installed bundle fastga.models.aerodynamics.constants (ID 134 )\n",
      "INFO    : Installed bundle fastga.models.performances.mission_vector.initialization.initialize_gamma (ID 280 )\n",
      "INFO    : Installed bundle fastga.models.aerodynamics.components.compute_cn_rudder (ID 86 )\n",
      "INFO    : Installed bundle fastga.models.aerodynamics.external.openvsp.compute_aero_slipstream (ID 136 )\n",
      "INFO    : Installed bundle fastga.models.handling_qualities.tail_sizing.update_tail_areas (ID 238 )\n",
      "INFO    : Installed bundle fastga.models.performances.mission_vector.initialization.initialize_horizontal_speed (ID 281 )\n",
      "INFO    : Installed bundle fastga.models.geometry.geom_components.vt.components.compute_vt_chords (ID 189 )\n",
      "INFO    : Installed bundle fastga.models.performances.mission_vector.initialization.initialize_time_and_distance (ID 282 )\n",
      "INFO    : Installed bundle fastga.models.geometry.geom_components.vt.components.compute_vt_distance (ID 190 )\n",
      "INFO    : Installed bundle fastga.models.performances.mission_vector.initialization.__init__ (ID 283 )\n",
      "INFO    : Installed bundle fastga.models.aerodynamics.external.propeller_code.compute_propeller_coefficient_map (ID 142 )\n",
      "INFO    : Installed bundle fastga.models.geometry.geom_components.vt.components.compute_vt_mac (ID 191 )\n",
      "INFO    : Installed bundle fastga.models.weight.cg.cg_components.c_systems.c1_power_systems_cg (ID 365 )\n",
      "INFO    : Installed bundle fastga.models.geometry.geom_components.vt.components.compute_vt_sweep (ID 192 )\n",
      "INFO    : Installed bundle fastga.models.weight.cg.cg_components.c_systems.c2_life_support_systems_cg (ID 366 )\n",
      "INFO    : Installed bundle fastga.models.weight.mass_breakdown.b_propulsion.b1_engine_weight (ID 417 )\n",
      "INFO    : Installed bundle fastga.models.geometry.geom_components.vt.components.compute_vt_wet_area (ID 193 )\n",
      "INFO    : Installed bundle fastga.models.loops.wing_area_component.wing_area_loop_cl_simple (ID 254 )\n",
      "INFO    : Installed bundle fastga.models.performances.mission_vector.mission.dep_equilibrium (ID 285 )\n",
      "INFO    : Installed bundle fastga.models.weight.cg.cg_components.c_systems.c3_navigation_systems_cg (ID 367 )\n",
      "INFO    : Installed bundle fastga.models.performances.mission_vector.mission.energy_consumption_preparation (ID 286 )\n",
      "INFO    : Installed bundle fastga.models.weight.mass_breakdown.b_propulsion.b2_fuel_lines_weight (ID 418 )\n",
      "INFO    : Installed bundle fastga.models.weight.cg.cg_components.c_systems.c4_recording_systems_cg (ID 368 )\n",
      "INFO    : Installed bundle fastga.models.aerodynamics.components.compute_cn_yaw_rate (ID 87 )\n",
      "INFO    : Installed bundle fastga.models.geometry.geom_components.vt.components.__init__ (ID 194 )\n",
      "INFO    : Installed bundle fastga.models.weight.mass_breakdown.b_propulsion.b3_unusable_fuel_weight (ID 419 )\n",
      "INFO    : Installed bundle fastga.models.performances.mission_vector.mission.equilibrium (ID 287 )\n",
      "INFO    : Installed bundle fastga.models.aerodynamics.components.compute_cy_beta (ID 88 )\n",
      "INFO    : Installed bundle fastga.models.geometry.geom_components.vt.compute_vertical_tail (ID 195 )\n",
      "INFO    : Installed bundle fastga.models.weight.cg.cg_components.c_systems.__init__ (ID 369 )\n",
      "INFO    : Installed bundle fastga.models.performances.mission_vector.mission.mission_core (ID 288 )\n",
      "INFO    : Installed bundle fastga.models.weight.mass_breakdown.b_propulsion.constants (ID 420 )\n",
      "INFO    : Installed bundle fastga.models.aerodynamics.components.compute_cy_roll_rate (ID 89 )\n",
      "INFO    : Installed bundle fastga.models.weight.cg.cg_components.d_furniture.d2_passenger_seats_cg (ID 370 )\n",
      "INFO    : Installed bundle fastga.models.performances.mission_vector.mission.no_dep_effect (ID 289 )\n",
      "INFO    : Installed bundle fastga.models.weight.mass_breakdown.b_propulsion.sum (ID 421 )\n",
      "INFO    : Installed bundle fastga.models.aerodynamics.components.compute_cy_rudder (ID 90 )\n",
      "INFO    : Installed bundle fastga.models.geometry.geom_components.vt.constants (ID 196 )\n",
      "INFO    : Installed bundle fastga.models.handling_qualities.__init__ (ID 241 )\n",
      "INFO    : Installed bundle fastga.models.aerodynamics.components.compute_effective_efficiency_prop (ID 92 )\n",
      "INFO    : Installed bundle fastga.models.handling_qualities.tail_sizing.update_vt_area (ID 239 )\n",
      "INFO    : Installed bundle fastga.models.aerodynamics.components.compute_cy_yaw_rate (ID 91 )\n",
      "INFO    : Installed bundle fastga.models.geometry.geom_components.vt.__init__ (ID 197 )\n",
      "INFO    : Installed bundle fastga.models.handling_qualities.tail_sizing.__init__ (ID 240 )\n",
      "INFO    : Installed bundle fastga.models.loops.wing_area_component.wing_area_loop_geom_adv (ID 255 )\n",
      "INFO    : Installed bundle fastga.models.performances.mission_vector.mission.performance_per_phase (ID 290 )\n",
      "INFO    : Installed bundle fastga.models.aerodynamics.components.compute_equilibrated_polar (ID 93 )\n",
      "INFO    : Installed bundle fastga.models.performances.mission_vector.mission.propulsion_via_id (ID 291 )\n",
      "INFO    : Installed bundle fastga.models.weight.mass_breakdown.b_propulsion.__init__ (ID 422 )\n",
      "INFO    : Installed bundle fastga.models.aerodynamics.components.compute_non_equilibrated_polar (ID 95 )\n",
      "INFO    : Installed bundle fastga.models.geometry.geom_components.wing.components.compute_wing_b50 (ID 198 )\n",
      "INFO    : Installed bundle fastga.models.weight.cg.cg_components.d_furniture.__init__ (ID 371 )\n",
      "INFO    : Installed bundle fastga.models.aerodynamics.components.compute_L_D_max (ID 94 )\n",
      "INFO    : Installed bundle fastga.models.weight.mass_breakdown.constants (ID 423 )\n",
      "INFO    : Installed bundle fastga.models.performances.mission_vector.mission.reserve_energy (ID 292 )\n",
      "INFO    : Installed bundle fastga.models.aerodynamics.external.propeller_code.propeller_core (ID 143 )\n",
      "INFO    : Installed bundle fastga.models.aerodynamics.components.compute_reynolds (ID 96 )\n",
      "INFO    : Installed bundle fastga.models.loops.wing_area_component.wing_area_loop_geom_simple (ID 256 )\n",
      "INFO    : Installed bundle fastga.models.performances.mission_vector.mission.sizing_energy (ID 293 )\n",
      "INFO    : Installed bundle fastga.models.loops.__init__ (ID 258 )\n",
      "INFO    : Installed bundle fastga.models.aerodynamics.components.compute_vn (ID 97 )\n",
      "INFO    : Installed bundle fastga.models.aerodynamics.external.propeller_code.__init__ (ID 144 )\n",
      "INFO    : Installed bundle fastga.models.performances.mission_vector.mission.thrust_taxi (ID 294 )\n",
      "INFO    : Installed bundle fastga.models.loops.wing_area_component.__init__ (ID 257 )\n",
      "INFO    : Installed bundle fastga.models.aerodynamics.components.elevator_aero (ID 98 )\n",
      "INFO    : Installed bundle fastga.models.performances.mission_vector.mission.update_mass (ID 295 )\n",
      "INFO    : Installed bundle fastga.models.aerodynamics.external.vlm.compute_aero (ID 145 )\n",
      "INFO    : Installed bundle fastga.models.options (ID 259 )\n",
      "INFO    : Installed bundle fastga.models.aerodynamics.components.figure_digitization (ID 99 )\n",
      "INFO    : Installed bundle fastga.models.aerodynamics.external.vlm.vlm (ID 146 )\n",
      "INFO    : Installed bundle fastga.models.performances.mission.constants (ID 260 )\n",
      "INFO    : Installed bundle fastga.models.performances.mission_vector.mission.__init__ (ID 296 )\n",
      "INFO    : Installed bundle fastga.models.performances.mission.dynamic_equilibrium (ID 261 )\n",
      "INFO    : Installed bundle fastga.models.weight.cg.cg_components.global_cg (ID 372 )\n",
      "INFO    : Installed bundle fastga.models.aerodynamics.external.vlm.__init__ (ID 147 )\n",
      "INFO    : Installed bundle fastga.models.propulsion.fuel_propulsion.basicIC_engine.resources.__init__ (ID 308 )\n",
      "INFO    : Installed bundle fastga.models.performances.mission_vector.mission_vector (ID 297 )\n",
      "INFO    : Installed bundle fastga.models.propulsion.fuel_propulsion.basicIC_engine.__init__ (ID 309 )\n",
      "INFO    : Installed bundle fastga.models.aerodynamics.components.fuselage.compute_cm_alpha_fus (ID 100 )\n",
      "INFO    : Installed bundle fastga.models.performances.mission_vector.to_csv (ID 298 )\n",
      "INFO    : Installed bundle fastga.models.aerodynamics.components.fuselage.compute_cn_beta_fuselage (ID 101 )\n",
      "INFO    : Installed bundle fastga.models.aerodynamics.external.xfoil.resources.__init__ (ID 148 )\n",
      "INFO    : Installed bundle fastga.models.propulsion.fuel_propulsion.basicTurbo_prop.basicTP_engine (ID 310 )\n",
      "INFO    : Installed bundle fastga.models.aerodynamics.components.fuselage.compute_cy_beta_fuselage (ID 102 )\n",
      "INFO    : Installed bundle fastga.models.performances.mission.mission (ID 262 )\n",
      "INFO    : Installed bundle fastga.models.performances.mission_vector.__init__ (ID 299 )\n",
      "INFO    : Installed bundle fastga.models.aerodynamics.components.fuselage.__init__ (ID 103 )\n",
      "INFO    : Installed bundle fastga.models.aerodynamics.external.xfoil.xfoil699.__init__ (ID 149 )\n",
      "INFO    : Installed bundle fastga.models.performances.mission.takeoff (ID 271 )\n",
      "INFO    : Installed bundle fastga.models.performances.mission.mission_builder_prep (ID 263 )\n",
      "INFO    : Loaded variable descriptions in fastga.models\n",
      "INFO    : Loading FAST-OAD plugin cs23_he_plugin\n",
      "INFO    : Loading bundles from fastga_he.models\n",
      "WARNING : Redefining 'ton' (<class 'pint.delegates.txt_defparser.plain.UnitDefinition'>)\n"
     ]
    },
    {
     "data": {
      "text/plain": [
       "WindowsPath('C:/Users/a.carotenuto/Documents/GitHub/FAST-OAD-CS23-HE/fast-oad-cs25/FAST-OAD_notebooks/fast-oad-cs25/01_tutorial/workdir/oad_process.yml')"
      ]
     },
     "execution_count": 2,
     "metadata": {},
     "output_type": "execute_result"
    }
   ],
   "source": [
    "oad.generate_configuration_file(\n",
    "    CONFIGURATION_FILE, overwrite=True, distribution_name=\"fast-oad-cs25\"\n",
    ")\n",
    "\n",
    "# The above generated configuration uses the quick and simple Breguet module to compute performances.\n",
    "# If you want to use the more accurate, much more CPU-costly time-step integration, uncomment and run\n",
    "# the next line:\n",
    "# shutil.copy(pth.join(DATA_FOLDER_PATH, \"oad_process_timestep_mission.yml\"), CONFIGURATION_FILE)"
   ]
  },
  {
   "cell_type": "markdown",
   "metadata": {},
   "source": [
    "You can now checkout the generated [configuration file](./workdir/oad_process.yml)."
   ]
  },
  {
   "cell_type": "markdown",
   "metadata": {},
   "source": [
    "In this configuration file, we have specified an input file name 'problem_inputs.xml'. We can ask FAST-OAD to generate the inputs of the default model with the CeRAS parameters as default values:"
   ]
  },
  {
   "cell_type": "code",
   "execution_count": 3,
   "metadata": {
    "tags": []
   },
   "outputs": [
    {
     "ename": "FastTooManySubmodelsError",
     "evalue": "Submodel requirement \"service.aerodynamics.polar\" needs a choice among following candidates: ['fastoad.submodel.aerodynamics.polar.as_float', 'fastoad.submodel.aerodynamics.polar.legacy']",
     "output_type": "error",
     "traceback": [
      "\u001b[1;31m---------------------------------------------------------------------------\u001b[0m",
      "\u001b[1;31mFastTooManySubmodelsError\u001b[0m                 Traceback (most recent call last)",
      "Cell \u001b[1;32mIn[3], line 1\u001b[0m\n\u001b[1;32m----> 1\u001b[0m \u001b[43moad\u001b[49m\u001b[38;5;241;43m.\u001b[39;49m\u001b[43mgenerate_inputs\u001b[49m\u001b[43m(\u001b[49m\u001b[43mCONFIGURATION_FILE\u001b[49m\u001b[43m,\u001b[49m\u001b[43m \u001b[49m\u001b[43mSOURCE_FILE\u001b[49m\u001b[43m,\u001b[49m\u001b[43m \u001b[49m\u001b[43moverwrite\u001b[49m\u001b[38;5;241;43m=\u001b[39;49m\u001b[38;5;28;43;01mTrue\u001b[39;49;00m\u001b[43m)\u001b[49m\n",
      "File \u001b[1;32m~\\AppData\\Local\\anaconda3\\envs\\FAST-OAD-CS23-HE\\lib\\site-packages\\fastoad\\cmd\\api.py:328\u001b[0m, in \u001b[0;36mgenerate_inputs\u001b[1;34m(configuration_file_path, source_data_path, source_data_path_schema, overwrite)\u001b[0m\n\u001b[0;32m    326\u001b[0m     conf\u001b[38;5;241m.\u001b[39mwrite_needed_inputs(source_data_path, VariableLegacy1XmlFormatter())\n\u001b[0;32m    327\u001b[0m \u001b[38;5;28;01melse\u001b[39;00m:\n\u001b[1;32m--> 328\u001b[0m     \u001b[43mconf\u001b[49m\u001b[38;5;241;43m.\u001b[39;49m\u001b[43mwrite_needed_inputs\u001b[49m\u001b[43m(\u001b[49m\u001b[43msource_data_path\u001b[49m\u001b[43m)\u001b[49m\n\u001b[0;32m    330\u001b[0m _LOGGER\u001b[38;5;241m.\u001b[39minfo(\u001b[38;5;124m\"\u001b[39m\u001b[38;5;124mProblem inputs written in \u001b[39m\u001b[38;5;132;01m%s\u001b[39;00m\u001b[38;5;124m\"\u001b[39m, input_file_path)\n\u001b[0;32m    331\u001b[0m \u001b[38;5;28;01mreturn\u001b[39;00m conf\u001b[38;5;241m.\u001b[39minput_file_path\n",
      "File \u001b[1;32m~\\AppData\\Local\\anaconda3\\envs\\FAST-OAD-CS23-HE\\lib\\site-packages\\fastoad\\io\\configuration\\configuration.py:244\u001b[0m, in \u001b[0;36mFASTOADProblemConfigurator.write_needed_inputs\u001b[1;34m(self, source_file_path, source_formatter)\u001b[0m\n\u001b[0;32m    230\u001b[0m \u001b[38;5;250m\u001b[39m\u001b[38;5;124;03m\"\"\"\u001b[39;00m\n\u001b[0;32m    231\u001b[0m \u001b[38;5;124;03mWrites the input file of the problem with unconnected inputs of the\u001b[39;00m\n\u001b[0;32m    232\u001b[0m \u001b[38;5;124;03mconfigured problem.\u001b[39;00m\n\u001b[1;32m   (...)\u001b[0m\n\u001b[0;32m    241\u001b[0m \u001b[38;5;124;03m                         not provided, expected format will be the default one.\u001b[39;00m\n\u001b[0;32m    242\u001b[0m \u001b[38;5;124;03m\"\"\"\u001b[39;00m\n\u001b[0;32m    243\u001b[0m problem \u001b[38;5;241m=\u001b[39m \u001b[38;5;28mself\u001b[39m\u001b[38;5;241m.\u001b[39mget_problem(read_inputs\u001b[38;5;241m=\u001b[39m\u001b[38;5;28;01mFalse\u001b[39;00m)\n\u001b[1;32m--> 244\u001b[0m \u001b[43mproblem\u001b[49m\u001b[38;5;241;43m.\u001b[39;49m\u001b[43mwrite_needed_inputs\u001b[49m\u001b[43m(\u001b[49m\u001b[43msource_file_path\u001b[49m\u001b[43m,\u001b[49m\u001b[43m \u001b[49m\u001b[43msource_formatter\u001b[49m\u001b[43m)\u001b[49m\n",
      "File \u001b[1;32m~\\AppData\\Local\\anaconda3\\envs\\FAST-OAD-CS23-HE\\lib\\site-packages\\fastoad\\openmdao\\problem.py:121\u001b[0m, in \u001b[0;36mFASTOADProblem.write_needed_inputs\u001b[1;34m(self, source_file_path, source_formatter)\u001b[0m\n\u001b[0;32m    106\u001b[0m \u001b[38;5;250m\u001b[39m\u001b[38;5;124;03m\"\"\"\u001b[39;00m\n\u001b[0;32m    107\u001b[0m \u001b[38;5;124;03mWrites the input file of the problem using its unconnected inputs.\u001b[39;00m\n\u001b[0;32m    108\u001b[0m \n\u001b[1;32m   (...)\u001b[0m\n\u001b[0;32m    116\u001b[0m \u001b[38;5;124;03m                         not provided, expected format will be the default one.\u001b[39;00m\n\u001b[0;32m    117\u001b[0m \u001b[38;5;124;03m\"\"\"\u001b[39;00m\n\u001b[0;32m    118\u001b[0m variables \u001b[38;5;241m=\u001b[39m DataFile(\u001b[38;5;28mself\u001b[39m\u001b[38;5;241m.\u001b[39minput_file_path, load_data\u001b[38;5;241m=\u001b[39m\u001b[38;5;28;01mFalse\u001b[39;00m)\n\u001b[0;32m    120\u001b[0m unconnected_inputs \u001b[38;5;241m=\u001b[39m VariableList(\n\u001b[1;32m--> 121\u001b[0m     [variable \u001b[38;5;28;01mfor\u001b[39;00m variable \u001b[38;5;129;01min\u001b[39;00m \u001b[38;5;28;43mself\u001b[39;49m\u001b[38;5;241;43m.\u001b[39;49m\u001b[43manalysis\u001b[49m\u001b[38;5;241m.\u001b[39mproblem_variables \u001b[38;5;28;01mif\u001b[39;00m variable\u001b[38;5;241m.\u001b[39mis_input]\n\u001b[0;32m    122\u001b[0m )\n\u001b[0;32m    124\u001b[0m variables\u001b[38;5;241m.\u001b[39mupdate(\n\u001b[0;32m    125\u001b[0m     unconnected_inputs,\n\u001b[0;32m    126\u001b[0m     add_variables\u001b[38;5;241m=\u001b[39m\u001b[38;5;28;01mTrue\u001b[39;00m,\n\u001b[0;32m    127\u001b[0m )\n\u001b[0;32m    128\u001b[0m \u001b[38;5;28;01mif\u001b[39;00m source_file_path:\n",
      "File \u001b[1;32m~\\AppData\\Local\\anaconda3\\envs\\FAST-OAD-CS23-HE\\lib\\site-packages\\fastoad\\openmdao\\problem.py:187\u001b[0m, in \u001b[0;36mFASTOADProblem.analysis\u001b[1;34m(self)\u001b[0m\n\u001b[0;32m    177\u001b[0m \u001b[38;5;250m\u001b[39m\u001b[38;5;124;03m\"\"\"\u001b[39;00m\n\u001b[0;32m    178\u001b[0m \u001b[38;5;124;03mInformation about inner structure of this problem.\u001b[39;00m\n\u001b[0;32m    179\u001b[0m \n\u001b[1;32m   (...)\u001b[0m\n\u001b[0;32m    184\u001b[0m \u001b[38;5;124;03mTo ensure the analysis is run again, use :meth:`reset_analysis`.\u001b[39;00m\n\u001b[0;32m    185\u001b[0m \u001b[38;5;124;03m\"\"\"\u001b[39;00m\n\u001b[0;32m    186\u001b[0m \u001b[38;5;28;01mif\u001b[39;00m \u001b[38;5;28mself\u001b[39m\u001b[38;5;241m.\u001b[39m_analysis \u001b[38;5;129;01mis\u001b[39;00m \u001b[38;5;28;01mNone\u001b[39;00m:\n\u001b[1;32m--> 187\u001b[0m     \u001b[38;5;28mself\u001b[39m\u001b[38;5;241m.\u001b[39m_analysis \u001b[38;5;241m=\u001b[39m \u001b[43mProblemAnalysis\u001b[49m\u001b[43m(\u001b[49m\u001b[38;5;28;43mself\u001b[39;49m\u001b[43m)\u001b[49m\n\u001b[0;32m    189\u001b[0m \u001b[38;5;28;01mreturn\u001b[39;00m \u001b[38;5;28mself\u001b[39m\u001b[38;5;241m.\u001b[39m_analysis\n",
      "File \u001b[1;32m<string>:8\u001b[0m, in \u001b[0;36m__init__\u001b[1;34m(self, problem)\u001b[0m\n",
      "File \u001b[1;32m~\\AppData\\Local\\anaconda3\\envs\\FAST-OAD-CS23-HE\\lib\\site-packages\\fastoad\\openmdao\\problem.py:386\u001b[0m, in \u001b[0;36mProblemAnalysis.__post_init__\u001b[1;34m(self)\u001b[0m\n\u001b[0;32m    385\u001b[0m \u001b[38;5;28;01mdef\u001b[39;00m\u001b[38;5;250m \u001b[39m\u001b[38;5;21m__post_init__\u001b[39m(\u001b[38;5;28mself\u001b[39m):\n\u001b[1;32m--> 386\u001b[0m     \u001b[38;5;28;43mself\u001b[39;49m\u001b[38;5;241;43m.\u001b[39;49m\u001b[43manalyze\u001b[49m\u001b[43m(\u001b[49m\u001b[43m)\u001b[49m\n",
      "File \u001b[1;32m~\\AppData\\Local\\anaconda3\\envs\\FAST-OAD-CS23-HE\\lib\\site-packages\\fastoad\\openmdao\\problem.py:394\u001b[0m, in \u001b[0;36mProblemAnalysis.analyze\u001b[1;34m(self)\u001b[0m\n\u001b[0;32m    392\u001b[0m problem_copy \u001b[38;5;241m=\u001b[39m get_mpi_safe_problem_copy(\u001b[38;5;28mself\u001b[39m\u001b[38;5;241m.\u001b[39mproblem)\n\u001b[0;32m    393\u001b[0m \u001b[38;5;28;01mtry\u001b[39;00m:\n\u001b[1;32m--> 394\u001b[0m     \u001b[43mom\u001b[49m\u001b[38;5;241;43m.\u001b[39;49m\u001b[43mProblem\u001b[49m\u001b[38;5;241;43m.\u001b[39;49m\u001b[43msetup\u001b[49m\u001b[43m(\u001b[49m\u001b[43mproblem_copy\u001b[49m\u001b[43m)\u001b[49m\n\u001b[0;32m    395\u001b[0m \u001b[38;5;28;01mexcept\u001b[39;00m \u001b[38;5;167;01mRuntimeError\u001b[39;00m:\n\u001b[0;32m    396\u001b[0m     \u001b[38;5;28mself\u001b[39m\u001b[38;5;241m.\u001b[39mundetermined_dynamic_input_vars \u001b[38;5;241m=\u001b[39m \u001b[38;5;28mself\u001b[39m\u001b[38;5;241m.\u001b[39m_get_undetermined_dynamic_vars(problem_copy)\n",
      "File \u001b[1;32m~\\AppData\\Local\\anaconda3\\envs\\FAST-OAD-CS23-HE\\lib\\site-packages\\openmdao\\core\\problem.py:1060\u001b[0m, in \u001b[0;36mProblem.setup\u001b[1;34m(self, check, logger, mode, force_alloc_complex, distributed_vector_class, local_vector_class, derivatives, parent)\u001b[0m\n\u001b[0;32m   1057\u001b[0m \u001b[38;5;28mself\u001b[39m\u001b[38;5;241m.\u001b[39m_metadata[\u001b[38;5;124m'\u001b[39m\u001b[38;5;124mreports_dir\u001b[39m\u001b[38;5;124m'\u001b[39m] \u001b[38;5;241m=\u001b[39m \u001b[38;5;28mself\u001b[39m\u001b[38;5;241m.\u001b[39mget_reports_dir(force\u001b[38;5;241m=\u001b[39m\u001b[38;5;28;01mFalse\u001b[39;00m)\n\u001b[0;32m   1059\u001b[0m \u001b[38;5;28;01mtry\u001b[39;00m:\n\u001b[1;32m-> 1060\u001b[0m     \u001b[43mmodel\u001b[49m\u001b[38;5;241;43m.\u001b[39;49m\u001b[43m_setup\u001b[49m\u001b[43m(\u001b[49m\u001b[43mmodel_comm\u001b[49m\u001b[43m,\u001b[49m\u001b[43m \u001b[49m\u001b[38;5;28;43mself\u001b[39;49m\u001b[38;5;241;43m.\u001b[39;49m\u001b[43m_metadata\u001b[49m\u001b[43m)\u001b[49m\n\u001b[0;32m   1061\u001b[0m \u001b[38;5;28;01mfinally\u001b[39;00m:\n\u001b[0;32m   1062\u001b[0m     \u001b[38;5;66;03m# whenever we're outside of model._setup, static mode should be True so that anything\u001b[39;00m\n\u001b[0;32m   1063\u001b[0m     \u001b[38;5;66;03m# added outside of _setup will persist.\u001b[39;00m\n\u001b[0;32m   1064\u001b[0m     \u001b[38;5;28mself\u001b[39m\u001b[38;5;241m.\u001b[39m_metadata[\u001b[38;5;124m'\u001b[39m\u001b[38;5;124mstatic_mode\u001b[39m\u001b[38;5;124m'\u001b[39m] \u001b[38;5;241m=\u001b[39m \u001b[38;5;28;01mTrue\u001b[39;00m\n",
      "File \u001b[1;32m~\\AppData\\Local\\anaconda3\\envs\\FAST-OAD-CS23-HE\\lib\\site-packages\\openmdao\\core\\group.py:777\u001b[0m, in \u001b[0;36mGroup._setup\u001b[1;34m(self, comm, prob_meta)\u001b[0m\n\u001b[0;32m    774\u001b[0m \u001b[38;5;28mself\u001b[39m\u001b[38;5;241m.\u001b[39m_post_components \u001b[38;5;241m=\u001b[39m \u001b[38;5;28;01mNone\u001b[39;00m\n\u001b[0;32m    776\u001b[0m \u001b[38;5;66;03m# Besides setting up the processors, this method also builds the model hierarchy.\u001b[39;00m\n\u001b[1;32m--> 777\u001b[0m \u001b[38;5;28;43mself\u001b[39;49m\u001b[38;5;241;43m.\u001b[39;49m\u001b[43m_setup_procs\u001b[49m\u001b[43m(\u001b[49m\u001b[38;5;28;43mself\u001b[39;49m\u001b[38;5;241;43m.\u001b[39;49m\u001b[43mpathname\u001b[49m\u001b[43m,\u001b[49m\u001b[43m \u001b[49m\u001b[43mcomm\u001b[49m\u001b[43m,\u001b[49m\u001b[43m \u001b[49m\u001b[38;5;28;43mself\u001b[39;49m\u001b[38;5;241;43m.\u001b[39;49m\u001b[43m_problem_meta\u001b[49m\u001b[43m)\u001b[49m\n\u001b[0;32m    779\u001b[0m prob_meta[\u001b[38;5;124m'\u001b[39m\u001b[38;5;124mconfig_info\u001b[39m\u001b[38;5;124m'\u001b[39m] \u001b[38;5;241m=\u001b[39m _ConfigInfo()\n\u001b[0;32m    781\u001b[0m \u001b[38;5;28;01mtry\u001b[39;00m:\n\u001b[0;32m    782\u001b[0m     \u001b[38;5;66;03m# Recurse model from the bottom to the top for configuring.\u001b[39;00m\n",
      "File \u001b[1;32m~\\AppData\\Local\\anaconda3\\envs\\FAST-OAD-CS23-HE\\lib\\site-packages\\openmdao\\core\\group.py:659\u001b[0m, in \u001b[0;36mGroup._setup_procs\u001b[1;34m(self, pathname, comm, prob_meta)\u001b[0m\n\u001b[0;32m    657\u001b[0m \u001b[38;5;66;03m# Perform recursion\u001b[39;00m\n\u001b[0;32m    658\u001b[0m \u001b[38;5;28;01mfor\u001b[39;00m subsys \u001b[38;5;129;01min\u001b[39;00m \u001b[38;5;28mself\u001b[39m\u001b[38;5;241m.\u001b[39m_subsystems_myproc:\n\u001b[1;32m--> 659\u001b[0m     \u001b[43msubsys\u001b[49m\u001b[38;5;241;43m.\u001b[39;49m\u001b[43m_setup_procs\u001b[49m\u001b[43m(\u001b[49m\u001b[43msubsys\u001b[49m\u001b[38;5;241;43m.\u001b[39;49m\u001b[43mpathname\u001b[49m\u001b[43m,\u001b[49m\u001b[43m \u001b[49m\u001b[43msub_comm\u001b[49m\u001b[43m,\u001b[49m\u001b[43m \u001b[49m\u001b[43mprob_meta\u001b[49m\u001b[43m)\u001b[49m\n\u001b[0;32m    661\u001b[0m \u001b[38;5;66;03m# build a list of local subgroups to speed up later loops\u001b[39;00m\n\u001b[0;32m    662\u001b[0m \u001b[38;5;28mself\u001b[39m\u001b[38;5;241m.\u001b[39m_subgroups_myproc \u001b[38;5;241m=\u001b[39m [s \u001b[38;5;28;01mfor\u001b[39;00m s \u001b[38;5;129;01min\u001b[39;00m \u001b[38;5;28mself\u001b[39m\u001b[38;5;241m.\u001b[39m_subsystems_myproc \u001b[38;5;28;01mif\u001b[39;00m \u001b[38;5;28misinstance\u001b[39m(s, Group)]\n",
      "File \u001b[1;32m~\\AppData\\Local\\anaconda3\\envs\\FAST-OAD-CS23-HE\\lib\\site-packages\\openmdao\\core\\group.py:659\u001b[0m, in \u001b[0;36mGroup._setup_procs\u001b[1;34m(self, pathname, comm, prob_meta)\u001b[0m\n\u001b[0;32m    657\u001b[0m \u001b[38;5;66;03m# Perform recursion\u001b[39;00m\n\u001b[0;32m    658\u001b[0m \u001b[38;5;28;01mfor\u001b[39;00m subsys \u001b[38;5;129;01min\u001b[39;00m \u001b[38;5;28mself\u001b[39m\u001b[38;5;241m.\u001b[39m_subsystems_myproc:\n\u001b[1;32m--> 659\u001b[0m     \u001b[43msubsys\u001b[49m\u001b[38;5;241;43m.\u001b[39;49m\u001b[43m_setup_procs\u001b[49m\u001b[43m(\u001b[49m\u001b[43msubsys\u001b[49m\u001b[38;5;241;43m.\u001b[39;49m\u001b[43mpathname\u001b[49m\u001b[43m,\u001b[49m\u001b[43m \u001b[49m\u001b[43msub_comm\u001b[49m\u001b[43m,\u001b[49m\u001b[43m \u001b[49m\u001b[43mprob_meta\u001b[49m\u001b[43m)\u001b[49m\n\u001b[0;32m    661\u001b[0m \u001b[38;5;66;03m# build a list of local subgroups to speed up later loops\u001b[39;00m\n\u001b[0;32m    662\u001b[0m \u001b[38;5;28mself\u001b[39m\u001b[38;5;241m.\u001b[39m_subgroups_myproc \u001b[38;5;241m=\u001b[39m [s \u001b[38;5;28;01mfor\u001b[39;00m s \u001b[38;5;129;01min\u001b[39;00m \u001b[38;5;28mself\u001b[39m\u001b[38;5;241m.\u001b[39m_subsystems_myproc \u001b[38;5;28;01mif\u001b[39;00m \u001b[38;5;28misinstance\u001b[39m(s, Group)]\n",
      "File \u001b[1;32m~\\AppData\\Local\\anaconda3\\envs\\FAST-OAD-CS23-HE\\lib\\site-packages\\openmdao\\core\\group.py:604\u001b[0m, in \u001b[0;36mGroup._setup_procs\u001b[1;34m(self, pathname, comm, prob_meta)\u001b[0m\n\u001b[0;32m    601\u001b[0m     \u001b[38;5;28mself\u001b[39m\u001b[38;5;241m.\u001b[39m_group_inputs[n] \u001b[38;5;241m=\u001b[39m lst\u001b[38;5;241m.\u001b[39mcopy()\n\u001b[0;32m    603\u001b[0m \u001b[38;5;66;03m# Call setup function for this group.\u001b[39;00m\n\u001b[1;32m--> 604\u001b[0m \u001b[38;5;28;43mself\u001b[39;49m\u001b[38;5;241;43m.\u001b[39;49m\u001b[43msetup\u001b[49m\u001b[43m(\u001b[49m\u001b[43m)\u001b[49m\n\u001b[0;32m    605\u001b[0m \u001b[38;5;28mself\u001b[39m\u001b[38;5;241m.\u001b[39m_setup_check()\n\u001b[0;32m    607\u001b[0m \u001b[38;5;66;03m# need to save these because _setup_var_data can be called multiple times\u001b[39;00m\n\u001b[0;32m    608\u001b[0m \u001b[38;5;66;03m# during the config process and we don't want to wipe out any group_inputs\u001b[39;00m\n\u001b[0;32m    609\u001b[0m \u001b[38;5;66;03m# that were added during self.setup()\u001b[39;00m\n",
      "File \u001b[1;32m~\\AppData\\Local\\anaconda3\\envs\\FAST-OAD-CS23-HE\\lib\\site-packages\\fastoad\\module_management\\service_registry.py:292\u001b[0m, in \u001b[0;36m_RegisterOpenMDAOService._option_decorator.<locals>.setup\u001b[1;34m(self)\u001b[0m\n\u001b[0;32m    289\u001b[0m         \u001b[38;5;28mself\u001b[39m\u001b[38;5;241m.\u001b[39moptions[name] \u001b[38;5;241m=\u001b[39m value\n\u001b[0;32m    291\u001b[0m \u001b[38;5;66;03m# Call the original setup method\u001b[39;00m\n\u001b[1;32m--> 292\u001b[0m \u001b[38;5;28;43mself\u001b[39;49m\u001b[38;5;241;43m.\u001b[39;49m\u001b[43m_setup_before_option_decorator\u001b[49m\u001b[43m(\u001b[49m\u001b[43m)\u001b[49m\n",
      "File \u001b[1;32m~\\AppData\\Local\\anaconda3\\envs\\FAST-OAD-CS23-HE\\lib\\site-packages\\fastoad_cs25\\models\\aerodynamics\\aerodynamics_high_speed.py:67\u001b[0m, in \u001b[0;36mAerodynamicsHighSpeed.setup\u001b[1;34m(self)\u001b[0m\n\u001b[0;32m     60\u001b[0m \u001b[38;5;28mself\u001b[39m\u001b[38;5;241m.\u001b[39madd_subsystem(\n\u001b[0;32m     61\u001b[0m     \u001b[38;5;124m\"\u001b[39m\u001b[38;5;124mcd_comp\u001b[39m\u001b[38;5;124m\"\u001b[39m, RegisterSubmodel\u001b[38;5;241m.\u001b[39mget_submodel(SERVICE_CD_COMPRESSIBILITY), promotes\u001b[38;5;241m=\u001b[39m[\u001b[38;5;124m\"\u001b[39m\u001b[38;5;124m*\u001b[39m\u001b[38;5;124m\"\u001b[39m]\n\u001b[0;32m     62\u001b[0m )\n\u001b[0;32m     63\u001b[0m \u001b[38;5;28mself\u001b[39m\u001b[38;5;241m.\u001b[39madd_subsystem(\n\u001b[0;32m     64\u001b[0m     \u001b[38;5;124m\"\u001b[39m\u001b[38;5;124mcd_trim\u001b[39m\u001b[38;5;124m\"\u001b[39m, RegisterSubmodel\u001b[38;5;241m.\u001b[39mget_submodel(SERVICE_CD_TRIM), promotes\u001b[38;5;241m=\u001b[39m[\u001b[38;5;124m\"\u001b[39m\u001b[38;5;124m*\u001b[39m\u001b[38;5;124m\"\u001b[39m]\n\u001b[0;32m     65\u001b[0m )\n\u001b[0;32m     66\u001b[0m \u001b[38;5;28mself\u001b[39m\u001b[38;5;241m.\u001b[39madd_subsystem(\n\u001b[1;32m---> 67\u001b[0m     \u001b[38;5;124m\"\u001b[39m\u001b[38;5;124mget_polar\u001b[39m\u001b[38;5;124m\"\u001b[39m, \u001b[43mRegisterSubmodel\u001b[49m\u001b[38;5;241;43m.\u001b[39;49m\u001b[43mget_submodel\u001b[49m\u001b[43m(\u001b[49m\u001b[43mSERVICE_POLAR\u001b[49m\u001b[43m)\u001b[49m, promotes\u001b[38;5;241m=\u001b[39m[\u001b[38;5;124m\"\u001b[39m\u001b[38;5;124m*\u001b[39m\u001b[38;5;124m\"\u001b[39m]\n\u001b[0;32m     68\u001b[0m )\n\u001b[0;32m     69\u001b[0m \u001b[38;5;28mself\u001b[39m\u001b[38;5;241m.\u001b[39madd_subsystem(\n\u001b[0;32m     70\u001b[0m     \u001b[38;5;124m\"\u001b[39m\u001b[38;5;124mcompute_AoA\u001b[39m\u001b[38;5;124m\"\u001b[39m, RegisterSubmodel\u001b[38;5;241m.\u001b[39mget_submodel(SERVICE_CL_ALPHA), promotes\u001b[38;5;241m=\u001b[39m[\u001b[38;5;124m\"\u001b[39m\u001b[38;5;124m*\u001b[39m\u001b[38;5;124m\"\u001b[39m]\n\u001b[0;32m     71\u001b[0m )\n\u001b[0;32m     72\u001b[0m \u001b[38;5;28mself\u001b[39m\u001b[38;5;241m.\u001b[39madd_subsystem(\n\u001b[0;32m     73\u001b[0m     \u001b[38;5;124m\"\u001b[39m\u001b[38;5;124mcompute_alpha\u001b[39m\u001b[38;5;124m\"\u001b[39m,\n\u001b[0;32m     74\u001b[0m     RegisterSubmodel\u001b[38;5;241m.\u001b[39mget_submodel(SERVICE_ALPHA),\n\u001b[0;32m     75\u001b[0m     promotes\u001b[38;5;241m=\u001b[39m[\u001b[38;5;124m\"\u001b[39m\u001b[38;5;124m*\u001b[39m\u001b[38;5;124m\"\u001b[39m],\n\u001b[0;32m     76\u001b[0m )\n",
      "File \u001b[1;32m~\\AppData\\Local\\anaconda3\\envs\\FAST-OAD-CS23-HE\\lib\\site-packages\\fastoad\\module_management\\service_registry.py:479\u001b[0m, in \u001b[0;36mRegisterSubmodel.get_submodel\u001b[1;34m(cls, service_id, options)\u001b[0m\n\u001b[0;32m    477\u001b[0m         \u001b[38;5;28;01mraise\u001b[39;00m FastNoSubmodelFoundError(service_id)\n\u001b[0;32m    478\u001b[0m     \u001b[38;5;28;01mif\u001b[39;00m \u001b[38;5;28mlen\u001b[39m(submodel_ids) \u001b[38;5;241m>\u001b[39m \u001b[38;5;241m1\u001b[39m:\n\u001b[1;32m--> 479\u001b[0m         \u001b[38;5;28;01mraise\u001b[39;00m FastTooManySubmodelsError(service_id, submodel_ids)\n\u001b[0;32m    481\u001b[0m     submodel_id \u001b[38;5;241m=\u001b[39m submodel_ids[\u001b[38;5;241m0\u001b[39m]\n\u001b[0;32m    483\u001b[0m \u001b[38;5;28;01mif\u001b[39;00m submodel_id:\n",
      "\u001b[1;31mFastTooManySubmodelsError\u001b[0m: Submodel requirement \"service.aerodynamics.polar\" needs a choice among following candidates: ['fastoad.submodel.aerodynamics.polar.as_float', 'fastoad.submodel.aerodynamics.polar.legacy']"
     ]
    }
   ],
   "source": [
    "oad.generate_inputs(CONFIGURATION_FILE, SOURCE_FILE, overwrite=True)"
   ]
  },
  {
   "cell_type": "markdown",
   "metadata": {},
   "source": [
    "You can now checkout the generated [input file](./workdir/problem_inputs.xml). As shown previously in the user file architecture, the values in this file can be modified by the user and will be considered by FAST-OAD when executing a computational process."
   ]
  },
  {
   "cell_type": "markdown",
   "metadata": {},
   "source": [
    "A useful feature that FAST-OAD provides is to list the outputs of the model defined in the configuration file:"
   ]
  },
  {
   "cell_type": "code",
   "execution_count": null,
   "metadata": {
    "scrolled": true,
    "tags": []
   },
   "outputs": [],
   "source": [
    "oad.list_variables(CONFIGURATION_FILE)"
   ]
  },
  {
   "cell_type": "markdown",
   "metadata": {},
   "source": [
    "Another useful feature is to list the modules of the model defined in the configuration file:"
   ]
  },
  {
   "cell_type": "code",
   "execution_count": null,
   "metadata": {},
   "outputs": [],
   "source": [
    "oad.list_modules(CONFIGURATION_FILE)\n",
    "# api.list_modules(CONFIGURATION_FILE, verbose=True) # Use this line instead of the previous one for detailed information (text format only)"
   ]
  },
  {
   "cell_type": "markdown",
   "metadata": {},
   "source": [
    "Another useful feature is the [N2 diagram](http://openmdao.org/twodocs/versions/latest/basic_guide/make_n2.html) visualization available in OpenMDAO to see the structure of the model:"
   ]
  },
  {
   "cell_type": "code",
   "execution_count": null,
   "metadata": {},
   "outputs": [],
   "source": [
    "from IPython.display import IFrame\n",
    "\n",
    "N2_FILE = pth.join(WORK_FOLDER_PATH, \"n2.html\")\n",
    "oad.write_n2(CONFIGURATION_FILE, N2_FILE, overwrite=True)\n",
    "\n",
    "IFrame(src=N2_FILE, width=\"100%\", height=\"500px\")"
   ]
  },
  {
   "cell_type": "markdown",
   "metadata": {},
   "source": [
    "Alternatively, you can use [WhatsOpt](https://github.com/OneraHub/WhatsOpt-Doc#whatsopt-documentation) as a web service to generate the XDSM of the problem.\n",
    "\n",
    "*This command requires internet access and can take some time (~ 1 minute on the first run), so it is currently deactivated, but feel free to uncomment these lines.*"
   ]
  },
  {
   "cell_type": "code",
   "execution_count": null,
   "metadata": {},
   "outputs": [],
   "source": [
    "# XDSM_FILE = pth.join(WORK_FOLDER_PATH, 'xdsm.html')\n",
    "# oad.write_xdsm(CONFIGURATION_FILE, XDSM_FILE, overwrite=True)\n",
    "# from IPython.display import IFrame\n",
    "# IFrame(src=XDSM_FILE, width='100%', height='500px')"
   ]
  },
  {
   "cell_type": "markdown",
   "metadata": {},
   "source": [
    "## 2. Running your first MDA"
   ]
  },
  {
   "cell_type": "markdown",
   "metadata": {},
   "source": [
    "### CeRAS\n",
    "Here we run an MDA, that is solving the multidisciplinary couplings using the different nested solvers in the model, without running the optimization problem even if it is defined in the configuration file.\n",
    "\n",
    "*(This run should take around 10 seconds)*"
   ]
  },
  {
   "cell_type": "code",
   "execution_count": null,
   "metadata": {
    "scrolled": true,
    "tags": []
   },
   "outputs": [],
   "source": [
    "eval_problem = oad.evaluate_problem(CONFIGURATION_FILE, overwrite=True)"
   ]
  },
  {
   "cell_type": "markdown",
   "metadata": {},
   "source": [
    "> _**Note**: the warning you see at end of computation is normal. FAST-OAD allows to define validity domain for each model, and the propulsion model has been validated for a certain range of turbine inlet temperature (a.k.a. T4). The T4 value we use is slightly outside the validated range, hence the warning. The check of validity domain issues warnings as soon as a value is outside the bounds, but in the end, it's up to the user to decide if the problem is real or not, though it may require a certain knowledge about the used models.  \n",
    "> In this case, the model has been validated for T4 between 1400K and 1600K and using it for a value of 1633K can be considered as OK._\n",
    "\n",
    "Let's save these results. We will use them in the next notebook, that shows some post-processing utilities."
   ]
  },
  {
   "cell_type": "code",
   "execution_count": null,
   "metadata": {},
   "outputs": [],
   "source": [
    "OUTPUT_FILE = pth.join(WORK_FOLDER_PATH, \"problem_outputs.xml\")\n",
    "CeRAS_OUTPUT_FILE = pth.join(WORK_FOLDER_PATH, \"problem_outputs_CeRAS_2750nm_mda.xml\")\n",
    "shutil.copy(OUTPUT_FILE, CeRAS_OUTPUT_FILE)\n",
    "MISSION_FILE = pth.join(WORK_FOLDER_PATH, \"flight_points.csv\")\n",
    "CeRAS_MISSION_FILE = pth.join(WORK_FOLDER_PATH, \"mission_CeRAS_2750nm_mda.csv\")\n",
    "shutil.copy(MISSION_FILE, CeRAS_MISSION_FILE)"
   ]
  },
  {
   "cell_type": "markdown",
   "metadata": {},
   "source": [
    "The `variable-viewer` provides a way to inspect the content of the XML file. The dropdown lists above the table allow to filter the displayed variable."
   ]
  },
  {
   "cell_type": "code",
   "execution_count": null,
   "metadata": {},
   "outputs": [],
   "source": [
    "oad.variable_viewer(OUTPUT_FILE)"
   ]
  },
  {
   "cell_type": "markdown",
   "metadata": {},
   "source": [
    "### CeRAS for 800 nm range\n",
    "Here we run an MDA but we change one of the Top Level Aircraft Requirement (TLAR): the range. We choose a 800 nm range instead of the 2750 nm of the CeRAS. For that we use the `VariableViewer` tool on the input file to change the range (do not forget to save!). Just like this:\n",
    "![variable_viewer](./img/variable_viewer_change_range.gif)"
   ]
  },
  {
   "cell_type": "code",
   "execution_count": null,
   "metadata": {},
   "outputs": [],
   "source": [
    "INPUT_FILE = pth.join(WORK_FOLDER_PATH, \"problem_inputs.xml\")\n",
    "oad.variable_viewer(INPUT_FILE)"
   ]
  },
  {
   "cell_type": "markdown",
   "metadata": {},
   "source": [
    "You can also do this operation through Python like this:"
   ]
  },
  {
   "cell_type": "code",
   "execution_count": null,
   "metadata": {},
   "outputs": [],
   "source": [
    "input_data = oad.DataFile(INPUT_FILE)\n",
    "input_data[\"data:TLAR:range\"].value = 800.0\n",
    "input_data.save()"
   ]
  },
  {
   "cell_type": "markdown",
   "metadata": {},
   "source": [
    "Now that the range has been changed, we run again the MDA.\n",
    "\n",
    "*(This run should take around 10 seconds)*"
   ]
  },
  {
   "cell_type": "code",
   "execution_count": null,
   "metadata": {
    "scrolled": true,
    "tags": []
   },
   "outputs": [],
   "source": [
    "eval_problem = oad.evaluate_problem(CONFIGURATION_FILE, overwrite=True)"
   ]
  },
  {
   "cell_type": "markdown",
   "metadata": {},
   "source": [
    "Let's save again these new results, for post-processing them in next notebook."
   ]
  },
  {
   "cell_type": "code",
   "execution_count": null,
   "metadata": {},
   "outputs": [],
   "source": [
    "OUTPUT_FILE = pth.join(WORK_FOLDER_PATH, \"problem_outputs.xml\")\n",
    "CeRAS_800nm_OUTPUT_FILE = pth.join(WORK_FOLDER_PATH, \"problem_outputs_CeRAS_800nm_mda.xml\")\n",
    "shutil.copy(OUTPUT_FILE, CeRAS_800nm_OUTPUT_FILE)\n",
    "MISSION_FILE = pth.join(WORK_FOLDER_PATH, \"flight_points.csv\")\n",
    "CeRAS_800nm_MISSION_FILE = pth.join(WORK_FOLDER_PATH, \"mission_CeRAS_800nm_mda.csv\")\n",
    "shutil.copy(MISSION_FILE, CeRAS_800nm_MISSION_FILE)"
   ]
  },
  {
   "cell_type": "markdown",
   "metadata": {},
   "source": [
    "## 3. Running your first MDO\n",
    "\n",
    "## CeRAS 2750 nm optimization\n",
    "\n",
    "It is possible to run an optimization problem on top of your analysis. Thus, you can choose to set some global inputs as design variables, and global outputs as constraints or the objective. Here is an example given in the default configuration file that aims at:\n",
    "- minimizing the fuel consumption for the mission (objective),\n",
    "- with respect to the wing aspect ratio (design variables),\n",
    "- subject to a wing span limit (constraints).\n",
    "\n",
    "The last part of the configuration file .yaml is where this optimization problem is defined:\n",
    "\n",
    "```yaml\n",
    "optimization:  # This section is needed only if optimization process is run\n",
    "  design_variables:\n",
    "    - name: data:geometry:wing:aspect_ratio\n",
    "      lower: 9.0\n",
    "      upper: 18.0\n",
    "  constraints:\n",
    "    - name: data:geometry:wing:span\n",
    "      upper: 60.0\n",
    "  objective:\n",
    "    - name: data:mission:sizing:needed_block_fuel\n",
    "      scaler: 1.e-4\n",
    "```\n",
    "\n",
    "Note that we need to use [scaling](https://openmdao.org/twodocs/versions/latest/features/core_features/defining_components/scaling.html) on the objective (fuel mass for the mission) so that it has the same order of magnitude than the design variable (wing aspect ratio) by adding the line `scaler = 1e-4`. Without this the optimizer might not detect that the steps it makes on the wing aspect ratio has an effect on decreasing the fuel mass and could result in an early stop.\n",
    "\n",
    "\n",
    "*(This run should take around 3 minutes)*"
   ]
  },
  {
   "cell_type": "code",
   "execution_count": null,
   "metadata": {},
   "outputs": [],
   "source": [
    "# Set back the inputs from the reference CeRAS 2750 nm\n",
    "oad.generate_inputs(CONFIGURATION_FILE, SOURCE_FILE, overwrite=True)"
   ]
  },
  {
   "cell_type": "markdown",
   "metadata": {},
   "source": [
    "To visualize and edit the optimization problem definition (present in the configuration file .yml) you can use the `optimization_viewer` tool. If design variables or constraints have active bounds they are yellow whereas they are red if they are violated. Modifiying the `Initial Value` will modify the input file defined in the configuration file .yml whereas `Value` corresponds to the value found in the output file defined in the configuration file (here it is the 800 nm MDA run)."
   ]
  },
  {
   "cell_type": "code",
   "execution_count": null,
   "metadata": {},
   "outputs": [],
   "source": [
    "oad.optimization_viewer(CONFIGURATION_FILE)"
   ]
  },
  {
   "cell_type": "code",
   "execution_count": null,
   "metadata": {
    "scrolled": true,
    "tags": []
   },
   "outputs": [],
   "source": [
    "optim_problem = oad.optimize_problem(CONFIGURATION_FILE, overwrite=True)"
   ]
  },
  {
   "cell_type": "markdown",
   "metadata": {},
   "source": [
    "Let's save these results:"
   ]
  },
  {
   "cell_type": "code",
   "execution_count": null,
   "metadata": {},
   "outputs": [],
   "source": [
    "OUTPUT_FILE = pth.join(WORK_FOLDER_PATH, \"problem_outputs.xml\")\n",
    "CeRAS_OPT_OUTPUT_FILE = pth.join(WORK_FOLDER_PATH, \"problem_outputs_CeRAS_2750nm_mdo.xml\")\n",
    "shutil.copy(OUTPUT_FILE, CeRAS_OPT_OUTPUT_FILE)\n",
    "MISSION_FILE = pth.join(WORK_FOLDER_PATH, \"flight_points.csv\")\n",
    "CeRAS_OPT_MISSION_FILE = pth.join(WORK_FOLDER_PATH, \"mission_CeRAS_2750nm_mdo.csv\")\n",
    "shutil.copy(MISSION_FILE, CeRAS_OPT_MISSION_FILE)"
   ]
  },
  {
   "cell_type": "markdown",
   "metadata": {},
   "source": [
    "The `optimizer_viewer` offers a convenient summary of the optimization result:"
   ]
  },
  {
   "cell_type": "code",
   "execution_count": null,
   "metadata": {},
   "outputs": [],
   "source": [
    "oad.optimization_viewer(CONFIGURATION_FILE)"
   ]
  },
  {
   "cell_type": "markdown",
   "metadata": {},
   "source": [
    "We see that the optimizer finds a compromise between a smaller induced drag (higher aspect ratio) and a heavier wing.\n",
    "\n",
    "**Note: Finding such compromise on real aircraft is still a subject of research. Please take this result as informational.**"
   ]
  },
  {
   "cell_type": "markdown",
   "metadata": {},
   "source": [
    "You can use the `VariableViewer` tool to see the optimization results for all variables of the system by loading the .xml output file:"
   ]
  },
  {
   "cell_type": "code",
   "execution_count": null,
   "metadata": {},
   "outputs": [],
   "source": [
    "RESULT_FILE = pth.join(WORK_FOLDER_PATH, \"problem_outputs.xml\")"
   ]
  },
  {
   "cell_type": "code",
   "execution_count": null,
   "metadata": {},
   "outputs": [],
   "source": [
    "oad.variable_viewer(RESULT_FILE)"
   ]
  },
  {
   "cell_type": "code",
   "execution_count": null,
   "metadata": {},
   "outputs": [],
   "source": []
  }
 ],
 "metadata": {
  "kernelspec": {
   "display_name": "Python 3 (ipykernel)",
   "language": "python",
   "name": "python3"
  },
  "language_info": {
   "codemirror_mode": {
    "name": "ipython",
    "version": 3
   },
   "file_extension": ".py",
   "mimetype": "text/x-python",
   "name": "python",
   "nbconvert_exporter": "python",
   "pygments_lexer": "ipython3",
   "version": "3.10.16"
  }
 },
 "nbformat": 4,
 "nbformat_minor": 4
}
